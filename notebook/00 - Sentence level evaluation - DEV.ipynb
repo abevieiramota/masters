{
 "cells": [
  {
   "cell_type": "code",
   "execution_count": 1,
   "metadata": {},
   "outputs": [
    {
     "data": {
      "text/html": [
       "<style>.container { width:100% !important; }</style>"
      ],
      "text/plain": [
       "<IPython.core.display.HTML object>"
      ]
     },
     "metadata": {},
     "output_type": "display_data"
    }
   ],
   "source": [
    "from IPython.core.display import display, HTML\n",
    "display(HTML(\"<style>.container { width:100% !important; }</style>\"))"
   ]
  },
  {
   "cell_type": "code",
   "execution_count": 2,
   "metadata": {},
   "outputs": [],
   "source": [
    "from nltk.translate.bleu_score import sentence_bleu, SmoothingFunction\n",
    "import pandas as pd\n",
    "pd.set_option('display.max_colwidth', 1000)\n",
    "import os\n",
    "import sys\n",
    "sys.path.extend(['../evaluation'])\n",
    "from evaluate import model_preprocessed_filepath, normalize_text\n",
    "import glob\n",
    "from matplotlib import pyplot as plt\n",
    "import math\n",
    "%matplotlib inline"
   ]
  },
  {
   "cell_type": "code",
   "execution_count": 3,
   "metadata": {},
   "outputs": [],
   "source": [
    "chencherry = SmoothingFunction().method2\n",
    "\n",
    "def get_score(refs, hyp, weights=[.25, .25, .25, .25]):\n",
    "    \n",
    "    return sentence_bleu([r.split() for r in refs], \n",
    "                          hyp.split(), \n",
    "                          weights=weights,\n",
    "                          smoothing_function=chencherry)\n",
    "\n",
    "def get_scores(filepath, subset='all-cat'):\n",
    "    \n",
    "    references_files = [f'../evaluation/references/dev/{subset}_reference{i}.lex' for i in range(3)]\n",
    "    hypothesis_file = filepath\n",
    "\n",
    "    scores = []\n",
    "    hypothesis = []\n",
    "    references = []\n",
    "\n",
    "    with open(references_files[0], 'r', encoding='utf-8') as ref0,\\\n",
    "         open(references_files[1], 'r', encoding='utf-8') as ref1,\\\n",
    "         open(references_files[2], 'r', encoding='utf-8') as ref2,\\\n",
    "         open(hypothesis_file, 'r', encoding='utf-8') as hyp:\n",
    "\n",
    "\n",
    "        for h, r0, r1, r2 in zip(hyp, ref0, ref1, ref2):\n",
    "\n",
    "            references.append((normalize_text(r0[:-1]), normalize_text(r1[:-1]), normalize_text(r2[:-1])))\n",
    "            hypothesis.append(normalize_text(h[:-1]))\n",
    "\n",
    "    for hyp, refs in zip(hypothesis, references):\n",
    "\n",
    "        score = get_score(refs, hyp)\n",
    "\n",
    "        scores.append(score)\n",
    "        \n",
    "    return scores, hypothesis, references"
   ]
  },
  {
   "cell_type": "markdown",
   "metadata": {},
   "source": [
    "# Menores scores"
   ]
  },
  {
   "cell_type": "code",
   "execution_count": 39,
   "metadata": {},
   "outputs": [],
   "source": [
    "models = [os.path.basename(s) for s in glob.glob('../data/models/dev/*')]\n",
    "\n",
    "models_data = {}\n",
    "\n",
    "for model in models:\n",
    "    \n",
    "    sentence_bleu_filepath = f'../data/models/dev/{model}/sentence_bleu.txt'\n",
    "    try:\n",
    "        model_texts_filepath = model_preprocessed_filepath(model, 'dev', 'all-cat')\n",
    "    except:\n",
    "        continue\n",
    "    \n",
    "    if os.path.isfile(sentence_bleu_filepath):\n",
    "        with open(sentence_bleu_filepath, 'r', encoding='utf-8') as f:\n",
    "            scores = [float(l[:-1]) for l in f.readlines()]\n",
    "        with open(model_texts_filepath, 'r', encoding='utf-8') as f:\n",
    "            hypothesis = [l[:-1] for l in f.readlines()]\n",
    "    else:\n",
    "        scores, hypothesis, _ = get_scores(model_texts_filepath, 'all-cat')\n",
    "\n",
    "        with open(sentence_bleu_filepath, 'w', encoding='utf-8') as f:\n",
    "            for score in scores:\n",
    "                f.write(f'{score}\\n')\n",
    "    \n",
    "    models_data[model] = (scores, hypothesis)"
   ]
  },
  {
   "cell_type": "code",
   "execution_count": 95,
   "metadata": {},
   "outputs": [],
   "source": [
    "#adicionar references\n",
    "sys.path.append('../template_model')\n",
    "from reading_thiagos_templates import load_dev, Entry\n",
    "\n",
    "import pickle\n",
    "\n",
    "params = []\n",
    "for m in models:\n",
    "    with open(f'../data/models/dev/{m}/params.pkl', 'rb') as f:\n",
    "        param = pickle.load(f)\n",
    "    params.append(param)\n",
    "params_df = pd.DataFrame(params, index=models)[['max_dp', 'max_sa', 'max_tems']]\n",
    "\n",
    "dev = load_dev()\n",
    "def get_texts(ix, models):\n",
    "    \n",
    "    print(f'ix = {ix}')\n",
    "    \n",
    "    ix_data = []\n",
    "    for l in dev[ix].lexes:\n",
    "        print(normalize_text(l['text']))\n",
    "    for t in dev[ix].triples:\n",
    "        print(f\"<'{t.subject}', '{t.predicate}', '{t.object}'>\")\n",
    "    for model, (scores, hypothesis) in models_data.items():\n",
    "        \n",
    "        if model in models:\n",
    "        \n",
    "            ix_data.append((models[model], scores[ix], hypothesis[ix]))\n",
    "            \n",
    "    df = pd.DataFrame(ix_data, columns=['model', 'bleu', 'text'])\n",
    "    df.set_index('model', inplace=True)\n",
    "    df = pd.merge(df, params_df, left_index=True, right_index=True)\n",
    "    return df.sort_values('bleu', ascending=False)"
   ]
  },
  {
   "cell_type": "code",
   "execution_count": 41,
   "metadata": {},
   "outputs": [],
   "source": [
    "from collections import defaultdict\n",
    "\n",
    "i_dev = defaultdict(list)\n",
    "\n",
    "for i, e in enumerate(dev):\n",
    "    i_dev[len(e.triples)].append(i)"
   ]
  },
  {
   "cell_type": "code",
   "execution_count": 54,
   "metadata": {},
   "outputs": [],
   "source": [
    "from random import Random\n",
    "rnd = Random(135)\n",
    "\n",
    "sample = {n: rnd.sample(iss, 3) for n, iss in i_dev.items()}"
   ]
  },
  {
   "cell_type": "code",
   "execution_count": 108,
   "metadata": {},
   "outputs": [],
   "source": [
    "n = 7\n",
    "iss = sample[n]\n",
    "i = -1"
   ]
  },
  {
   "cell_type": "code",
   "execution_count": 111,
   "metadata": {},
   "outputs": [
    {
     "name": "stdout",
     "output_type": "stream",
     "text": [
      "ix = 858\n",
      "buzz aldrin was born in glen ridge , new jersey and graduated from massachusetts institute of technology in 1963 with a doctorate in science . he was a member of the apollo 11 crew after being selected by nasa in 1963 with william anders as a backup pilot on apollo 11 .\n",
      "buzz aldrin was born in glen ridge , new jersey . he graduated from mit in 1963 with a doctorate in science . he was a fighter pilot and began working for nasa in 1963 . aldrin was a member of apollo 11 , which was run by nasa and william anders was the backup pilot .\n",
      "buzz aldrin was born in glen ridge , new jersey and obtained a doctorate in science from mit in 1963 . he served as a fighter pilot before being hired by nasa in 1963 and serving as a crew member on apollo 11 with backup pilot william anders .\n",
      "<'Buzz_Aldrin', 'birthPlace', 'Glen_Ridge,_New_Jersey'>\n",
      "<'Buzz_Aldrin', 'was a crew member of', 'Apollo_11'>\n",
      "<'Buzz_Aldrin', 'was selected by NASA', '1963'>\n",
      "<'Buzz_Aldrin', 'occupation', 'Fighter_pilot'>\n",
      "<'Buzz_Aldrin', 'almaMater', '\"Massachusetts Institute of Technology, Sc.D. 1963\"'>\n",
      "<'Apollo_11', 'backup pilot', 'William_Anders'>\n",
      "<'Apollo_11', 'operator', 'NASA'>\n"
     ]
    },
    {
     "data": {
      "text/html": [
       "<div>\n",
       "<style scoped>\n",
       "    .dataframe tbody tr th:only-of-type {\n",
       "        vertical-align: middle;\n",
       "    }\n",
       "\n",
       "    .dataframe tbody tr th {\n",
       "        vertical-align: top;\n",
       "    }\n",
       "\n",
       "    .dataframe thead th {\n",
       "        text-align: right;\n",
       "    }\n",
       "</style>\n",
       "<table border=\"1\" class=\"dataframe\">\n",
       "  <thead>\n",
       "    <tr style=\"text-align: right;\">\n",
       "      <th></th>\n",
       "      <th>bleu</th>\n",
       "      <th>text</th>\n",
       "      <th>max_dp</th>\n",
       "      <th>max_sa</th>\n",
       "      <th>max_tems</th>\n",
       "    </tr>\n",
       "    <tr>\n",
       "      <th>model</th>\n",
       "      <th></th>\n",
       "      <th></th>\n",
       "      <th></th>\n",
       "      <th></th>\n",
       "      <th></th>\n",
       "    </tr>\n",
       "  </thead>\n",
       "  <tbody>\n",
       "    <tr>\n",
       "      <th>-4381119412256435544</th>\n",
       "      <td>0.746226</td>\n",
       "      <td>buzz aldrin was born in glen ridge , new jersey . he joined nasa in 1963 . he served as fighter pilot . he graduated from massachusetts institute of technology in 1963 with a doctorate in science . he was a member of apollo 11 operated by nasa , where william anders was a backup pilot .</td>\n",
       "      <td>4</td>\n",
       "      <td>8</td>\n",
       "      <td>4</td>\n",
       "    </tr>\n",
       "    <tr>\n",
       "      <th>2834878568166934838</th>\n",
       "      <td>0.746226</td>\n",
       "      <td>buzz aldrin was born in glen ridge , new jersey . he joined nasa in 1963 . he served as fighter pilot . he graduated from massachusetts institute of technology in 1963 with a doctorate in science . he was a member of apollo 11 operated by nasa , where william anders was a backup pilot .</td>\n",
       "      <td>2</td>\n",
       "      <td>8</td>\n",
       "      <td>4</td>\n",
       "    </tr>\n",
       "    <tr>\n",
       "      <th>-2557963126006473324</th>\n",
       "      <td>0.715181</td>\n",
       "      <td>buzz aldrin was born in glen ridge , new jersey . he joined nasa in 1963 . he served as fighter pilot . he graduated from massachusetts institute of technology in 1963 with a doctorate in science . he was a crew member on apollo 11 , operated by nasa . william anders was an its backup pilot .</td>\n",
       "      <td>4</td>\n",
       "      <td>4</td>\n",
       "      <td>4</td>\n",
       "    </tr>\n",
       "    <tr>\n",
       "      <th>1389612785202597354</th>\n",
       "      <td>0.715181</td>\n",
       "      <td>buzz aldrin was born in glen ridge , new jersey . he joined nasa in 1963 . he served as fighter pilot . he graduated from massachusetts institute of technology in 1963 with a doctorate in science . he was a crew member on apollo 11 , operated by nasa . william anders was an its backup pilot .</td>\n",
       "      <td>2</td>\n",
       "      <td>4</td>\n",
       "      <td>4</td>\n",
       "    </tr>\n",
       "    <tr>\n",
       "      <th>-3733669480039627796</th>\n",
       "      <td>0.704463</td>\n",
       "      <td>buzz aldrin was born in glen ridge , new jersey . he was selected by nasa in 1963 . he served as fighter pilot . he obtained massachusetts institute of technology in 1963 with a doctorate in science . he was a member of nasa operated apollo 11 on which william anders was a backup pilot .</td>\n",
       "      <td>2</td>\n",
       "      <td>8</td>\n",
       "      <td>2</td>\n",
       "    </tr>\n",
       "    <tr>\n",
       "      <th>7659442398283943410</th>\n",
       "      <td>0.692416</td>\n",
       "      <td>buzz aldrin was born in glen ridge , new jersey . he was selected by nasa in 1963 . he obtained massachusetts institute of technology in 1963 with a doctorate in science . he served as fighter pilot . he was a member of nasa operated apollo 11 on which william anders was a backup pilot .</td>\n",
       "      <td>4</td>\n",
       "      <td>8</td>\n",
       "      <td>2</td>\n",
       "    </tr>\n",
       "    <tr>\n",
       "      <th>-4257805808715618848</th>\n",
       "      <td>0.662309</td>\n",
       "      <td>buzz aldrin was born in glen ridge , new jersey . he was selected by nasa in 1963 . he served as fighter pilot . he obtained massachusetts institute of technology in 1963 with a doctorate in science . he was a crew member of nasa operated apollo 11 . its also included william anders .</td>\n",
       "      <td>2</td>\n",
       "      <td>4</td>\n",
       "      <td>2</td>\n",
       "    </tr>\n",
       "    <tr>\n",
       "      <th>6601739722906416414</th>\n",
       "      <td>0.650151</td>\n",
       "      <td>buzz aldrin was born in glen ridge , new jersey . he was selected by nasa in 1963 . he obtained massachusetts institute of technology in 1963 with a doctorate in science . he served as fighter pilot . he was a crew member of nasa operated apollo 11 . its also included william anders .</td>\n",
       "      <td>4</td>\n",
       "      <td>4</td>\n",
       "      <td>2</td>\n",
       "    </tr>\n",
       "  </tbody>\n",
       "</table>\n",
       "</div>"
      ],
      "text/plain": [
       "                          bleu  \\\n",
       "model                            \n",
       "-4381119412256435544  0.746226   \n",
       "2834878568166934838   0.746226   \n",
       "-2557963126006473324  0.715181   \n",
       "1389612785202597354   0.715181   \n",
       "-3733669480039627796  0.704463   \n",
       "7659442398283943410   0.692416   \n",
       "-4257805808715618848  0.662309   \n",
       "6601739722906416414   0.650151   \n",
       "\n",
       "                                                                                                                                                                                                                                                                                                                       text  \\\n",
       "model                                                                                                                                                                                                                                                                                                                         \n",
       "-4381119412256435544        buzz aldrin was born in glen ridge , new jersey . he joined nasa in 1963 . he served as fighter pilot . he graduated from massachusetts institute of technology in 1963 with a doctorate in science . he was a member of apollo 11 operated by nasa , where william anders was a backup pilot .   \n",
       "2834878568166934838         buzz aldrin was born in glen ridge , new jersey . he joined nasa in 1963 . he served as fighter pilot . he graduated from massachusetts institute of technology in 1963 with a doctorate in science . he was a member of apollo 11 operated by nasa , where william anders was a backup pilot .   \n",
       "-2557963126006473324  buzz aldrin was born in glen ridge , new jersey . he joined nasa in 1963 . he served as fighter pilot . he graduated from massachusetts institute of technology in 1963 with a doctorate in science . he was a crew member on apollo 11 , operated by nasa . william anders was an its backup pilot .   \n",
       "1389612785202597354   buzz aldrin was born in glen ridge , new jersey . he joined nasa in 1963 . he served as fighter pilot . he graduated from massachusetts institute of technology in 1963 with a doctorate in science . he was a crew member on apollo 11 , operated by nasa . william anders was an its backup pilot .   \n",
       "-3733669480039627796       buzz aldrin was born in glen ridge , new jersey . he was selected by nasa in 1963 . he served as fighter pilot . he obtained massachusetts institute of technology in 1963 with a doctorate in science . he was a member of nasa operated apollo 11 on which william anders was a backup pilot .   \n",
       "7659442398283943410        buzz aldrin was born in glen ridge , new jersey . he was selected by nasa in 1963 . he obtained massachusetts institute of technology in 1963 with a doctorate in science . he served as fighter pilot . he was a member of nasa operated apollo 11 on which william anders was a backup pilot .   \n",
       "-4257805808715618848          buzz aldrin was born in glen ridge , new jersey . he was selected by nasa in 1963 . he served as fighter pilot . he obtained massachusetts institute of technology in 1963 with a doctorate in science . he was a crew member of nasa operated apollo 11 . its also included william anders .   \n",
       "6601739722906416414           buzz aldrin was born in glen ridge , new jersey . he was selected by nasa in 1963 . he obtained massachusetts institute of technology in 1963 with a doctorate in science . he served as fighter pilot . he was a crew member of nasa operated apollo 11 . its also included william anders .   \n",
       "\n",
       "                      max_dp  max_sa  max_tems  \n",
       "model                                           \n",
       "-4381119412256435544       4       8         4  \n",
       "2834878568166934838        2       8         4  \n",
       "-2557963126006473324       4       4         4  \n",
       "1389612785202597354        2       4         4  \n",
       "-3733669480039627796       2       8         2  \n",
       "7659442398283943410        4       8         2  \n",
       "-4257805808715618848       2       4         2  \n",
       "6601739722906416414        4       4         2  "
      ]
     },
     "execution_count": 111,
     "metadata": {},
     "output_type": "execute_result"
    }
   ],
   "source": [
    "i += 1\n",
    "get_texts(iss[i], {m: m for m in models})"
   ]
  },
  {
   "cell_type": "code",
   "execution_count": null,
   "metadata": {},
   "outputs": [],
   "source": []
  },
  {
   "cell_type": "code",
   "execution_count": null,
   "metadata": {},
   "outputs": [],
   "source": []
  },
  {
   "cell_type": "code",
   "execution_count": null,
   "metadata": {},
   "outputs": [],
   "source": []
  },
  {
   "cell_type": "code",
   "execution_count": null,
   "metadata": {},
   "outputs": [],
   "source": []
  },
  {
   "cell_type": "code",
   "execution_count": null,
   "metadata": {},
   "outputs": [],
   "source": []
  },
  {
   "cell_type": "code",
   "execution_count": null,
   "metadata": {},
   "outputs": [],
   "source": []
  },
  {
   "cell_type": "code",
   "execution_count": null,
   "metadata": {},
   "outputs": [],
   "source": []
  },
  {
   "cell_type": "code",
   "execution_count": 61,
   "metadata": {},
   "outputs": [
    {
     "data": {
      "text/plain": [
       "0.17391304347826086"
      ]
     },
     "execution_count": 61,
     "metadata": {},
     "output_type": "execute_result"
    }
   ],
   "source": [
    "refs = ['alan shephard died on the 21st of july , 1998 in california ( whose senator was dianne feinstein ) .', 'dianne feinstein is a senator in california where alan shepard died on july 21 1998 .']\n",
    "hyp1 = 'alan shepard died in california . alan shepard died on 1998 - 07 - 21 . the senator representing california was dianne feinstein .'\n",
    "hyp2 = 'alan shepard died in california on 1998 - 07 - 21 . the senator representing california was dianne feinstein .'\n",
    "\n",
    "get_score(refs, hyp1, [0, 0, 1.0])"
   ]
  },
  {
   "cell_type": "code",
   "execution_count": 72,
   "metadata": {},
   "outputs": [
    {
     "data": {
      "text/plain": [
       "[(Triple(subject='Alan_Shepard', predicate='deathDate', object='\"1998-07-21\"'),\n",
       "  Triple(subject='Alan_Shepard', predicate='deathPlace', object='California'),\n",
       "  Triple(subject='California', predicate='senators', object='Dianne_Feinstein'))]"
      ]
     },
     "execution_count": 72,
     "metadata": {},
     "output_type": "execute_result"
    }
   ],
   "source": [
    "dev[403].lexes[1]['sorted_triples']"
   ]
  },
  {
   "cell_type": "code",
   "execution_count": 71,
   "metadata": {},
   "outputs": [
    {
     "data": {
      "text/plain": [
       "'Astronaut'"
      ]
     },
     "execution_count": 71,
     "metadata": {},
     "output_type": "execute_result"
    }
   ],
   "source": [
    "dev[403].category"
   ]
  },
  {
   "cell_type": "code",
   "execution_count": 66,
   "metadata": {},
   "outputs": [
    {
     "data": {
      "text/plain": [
       "0.15789473684210523"
      ]
     },
     "execution_count": 66,
     "metadata": {},
     "output_type": "execute_result"
    }
   ],
   "source": [
    "get_score(refs, hyp2, [0, 0, 1.0])"
   ]
  },
  {
   "cell_type": "code",
   "execution_count": 29,
   "metadata": {},
   "outputs": [
    {
     "data": {
      "text/plain": [
       "0.2082198320914845"
      ]
     },
     "execution_count": 29,
     "metadata": {},
     "output_type": "execute_result"
    }
   ],
   "source": [
    "get_score(refs, hyp2)"
   ]
  },
  {
   "cell_type": "code",
   "execution_count": null,
   "metadata": {},
   "outputs": [],
   "source": []
  },
  {
   "cell_type": "code",
   "execution_count": 14,
   "metadata": {},
   "outputs": [],
   "source": [
    "models_names = {'-5304774152169464302': 'gold', '8562436464462099980': 'best', '-4478499061069106480': 'worst', '-7111541801870592395': '2nd worst'}"
   ]
  },
  {
   "cell_type": "code",
   "execution_count": 9,
   "metadata": {},
   "outputs": [
    {
     "data": {
      "text/html": [
       "<div>\n",
       "<style scoped>\n",
       "    .dataframe tbody tr th:only-of-type {\n",
       "        vertical-align: middle;\n",
       "    }\n",
       "\n",
       "    .dataframe tbody tr th {\n",
       "        vertical-align: top;\n",
       "    }\n",
       "\n",
       "    .dataframe thead th {\n",
       "        text-align: right;\n",
       "    }\n",
       "</style>\n",
       "<table border=\"1\" class=\"dataframe\">\n",
       "  <thead>\n",
       "    <tr style=\"text-align: right;\">\n",
       "      <th></th>\n",
       "      <th>0</th>\n",
       "      <th>1</th>\n",
       "      <th>2</th>\n",
       "    </tr>\n",
       "  </thead>\n",
       "  <tbody>\n",
       "    <tr>\n",
       "      <th>0</th>\n",
       "      <td>reference</td>\n",
       "      <td>1.0</td>\n",
       "      <td>Doug Moench was the creator of the comic character Ballistic, who has the alternative name Kelvin Mao.</td>\n",
       "    </tr>\n",
       "    <tr>\n",
       "      <th>1</th>\n",
       "      <td>reference</td>\n",
       "      <td>1.0</td>\n",
       "      <td>Ballistic, ( also known as Kelvin Mao ), is a fictional comic superhero created by Doug Moench.</td>\n",
       "    </tr>\n",
       "    <tr>\n",
       "      <th>2</th>\n",
       "      <td>reference</td>\n",
       "      <td>1.0</td>\n",
       "      <td>Doug Moench created the character Ballistic, the fictional superhero whose alter ego is Kelvin Mao.</td>\n",
       "    </tr>\n",
       "  </tbody>\n",
       "</table>\n",
       "</div>"
      ],
      "text/plain": [
       "           0    1  \\\n",
       "0  reference  1.0   \n",
       "1  reference  1.0   \n",
       "2  reference  1.0   \n",
       "\n",
       "                                                                                                        2  \n",
       "0  Doug Moench was the creator of the comic character Ballistic, who has the alternative name Kelvin Mao.  \n",
       "1         Ballistic, ( also known as Kelvin Mao ), is a fictional comic superhero created by Doug Moench.  \n",
       "2     Doug Moench created the character Ballistic, the fictional superhero whose alter ego is Kelvin Mao.  "
      ]
     },
     "execution_count": 9,
     "metadata": {},
     "output_type": "execute_result"
    }
   ],
   "source": [
    "get_texts(279, models_names)"
   ]
  },
  {
   "cell_type": "code",
   "execution_count": 46,
   "metadata": {},
   "outputs": [
    {
     "data": {
      "text/html": [
       "<div>\n",
       "<style scoped>\n",
       "    .dataframe tbody tr th:only-of-type {\n",
       "        vertical-align: middle;\n",
       "    }\n",
       "\n",
       "    .dataframe tbody tr th {\n",
       "        vertical-align: top;\n",
       "    }\n",
       "\n",
       "    .dataframe thead th {\n",
       "        text-align: right;\n",
       "    }\n",
       "</style>\n",
       "<table border=\"1\" class=\"dataframe\">\n",
       "  <thead>\n",
       "    <tr style=\"text-align: right;\">\n",
       "      <th></th>\n",
       "      <th>0</th>\n",
       "      <th>1</th>\n",
       "      <th>2</th>\n",
       "    </tr>\n",
       "  </thead>\n",
       "  <tbody>\n",
       "    <tr>\n",
       "      <th>0</th>\n",
       "      <td>reference</td>\n",
       "      <td>1.000000</td>\n",
       "      <td>1634: The Ram Rebellion was followed by 1635: The Cannon Law.</td>\n",
       "    </tr>\n",
       "    <tr>\n",
       "      <th>1</th>\n",
       "      <td>reference</td>\n",
       "      <td>1.000000</td>\n",
       "      <td>1634: The Ram Rebellion is followed by 1635: The Cannon Law.</td>\n",
       "    </tr>\n",
       "    <tr>\n",
       "      <th>2</th>\n",
       "      <td>worst</td>\n",
       "      <td>0.568285</td>\n",
       "      <td>d . c . 1634 the ram rebellion was followed up by 1635 : the cannon law .</td>\n",
       "    </tr>\n",
       "    <tr>\n",
       "      <th>4</th>\n",
       "      <td>2nd worst</td>\n",
       "      <td>0.568285</td>\n",
       "      <td>d . c . 1634 the ram rebellion was followed up by 1635 : the cannon law .</td>\n",
       "    </tr>\n",
       "    <tr>\n",
       "      <th>3</th>\n",
       "      <td>gold</td>\n",
       "      <td>0.553341</td>\n",
       "      <td>1635 : the cannon law is the sequel to 1634 : the ram rebellion .</td>\n",
       "    </tr>\n",
       "    <tr>\n",
       "      <th>5</th>\n",
       "      <td>best</td>\n",
       "      <td>0.553341</td>\n",
       "      <td>1635 : the cannon law is the sequel to 1634 : the ram rebellion .</td>\n",
       "    </tr>\n",
       "  </tbody>\n",
       "</table>\n",
       "</div>"
      ],
      "text/plain": [
       "           0         1  \\\n",
       "0  reference  1.000000   \n",
       "1  reference  1.000000   \n",
       "2      worst  0.568285   \n",
       "4  2nd worst  0.568285   \n",
       "3       gold  0.553341   \n",
       "5       best  0.553341   \n",
       "\n",
       "                                                                           2  \n",
       "0              1634: The Ram Rebellion was followed by 1635: The Cannon Law.  \n",
       "1               1634: The Ram Rebellion is followed by 1635: The Cannon Law.  \n",
       "2  d . c . 1634 the ram rebellion was followed up by 1635 : the cannon law .  \n",
       "4  d . c . 1634 the ram rebellion was followed up by 1635 : the cannon law .  \n",
       "3          1635 : the cannon law is the sequel to 1634 : the ram rebellion .  \n",
       "5          1635 : the cannon law is the sequel to 1634 : the ram rebellion .  "
      ]
     },
     "execution_count": 46,
     "metadata": {},
     "output_type": "execute_result"
    }
   ],
   "source": [
    "get_texts(200, models_names)"
   ]
  },
  {
   "cell_type": "markdown",
   "metadata": {},
   "source": [
    "# Análise qualitativa"
   ]
  },
  {
   "cell_type": "code",
   "execution_count": 20,
   "metadata": {},
   "outputs": [
    {
     "name": "stdout",
     "output_type": "stream",
     "text": [
      "<'Georgia_(U.S._state)', 'country', 'United_States'>\n"
     ]
    },
    {
     "data": {
      "text/html": [
       "<div>\n",
       "<style scoped>\n",
       "    .dataframe tbody tr th:only-of-type {\n",
       "        vertical-align: middle;\n",
       "    }\n",
       "\n",
       "    .dataframe tbody tr th {\n",
       "        vertical-align: top;\n",
       "    }\n",
       "\n",
       "    .dataframe thead th {\n",
       "        text-align: right;\n",
       "    }\n",
       "</style>\n",
       "<table border=\"1\" class=\"dataframe\">\n",
       "  <thead>\n",
       "    <tr style=\"text-align: right;\">\n",
       "      <th></th>\n",
       "      <th>0</th>\n",
       "      <th>1</th>\n",
       "      <th>2</th>\n",
       "    </tr>\n",
       "  </thead>\n",
       "  <tbody>\n",
       "    <tr>\n",
       "      <th>0</th>\n",
       "      <td>reference</td>\n",
       "      <td>1.000000</td>\n",
       "      <td>The state of Georgia is in the U.S.</td>\n",
       "    </tr>\n",
       "    <tr>\n",
       "      <th>1</th>\n",
       "      <td>reference</td>\n",
       "      <td>1.000000</td>\n",
       "      <td>Georgia is in the country of United States.</td>\n",
       "    </tr>\n",
       "    <tr>\n",
       "      <th>2</th>\n",
       "      <td>reference</td>\n",
       "      <td>1.000000</td>\n",
       "      <td>The state of Georgia is located within the United States.</td>\n",
       "    </tr>\n",
       "    <tr>\n",
       "      <th>4</th>\n",
       "      <td>gold</td>\n",
       "      <td>0.428882</td>\n",
       "      <td>georgia is the united states .</td>\n",
       "    </tr>\n",
       "    <tr>\n",
       "      <th>6</th>\n",
       "      <td>best</td>\n",
       "      <td>0.428882</td>\n",
       "      <td>georgia is the united states .</td>\n",
       "    </tr>\n",
       "    <tr>\n",
       "      <th>3</th>\n",
       "      <td>worst</td>\n",
       "      <td>0.344607</td>\n",
       "      <td>georgia , united states is located within the country of a united states national .</td>\n",
       "    </tr>\n",
       "    <tr>\n",
       "      <th>5</th>\n",
       "      <td>2nd worst</td>\n",
       "      <td>0.344607</td>\n",
       "      <td>georgia , united states is located within the country of a united states national .</td>\n",
       "    </tr>\n",
       "  </tbody>\n",
       "</table>\n",
       "</div>"
      ],
      "text/plain": [
       "           0         1  \\\n",
       "0  reference  1.000000   \n",
       "1  reference  1.000000   \n",
       "2  reference  1.000000   \n",
       "4       gold  0.428882   \n",
       "6       best  0.428882   \n",
       "3      worst  0.344607   \n",
       "5  2nd worst  0.344607   \n",
       "\n",
       "                                                                                     2  \n",
       "0                                                  The state of Georgia is in the U.S.  \n",
       "1                                          Georgia is in the country of United States.  \n",
       "2                            The state of Georgia is located within the United States.  \n",
       "4                                                       georgia is the united states .  \n",
       "6                                                       georgia is the united states .  \n",
       "3  georgia , united states is located within the country of a united states national .  \n",
       "5  georgia , united states is located within the country of a united states national .  "
      ]
     },
     "execution_count": 20,
     "metadata": {},
     "output_type": "execute_result"
    }
   ],
   "source": [
    "get_texts(100, models_names)"
   ]
  },
  {
   "cell_type": "code",
   "execution_count": 88,
   "metadata": {},
   "outputs": [],
   "source": [
    "i = 500"
   ]
  },
  {
   "cell_type": "code",
   "execution_count": 94,
   "metadata": {},
   "outputs": [
    {
     "name": "stdout",
     "output_type": "stream",
     "text": [
      "<'Akron_Summit_Assault', 'ground', 'St._Vincent–St._Mary_High_School'>\n",
      "<'Akron_Summit_Assault', 'league', 'Premier_Development_League'>\n",
      "<'Premier_Development_League', 'champions', 'K-W_United_FC'>\n"
     ]
    },
    {
     "data": {
      "text/html": [
       "<div>\n",
       "<style scoped>\n",
       "    .dataframe tbody tr th:only-of-type {\n",
       "        vertical-align: middle;\n",
       "    }\n",
       "\n",
       "    .dataframe tbody tr th {\n",
       "        vertical-align: top;\n",
       "    }\n",
       "\n",
       "    .dataframe thead th {\n",
       "        text-align: right;\n",
       "    }\n",
       "</style>\n",
       "<table border=\"1\" class=\"dataframe\">\n",
       "  <thead>\n",
       "    <tr style=\"text-align: right;\">\n",
       "      <th></th>\n",
       "      <th>0</th>\n",
       "      <th>1</th>\n",
       "      <th>2</th>\n",
       "    </tr>\n",
       "  </thead>\n",
       "  <tbody>\n",
       "    <tr>\n",
       "      <th>0</th>\n",
       "      <td>reference</td>\n",
       "      <td>1.000000</td>\n",
       "      <td>St Vincent-St Mary High School is the ground of Akron Summit Assault who play in the Premier Development League, of which K-W United FC have been champions.</td>\n",
       "    </tr>\n",
       "    <tr>\n",
       "      <th>1</th>\n",
       "      <td>reference</td>\n",
       "      <td>1.000000</td>\n",
       "      <td>Akron Summit Assault who play in the Premier Development League, won by K-W United FC, have their home ground at St. Vincent-St. Mary High School.</td>\n",
       "    </tr>\n",
       "    <tr>\n",
       "      <th>2</th>\n",
       "      <td>reference</td>\n",
       "      <td>1.000000</td>\n",
       "      <td>St Vincent-St Mary High School is the ground of Akron Summit Assault who play in the Premier Development League which K-W United FC have been champions of.</td>\n",
       "    </tr>\n",
       "    <tr>\n",
       "      <th>3</th>\n",
       "      <td>best</td>\n",
       "      <td>0.748615</td>\n",
       "      <td>st . vincent - st . mary high school is the ground of akron summit assault , that play in the premier development league , which champions were k - w united fc .</td>\n",
       "    </tr>\n",
       "  </tbody>\n",
       "</table>\n",
       "</div>"
      ],
      "text/plain": [
       "           0         1  \\\n",
       "0  reference  1.000000   \n",
       "1  reference  1.000000   \n",
       "2  reference  1.000000   \n",
       "3       best  0.748615   \n",
       "\n",
       "                                                                                                                                                                   2  \n",
       "0       St Vincent-St Mary High School is the ground of Akron Summit Assault who play in the Premier Development League, of which K-W United FC have been champions.  \n",
       "1                 Akron Summit Assault who play in the Premier Development League, won by K-W United FC, have their home ground at St. Vincent-St. Mary High School.  \n",
       "2        St Vincent-St Mary High School is the ground of Akron Summit Assault who play in the Premier Development League which K-W United FC have been champions of.  \n",
       "3  st . vincent - st . mary high school is the ground of akron summit assault , that play in the premier development league , which champions were k - w united fc .  "
      ]
     },
     "execution_count": 94,
     "metadata": {},
     "output_type": "execute_result"
    }
   ],
   "source": [
    "i += 1\n",
    "get_texts(i, {'8562436464462099980': 'best'})"
   ]
  },
  {
   "cell_type": "code",
   "execution_count": 95,
   "metadata": {},
   "outputs": [],
   "source": [
    "import pickle\n",
    "\n",
    "with open('../data/pretrained_models/template_db_train', 'rb') as f:\n",
    "    tdb = pickle.load(f)"
   ]
  },
  {
   "cell_type": "code",
   "execution_count": 96,
   "metadata": {},
   "outputs": [
    {
     "data": {
      "text/plain": [
       "4633"
      ]
     },
     "execution_count": 96,
     "metadata": {},
     "output_type": "execute_result"
    }
   ],
   "source": [
    "len(tdb)"
   ]
  },
  {
   "cell_type": "code",
   "execution_count": 99,
   "metadata": {},
   "outputs": [],
   "source": [
    "keys = list(tdb.keys())"
   ]
  },
  {
   "cell_type": "code",
   "execution_count": 100,
   "metadata": {},
   "outputs": [
    {
     "data": {
      "text/plain": [
       "('Airport', (Triple(subject='slot0', predicate='cityServed', object='slot1'),))"
      ]
     },
     "execution_count": 100,
     "metadata": {},
     "output_type": "execute_result"
    }
   ],
   "source": [
    "keys[0]"
   ]
  },
  {
   "cell_type": "code",
   "execution_count": 197,
   "metadata": {},
   "outputs": [],
   "source": [
    "i = 455"
   ]
  },
  {
   "cell_type": "code",
   "execution_count": 208,
   "metadata": {},
   "outputs": [
    {
     "data": {
      "text/plain": [
       "{Structure: (Triple(subject='slot0', predicate='status', object='slot1'), Triple(subject='slot0', predicate='nationality', object='slot2'))\n",
       " Text: {slot0-0-N}, now {slot1-0-N}, was born in {slot2-0-D}.}"
      ]
     },
     "execution_count": 208,
     "metadata": {},
     "output_type": "execute_result"
    }
   ],
   "source": [
    "i = i + 1\n",
    "tdb[keys[i]]"
   ]
  },
  {
   "cell_type": "code",
   "execution_count": 170,
   "metadata": {},
   "outputs": [
    {
     "name": "stdout",
     "output_type": "stream",
     "text": [
      "<slot0, demonym, slot1>\n",
      "{slot1-0-N} are from {slot0-0-N}.\n",
      "{slot1-0-N} are the people who reside in {slot0-0-N}.\n",
      "{slot1-0-N} is the name given to people from {slot0-0-N}.\n",
      "{slot1-0-N} is the name for the people of {slot0-0-N}.\n"
     ]
    }
   ],
   "source": [
    "print('<slot0, demonym, slot1>')\n",
    "for t in tdb[keys[i]]:\n",
    "    print(t.template_text)"
   ]
  },
  {
   "cell_type": "code",
   "execution_count": null,
   "metadata": {},
   "outputs": [],
   "source": []
  }
 ],
 "metadata": {
  "kernelspec": {
   "display_name": "Python 3",
   "language": "python",
   "name": "python3"
  },
  "language_info": {
   "codemirror_mode": {
    "name": "ipython",
    "version": 3
   },
   "file_extension": ".py",
   "mimetype": "text/x-python",
   "name": "python",
   "nbconvert_exporter": "python",
   "pygments_lexer": "ipython3",
   "version": "3.7.3"
  }
 },
 "nbformat": 4,
 "nbformat_minor": 2
}
