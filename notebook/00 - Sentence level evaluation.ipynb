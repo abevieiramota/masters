{
 "cells": [
  {
   "cell_type": "code",
   "execution_count": 1,
   "metadata": {},
   "outputs": [],
   "source": [
    "from nltk.translate.bleu_score import sentence_bleu, SmoothingFunction\n",
    "import pandas as pd\n",
    "import os\n",
    "os.sys.path.extend(['../evaluation'])\n",
    "from evaluate import model_preprocessed_filepath\n",
    "import glob\n",
    "from matplotlib import pyplot as plt\n",
    "import math\n",
    "%matplotlib inline\n",
    "\n",
    "chencherry = SmoothingFunction().method2"
   ]
  },
  {
   "cell_type": "code",
   "execution_count": 2,
   "metadata": {},
   "outputs": [],
   "source": [
    "def get_scores(filepath, set_='test', subset='old-cat'):\n",
    "    \n",
    "    references_files = [f'../evaluation/references/{set_}/{subset}_reference{i}.lex' for i in range(3)]\n",
    "    hypothesis_file = filepath\n",
    "\n",
    "    scores = []\n",
    "    hypothesis = []\n",
    "    references = []\n",
    "\n",
    "    with open(references_files[0], 'r', encoding='utf-8') as ref0,\\\n",
    "         open(references_files[1], 'r', encoding='utf-8') as ref1,\\\n",
    "         open(references_files[2], 'r', encoding='utf-8') as ref2,\\\n",
    "         open(hypothesis_file, 'r', encoding='utf-8') as hyp:\n",
    "\n",
    "\n",
    "        for h, r0, r1, r2 in zip(hyp, ref0, ref1, ref2):\n",
    "\n",
    "            references.append((r0[:-1], r1[:-1], r2[:-1]))\n",
    "            hypothesis.append(h[:-1])\n",
    "\n",
    "    for hyp, refs in zip(hypothesis, references):\n",
    "\n",
    "        score = sentence_bleu([r.split() for r in refs], \n",
    "                              hyp.split(), \n",
    "                              smoothing_function=chencherry)\n",
    "\n",
    "        scores.append(score)\n",
    "        \n",
    "    return scores, hypothesis, references\n",
    "    \n",
    "\n",
    "def plot_hist_bleu(filepath, ax, subset='all-cat'):\n",
    "\n",
    "    scores, _, _ = get_scores(filepath, 'test', subset)\n",
    "    \n",
    "    s = pd.Series(scores)\n",
    "    \n",
    "    s.hist(ax=ax, bins=40)"
   ]
  },
  {
   "cell_type": "code",
   "execution_count": 3,
   "metadata": {},
   "outputs": [],
   "source": [
    "def plot_all_models_hist_bleu(subset):\n",
    "    \n",
    "    models = [os.path.basename(s) for s in glob.glob('../data/models/test/*')]\n",
    "\n",
    "    n_models = len(models)\n",
    "    n_columns = 3\n",
    "    n_rows = math.ceil(n_models / 3)\n",
    "\n",
    "    fig, axes = plt.subplots(n_rows, n_columns, figsize=(15, 5*n_rows), sharey=True, sharex=True)\n",
    "\n",
    "    for model, ax in zip(models, axes.ravel()):\n",
    "\n",
    "        try:\n",
    "            filepath = model_preprocessed_filepath(model, 'test', subset)\n",
    "        except FileNotFoundError as e:\n",
    "            pass\n",
    "\n",
    "        plot_hist_bleu(filepath, ax, subset)\n",
    "        ax.set_title(model)"
   ]
  },
  {
   "cell_type": "code",
   "execution_count": null,
   "metadata": {},
   "outputs": [],
   "source": [
    "plot_all_models_hist_bleu('old-cat')"
   ]
  },
  {
   "cell_type": "markdown",
   "metadata": {},
   "source": [
    "# Menores scores"
   ]
  },
  {
   "cell_type": "code",
   "execution_count": 23,
   "metadata": {},
   "outputs": [],
   "source": [
    "models = ['abe2', 'adaptcentre', 'BIU_Chimera_v1']\n",
    "\n",
    "sc = {}\n",
    "hyps = {}\n",
    "\n",
    "for model in models:\n",
    "    \n",
    "    scores, hypothesis, _ = get_scores(model_preprocessed_filepath(model, 'test', 'old-cat'))\n",
    "    \n",
    "    sc[f'{model}_bleu'] = scores\n",
    "    hyps[f'{model}_hyp'] = hypothesis\n",
    "    \n",
    "data = {}\n",
    "data.update(sc)\n",
    "data.update(hyps)"
   ]
  },
  {
   "cell_type": "code",
   "execution_count": 24,
   "metadata": {},
   "outputs": [],
   "source": [
    "import pandas as pd\n",
    "\n",
    "pd.set_option('display.max_colwidth', 1000)\n",
    "\n",
    "df = pd.DataFrame(data)\n",
    "\n",
    "scores_cols = list(sc.keys())\n",
    "\n",
    "df['mean_bleu'] = df[scores_cols].mean(axis=1)\n",
    "df['min_bleu'] = df[scores_cols].min(axis=1)\n",
    "df['max_bleu'] = df[scores_cols].max(axis=1)\n",
    "df['range_bleu'] = df['max_bleu'] - df['min_bleu']\n",
    "df['abe2_to_max'] = df['max_bleu'] - df['abe2_bleu']"
   ]
  },
  {
   "cell_type": "code",
   "execution_count": 14,
   "metadata": {},
   "outputs": [
    {
     "data": {
      "text/html": [
       "<div>\n",
       "<style scoped>\n",
       "    .dataframe tbody tr th:only-of-type {\n",
       "        vertical-align: middle;\n",
       "    }\n",
       "\n",
       "    .dataframe tbody tr th {\n",
       "        vertical-align: top;\n",
       "    }\n",
       "\n",
       "    .dataframe thead th {\n",
       "        text-align: right;\n",
       "    }\n",
       "</style>\n",
       "<table border=\"1\" class=\"dataframe\">\n",
       "  <thead>\n",
       "    <tr style=\"text-align: right;\">\n",
       "      <th></th>\n",
       "      <th>abe2_bleu</th>\n",
       "      <th>adaptcentre_bleu</th>\n",
       "      <th>BIU_Chimera_v1_bleu</th>\n",
       "      <th>abe2_hyp</th>\n",
       "      <th>adaptcentre_hyp</th>\n",
       "      <th>BIU_Chimera_v1_hyp</th>\n",
       "      <th>mean_bleu</th>\n",
       "      <th>min_bleu</th>\n",
       "      <th>max_bleu</th>\n",
       "      <th>range_bleu</th>\n",
       "      <th>abe2_to_max</th>\n",
       "    </tr>\n",
       "  </thead>\n",
       "  <tbody>\n",
       "    <tr>\n",
       "      <th>33</th>\n",
       "      <td>0.361328</td>\n",
       "      <td>0.555524</td>\n",
       "      <td>1.000000</td>\n",
       "      <td>sardar ayaz sadiq is the leader of the country .</td>\n",
       "      <td>sardar ayaz sadiq is the leader of pakistan .</td>\n",
       "      <td>the leader of pakistan is sardar ayaz sadiq .</td>\n",
       "      <td>0.638951</td>\n",
       "      <td>0.361328</td>\n",
       "      <td>1.0</td>\n",
       "      <td>0.638672</td>\n",
       "      <td>0.638672</td>\n",
       "    </tr>\n",
       "    <tr>\n",
       "      <th>215</th>\n",
       "      <td>0.335689</td>\n",
       "      <td>1.000000</td>\n",
       "      <td>0.262691</td>\n",
       "      <td>the malay are an ethnic group from malaysia .</td>\n",
       "      <td>malaysian malay is an ethnic group in malaysia .</td>\n",
       "      <td>malaysia ' s ethnic group is malaysian malay .</td>\n",
       "      <td>0.532793</td>\n",
       "      <td>0.262691</td>\n",
       "      <td>1.0</td>\n",
       "      <td>0.737309</td>\n",
       "      <td>0.664311</td>\n",
       "    </tr>\n",
       "    <tr>\n",
       "      <th>157</th>\n",
       "      <td>0.289978</td>\n",
       "      <td>1.000000</td>\n",
       "      <td>1.000000</td>\n",
       "      <td>northbrook , illinois is the birthplace of scott adsit .</td>\n",
       "      <td>scott adsit was born in northbrook , illinois .</td>\n",
       "      <td>scott adsit was born in northbrook , illinois .</td>\n",
       "      <td>0.763326</td>\n",
       "      <td>0.289978</td>\n",
       "      <td>1.0</td>\n",
       "      <td>0.710022</td>\n",
       "      <td>0.710022</td>\n",
       "    </tr>\n",
       "  </tbody>\n",
       "</table>\n",
       "</div>"
      ],
      "text/plain": [
       "     abe2_bleu  adaptcentre_bleu  BIU_Chimera_v1_bleu  \\\n",
       "33    0.361328          0.555524             1.000000   \n",
       "215   0.335689          1.000000             0.262691   \n",
       "157   0.289978          1.000000             1.000000   \n",
       "\n",
       "                                                     abe2_hyp  \\\n",
       "33           sardar ayaz sadiq is the leader of the country .   \n",
       "215             the malay are an ethnic group from malaysia .   \n",
       "157  northbrook , illinois is the birthplace of scott adsit .   \n",
       "\n",
       "                                      adaptcentre_hyp  \\\n",
       "33      sardar ayaz sadiq is the leader of pakistan .   \n",
       "215  malaysian malay is an ethnic group in malaysia .   \n",
       "157   scott adsit was born in northbrook , illinois .   \n",
       "\n",
       "                                  BIU_Chimera_v1_hyp  mean_bleu  min_bleu  \\\n",
       "33     the leader of pakistan is sardar ayaz sadiq .   0.638951  0.361328   \n",
       "215   malaysia ' s ethnic group is malaysian malay .   0.532793  0.262691   \n",
       "157  scott adsit was born in northbrook , illinois .   0.763326  0.289978   \n",
       "\n",
       "     max_bleu  range_bleu  abe2_to_max  \n",
       "33        1.0    0.638672     0.638672  \n",
       "215       1.0    0.737309     0.664311  \n",
       "157       1.0    0.710022     0.710022  "
      ]
     },
     "execution_count": 14,
     "metadata": {},
     "output_type": "execute_result"
    }
   ],
   "source": [
    "df[df.abe2_to_max > 0.5].sample(3)"
   ]
  },
  {
   "cell_type": "code",
   "execution_count": 26,
   "metadata": {},
   "outputs": [
    {
     "data": {
      "text/html": [
       "<div>\n",
       "<style scoped>\n",
       "    .dataframe tbody tr th:only-of-type {\n",
       "        vertical-align: middle;\n",
       "    }\n",
       "\n",
       "    .dataframe tbody tr th {\n",
       "        vertical-align: top;\n",
       "    }\n",
       "\n",
       "    .dataframe thead th {\n",
       "        text-align: right;\n",
       "    }\n",
       "</style>\n",
       "<table border=\"1\" class=\"dataframe\">\n",
       "  <thead>\n",
       "    <tr style=\"text-align: right;\">\n",
       "      <th></th>\n",
       "      <th>abe2_bleu</th>\n",
       "      <th>adaptcentre_bleu</th>\n",
       "      <th>BIU_Chimera_v1_bleu</th>\n",
       "      <th>abe2_hyp</th>\n",
       "      <th>adaptcentre_hyp</th>\n",
       "      <th>BIU_Chimera_v1_hyp</th>\n",
       "      <th>mean_bleu</th>\n",
       "      <th>min_bleu</th>\n",
       "      <th>max_bleu</th>\n",
       "      <th>range_bleu</th>\n",
       "      <th>abe2_to_max</th>\n",
       "    </tr>\n",
       "  </thead>\n",
       "  <tbody>\n",
       "    <tr>\n",
       "      <th>969</th>\n",
       "      <td>0.365607</td>\n",
       "      <td>0.498232</td>\n",
       "      <td>0.51427</td>\n",
       "      <td>william anders was born in british hong kong . william anders was a national of the united states . william anders served as a crew member on apollo 8 . apollo 8 was operated by nasa . buzz aldrin was a backup pilot on the mission with frank borman as a crewman . william anders retired in 1969 - 09 - 01 .</td>\n",
       "      <td>american william anders was born in british hong kong . he was a crew member of the nasa operated apollo 8 along with buzz aldrin and frank borman . william anders retired on september 1st , 1969 .</td>\n",
       "      <td>william anders was a crew member of apollo 8 operated by nasa . william anders is an united states citizen born in british hong kong . william anders retired on september 01st , 1969 . apollo 8 ' s backup pilot was buzz aldrin and frank borman .</td>\n",
       "      <td>0.45937</td>\n",
       "      <td>0.365607</td>\n",
       "      <td>0.51427</td>\n",
       "      <td>0.148663</td>\n",
       "      <td>0.148663</td>\n",
       "    </tr>\n",
       "  </tbody>\n",
       "</table>\n",
       "</div>"
      ],
      "text/plain": [
       "     abe2_bleu  adaptcentre_bleu  BIU_Chimera_v1_bleu  \\\n",
       "969   0.365607          0.498232              0.51427   \n",
       "\n",
       "                                                                                                                                                                                                                                                                                                               abe2_hyp  \\\n",
       "969  william anders was born in british hong kong . william anders was a national of the united states . william anders served as a crew member on apollo 8 . apollo 8 was operated by nasa . buzz aldrin was a backup pilot on the mission with frank borman as a crewman . william anders retired in 1969 - 09 - 01 .   \n",
       "\n",
       "                                                                                                                                                                                           adaptcentre_hyp  \\\n",
       "969  american william anders was born in british hong kong . he was a crew member of the nasa operated apollo 8 along with buzz aldrin and frank borman . william anders retired on september 1st , 1969 .   \n",
       "\n",
       "                                                                                                                                                                                                                                        BIU_Chimera_v1_hyp  \\\n",
       "969  william anders was a crew member of apollo 8 operated by nasa . william anders is an united states citizen born in british hong kong . william anders retired on september 01st , 1969 . apollo 8 ' s backup pilot was buzz aldrin and frank borman .   \n",
       "\n",
       "     mean_bleu  min_bleu  max_bleu  range_bleu  abe2_to_max  \n",
       "969    0.45937  0.365607   0.51427    0.148663     0.148663  "
      ]
     },
     "execution_count": 26,
     "metadata": {},
     "output_type": "execute_result"
    }
   ],
   "source": [
    "df.iloc[[969], :]"
   ]
  },
  {
   "cell_type": "code",
   "execution_count": null,
   "metadata": {},
   "outputs": [],
   "source": []
  },
  {
   "cell_type": "markdown",
   "metadata": {},
   "source": [
    "# Avaliando com textos gerados pelo template"
   ]
  },
  {
   "cell_type": "code",
   "execution_count": 3,
   "metadata": {},
   "outputs": [],
   "source": [
    "import pickle\n",
    "\n",
    "with open('../data/models/abe-2/milhoes_de_textos', 'rb') as f:\n",
    "    references = pickle.load(f)"
   ]
  },
  {
   "cell_type": "code",
   "execution_count": 4,
   "metadata": {},
   "outputs": [],
   "source": [
    "import re\n",
    "\n",
    "c = re.compile(r'\\W')"
   ]
  },
  {
   "cell_type": "code",
   "execution_count": 12,
   "metadata": {},
   "outputs": [],
   "source": [
    "def get_scores(filepath):\n",
    "    \n",
    "    hypothesis_file = filepath\n",
    "\n",
    "    scores = []\n",
    "    hypothesis = []\n",
    "\n",
    "    with open(hypothesis_file, 'r', encoding='utf-8') as hyp:\n",
    "\n",
    "        for h in hyp:\n",
    "            hypothesis.append(h[:-1])\n",
    "\n",
    "    for hyp, refs in zip(hypothesis, references):\n",
    "\n",
    "        score = sentence_bleu([c.split(r) for r in refs], \n",
    "                              c.split(hyp), \n",
    "                              smoothing_function=chencherry)\n",
    "\n",
    "        scores.append(score)\n",
    "        \n",
    "    return scores\n",
    "    \n",
    "\n",
    "def plot_hist_bleu(filepath, ax):\n",
    "\n",
    "    scores = get_scores(filepath)\n",
    "    \n",
    "    s = pd.Series(scores)\n",
    "    \n",
    "    s.hist(ax=ax, bins=40)\n",
    "    \n",
    "def plot_all_models_hist_bleu(subset):\n",
    "    \n",
    "    models = [os.path.basename(s) for s in glob.glob('../data/models/*')]\n",
    "\n",
    "    n_models = len(models)\n",
    "    n_columns = 3\n",
    "    n_rows = math.ceil(n_models / 3)\n",
    "\n",
    "    fig, axes = plt.subplots(n_rows, n_columns, figsize=(15, 5*n_rows), sharey=True, sharex=True)\n",
    "\n",
    "    for model, ax in zip(models, axes.ravel()):\n",
    "\n",
    "        filepath = model_preprocessed_filepath(model, subset)\n",
    "\n",
    "        plot_hist_bleu(filepath, ax)\n",
    "        ax.set_title(model)"
   ]
  },
  {
   "cell_type": "code",
   "execution_count": 16,
   "metadata": {},
   "outputs": [
    {
     "data": {
      "image/png": "[encoded data removed]",
      "text/plain": [
       "<Figure size 1080x1440 with 12 Axes>"
      ]
     },
     "metadata": {
      "needs_background": "light"
     },
     "output_type": "display_data"
    }
   ],
   "source": [
    "plot_all_models_hist_bleu('all-cat')"
   ]
  },
  {
   "cell_type": "code",
   "execution_count": null,
   "metadata": {},
   "outputs": [],
   "source": []
  }
 ],
 "metadata": {
  "kernelspec": {
   "display_name": "Python 3",
   "language": "python",
   "name": "python3"
  },
  "language_info": {
   "codemirror_mode": {
    "name": "ipython",
    "version": 3
   },
   "file_extension": ".py",
   "mimetype": "text/x-python",
   "name": "python",
   "nbconvert_exporter": "python",
   "pygments_lexer": "ipython3",
   "version": "3.7.3"
  }
 },
 "nbformat": 4,
 "nbformat_minor": 2
}
