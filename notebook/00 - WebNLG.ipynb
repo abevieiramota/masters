{
 "cells": [
  {
   "cell_type": "code",
   "execution_count": 1,
   "metadata": {},
   "outputs": [],
   "source": [
    "import sys\n",
    "sys.path.append('../template_model')\n",
    "from reading_thiagos_templates import load_dataset"
   ]
  },
  {
   "cell_type": "markdown",
   "metadata": {},
   "source": [
    "# Load data"
   ]
  },
  {
   "cell_type": "code",
   "execution_count": 2,
   "metadata": {},
   "outputs": [],
   "source": [
    "data = {{'train': 'treinamento',\n",
    "         'dev': 'desenvolvimento',\n",
    "         'test': 'teste'\n",
    "        }[db_name]: load_dataset(db_name) for db_name in ['train', 'dev', 'test']}"
   ]
  },
  {
   "cell_type": "markdown",
   "metadata": {},
   "source": [
    "# Gather statistics"
   ]
  },
  {
   "cell_type": "markdown",
   "metadata": {},
   "source": [
    "\\todo{Apresentar estatísticas sobre os dados da WebNLG - quantidade de triplas distintas, por subconjunto; de lexes, predicados, sujeitos, objetos; quantidade de textos por predicado; predicados mais frequentes; o mesmo com sujeito/objeto}"
   ]
  },
  {
   "cell_type": "markdown",
   "metadata": {},
   "source": [
    "## Quantidade de triplas distintas"
   ]
  },
  {
   "cell_type": "code",
   "execution_count": 3,
   "metadata": {},
   "outputs": [],
   "source": [
    "from more_itertools import flatten\n",
    "import pandas as pd\n",
    "from collections import Counter\n",
    "%matplotlib inline"
   ]
  },
  {
   "cell_type": "code",
   "execution_count": 4,
   "metadata": {},
   "outputs": [],
   "source": [
    "triplas_distintas = {db_name: len(set(flatten(e.triples for e in db))) for db_name, db in data.items()}"
   ]
  },
  {
   "cell_type": "code",
   "execution_count": 5,
   "metadata": {},
   "outputs": [],
   "source": [
    "lexes_distintas = {db_name: len(set(flatten([l['text'] for l in e.lexes] for e in db))) for db_name, db in data.items()}"
   ]
  },
  {
   "cell_type": "code",
   "execution_count": 6,
   "metadata": {},
   "outputs": [],
   "source": [
    "pred_distintos = {db_name: len(set(flatten([t.predicate for t in e.triples] for e in db))) for db_name, db in data.items()}"
   ]
  },
  {
   "cell_type": "code",
   "execution_count": 7,
   "metadata": {},
   "outputs": [],
   "source": [
    "sub_distintos = {db_name: len(set(flatten([t.subject for t in e.triples] for e in db))) for db_name, db in data.items()}"
   ]
  },
  {
   "cell_type": "code",
   "execution_count": 8,
   "metadata": {},
   "outputs": [],
   "source": [
    "obj_distintos = {db_name: len(set(flatten([t.object for t in e.triples] for e in db))) for db_name, db in data.items()}"
   ]
  },
  {
   "cell_type": "code",
   "execution_count": 9,
   "metadata": {},
   "outputs": [],
   "source": [
    "def get_most_freqs(f):\n",
    "    texts_per_f = dict()\n",
    "\n",
    "    for db_name, db in data.items():\n",
    "        n_texts = Counter()\n",
    "        for e in db:\n",
    "            for t in e.triples:\n",
    "                n_texts[f(t)] += len(e.lexes)\n",
    "        texts_per_f[db_name] = pd.Series(n_texts)\n",
    "    \n",
    "    most_freq_f = {db_name: '\\n'.join(top.nlargest(3).index.tolist()) for db_name, top in texts_per_f.items()}\n",
    "    \n",
    "    return texts_per_f, most_freq_f"
   ]
  },
  {
   "cell_type": "code",
   "execution_count": 10,
   "metadata": {},
   "outputs": [],
   "source": [
    "texts_per_predicate, most_freq_predicates = get_most_freqs(lambda t: t.predicate)\n",
    "texts_per_subject, most_freq_subjects = get_most_freqs(lambda t: t.subject)\n",
    "texts_per_object, most_freq_objects = get_most_freqs(lambda t: t.object)"
   ]
  },
  {
   "cell_type": "code",
   "execution_count": 11,
   "metadata": {},
   "outputs": [],
   "source": [
    "median_texts_per_subject = {db_name: s.median() for db_name, s in texts_per_subject.items()}\n",
    "median_texts_per_predicate = {db_name: s.median() for db_name, s in texts_per_predicate.items()}\n",
    "median_texts_per_object = {db_name: s.median() for db_name, s in texts_per_object.items()}"
   ]
  },
  {
   "cell_type": "markdown",
   "metadata": {},
   "source": [
    "# Joining everything"
   ]
  },
  {
   "cell_type": "code",
   "execution_count": 17,
   "metadata": {},
   "outputs": [
    {
     "data": {
      "text/html": [
       "<div>\n",
       "<style scoped>\n",
       "    .dataframe tbody tr th:only-of-type {\n",
       "        vertical-align: middle;\n",
       "    }\n",
       "\n",
       "    .dataframe tbody tr th {\n",
       "        vertical-align: top;\n",
       "    }\n",
       "\n",
       "    .dataframe thead th {\n",
       "        text-align: right;\n",
       "    }\n",
       "</style>\n",
       "<table border=\"1\" class=\"dataframe\">\n",
       "  <thead>\n",
       "    <tr style=\"text-align: right;\">\n",
       "      <th></th>\n",
       "      <th>treinamento</th>\n",
       "      <th>desenvolvimento</th>\n",
       "      <th>teste</th>\n",
       "    </tr>\n",
       "  </thead>\n",
       "  <tbody>\n",
       "    <tr>\n",
       "      <th>Triplas distintas</th>\n",
       "      <td>2090.0</td>\n",
       "      <td>1102.0</td>\n",
       "      <td>2331.0</td>\n",
       "    </tr>\n",
       "    <tr>\n",
       "      <th>Textos de referência distintos</th>\n",
       "      <td>18051.0</td>\n",
       "      <td>2261.0</td>\n",
       "      <td>4922.0</td>\n",
       "    </tr>\n",
       "    <tr>\n",
       "      <th>Sujeitos distintos</th>\n",
       "      <td>430.0</td>\n",
       "      <td>304.0</td>\n",
       "      <td>575.0</td>\n",
       "    </tr>\n",
       "    <tr>\n",
       "      <th>Predicados distintos</th>\n",
       "      <td>246.0</td>\n",
       "      <td>186.0</td>\n",
       "      <td>300.0</td>\n",
       "    </tr>\n",
       "    <tr>\n",
       "      <th>Objetos distintos</th>\n",
       "      <td>1619.0</td>\n",
       "      <td>918.0</td>\n",
       "      <td>1888.0</td>\n",
       "    </tr>\n",
       "    <tr>\n",
       "      <th>Mediana de textos associados a sujeitos</th>\n",
       "      <td>51.0</td>\n",
       "      <td>12.0</td>\n",
       "      <td>14.0</td>\n",
       "    </tr>\n",
       "    <tr>\n",
       "      <th>Mediana de textos associados a predicados</th>\n",
       "      <td>59.0</td>\n",
       "      <td>13.0</td>\n",
       "      <td>15.0</td>\n",
       "    </tr>\n",
       "    <tr>\n",
       "      <th>Mediana de textos associados a objetos</th>\n",
       "      <td>18.0</td>\n",
       "      <td>5.0</td>\n",
       "      <td>5.0</td>\n",
       "    </tr>\n",
       "  </tbody>\n",
       "</table>\n",
       "</div>"
      ],
      "text/plain": [
       "                                           treinamento  desenvolvimento  \\\n",
       "Triplas distintas                               2090.0           1102.0   \n",
       "Textos de referência distintos                 18051.0           2261.0   \n",
       "Sujeitos distintos                               430.0            304.0   \n",
       "Predicados distintos                             246.0            186.0   \n",
       "Objetos distintos                               1619.0            918.0   \n",
       "Mediana de textos associados a sujeitos           51.0             12.0   \n",
       "Mediana de textos associados a predicados         59.0             13.0   \n",
       "Mediana de textos associados a objetos            18.0              5.0   \n",
       "\n",
       "                                            teste  \n",
       "Triplas distintas                          2331.0  \n",
       "Textos de referência distintos             4922.0  \n",
       "Sujeitos distintos                          575.0  \n",
       "Predicados distintos                        300.0  \n",
       "Objetos distintos                          1888.0  \n",
       "Mediana de textos associados a sujeitos      14.0  \n",
       "Mediana de textos associados a predicados    15.0  \n",
       "Mediana de textos associados a objetos        5.0  "
      ]
     },
     "execution_count": 17,
     "metadata": {},
     "output_type": "execute_result"
    }
   ],
   "source": [
    "df = pd.DataFrame([triplas_distintas,\n",
    "              lexes_distintas,\n",
    "              sub_distintos,\n",
    "              pred_distintos,\n",
    "              obj_distintos,\n",
    "              #most_freq_subjects,\n",
    "              #most_freq_predicates,\n",
    "              #most_freq_objects,\n",
    "              median_texts_per_subject,\n",
    "              median_texts_per_predicate,\n",
    "              median_texts_per_object], \n",
    "             index=['Triplas distintas',\n",
    "                    'Textos de referência distintos',\n",
    "                    'Sujeitos distintos',\n",
    "                    'Predicados distintos',\n",
    "                    'Objetos distintos',\n",
    "                    #'Sujeitos mais frequentes',\n",
    "                    #'Predicados mais frequentes',\n",
    "                    #'Objetos mais frequentes',\n",
    "                    'Mediana de textos associados a sujeitos',\n",
    "                    'Mediana de textos associados a predicados',\n",
    "                    'Mediana de textos associados a objetos'])\n",
    "\n",
    "df[['treinamento', 'desenvolvimento', 'teste']]"
   ]
  },
  {
   "cell_type": "code",
   "execution_count": 28,
   "metadata": {},
   "outputs": [
    {
     "name": "stdout",
     "output_type": "stream",
     "text": [
      "\\begin{tabular}{lrrr}\n",
      "\\toprule\n",
      "{} &  treinamento &  desenvolvimento &  teste \\\\\n",
      "\\midrule\n",
      "Triplas distintas                         &         2090 &             1102 &   2331 \\\\\n",
      "Textos de referência distintos            &        18051 &             2261 &   4922 \\\\\n",
      "Sujeitos distintos                        &          430 &              304 &    575 \\\\\n",
      "Predicados distintos                      &          246 &              186 &    300 \\\\\n",
      "Objetos distintos                         &         1619 &              918 &   1888 \\\\\n",
      "Mediana de textos associados a sujeitos   &           51 &               12 &     14 \\\\\n",
      "Mediana de textos associados a predicados &           59 &               13 &     15 \\\\\n",
      "Mediana de textos associados a objetos    &           18 &                5 &      5 \\\\\n",
      "\\bottomrule\n",
      "\\end{tabular}\n",
      "\n"
     ]
    }
   ],
   "source": [
    "print(df[['treinamento', 'desenvolvimento', 'teste']].to_latex(float_format='%.0f'))"
   ]
  },
  {
   "cell_type": "code",
   "execution_count": 21,
   "metadata": {},
   "outputs": [],
   "source": [
    "df.to_latex?"
   ]
  },
  {
   "cell_type": "code",
   "execution_count": null,
   "metadata": {},
   "outputs": [],
   "source": []
  }
 ],
 "metadata": {
  "kernelspec": {
   "display_name": "Python 3",
   "language": "python",
   "name": "python3"
  },
  "language_info": {
   "codemirror_mode": {
    "name": "ipython",
    "version": 3
   },
   "file_extension": ".py",
   "mimetype": "text/x-python",
   "name": "python",
   "nbconvert_exporter": "python",
   "pygments_lexer": "ipython3",
   "version": "3.6.7"
  }
 },
 "nbformat": 4,
 "nbformat_minor": 2
}
