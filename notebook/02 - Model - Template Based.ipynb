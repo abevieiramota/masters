{
 "cells": [
  {
   "cell_type": "code",
   "execution_count": 1,
   "metadata": {},
   "outputs": [],
   "source": [
    "import os\n",
    "import pandas as pd\n",
    "\n",
    "os.sys.path.extend(['../template_model/', '../evaluation'])\n",
    "\n",
    "from evaluate import preprocess_model_to_evaluate\n",
    "from util import preprocess_so, clear_dir\n",
    "from collections import ChainMap, defaultdict, Counter\n",
    "from template_based import JustJoinTemplate, StructureData, SelectTemplate, MakeText\n",
    "import pickle"
   ]
  },
  {
   "cell_type": "code",
   "execution_count": 2,
   "metadata": {},
   "outputs": [],
   "source": [
    "class TemplateBasedModel:\n",
    "    \n",
    "    def __init__(self, template_db, lexicalization_f):\n",
    "        \n",
    "        self.ss = StructureData(template_db, Counter([JustJoinTemplate()]))\n",
    "        self.st = SelectTemplate()\n",
    "        self.mt = MakeText(lexicalization_f=lexicalization_f)\n",
    "    \n",
    "    def predict(self, X):\n",
    "        \n",
    "        result = []\n",
    "        \n",
    "        for x in X:\n",
    "\n",
    "            structured_data = self.ss.structure(x)\n",
    "            selected_templates = self.st.select_template(structured_data)\n",
    "            text = self.mt.make_text(selected_templates, x)\n",
    "\n",
    "            result.append(text)\n",
    "        \n",
    "        return result\n",
    "    \n",
    "    \n",
    "with open('../data/templates/template_db/thiago_template_db', 'rb') as f:\n",
    "    template_db = pickle.load(f)\n",
    "    \n",
    "with open('../data/templates/lexicalization/thiago_lexicalization_db', 'rb') as f:\n",
    "    lexicalization_db = pickle.load(f)\n",
    "    \n",
    "with open('../evaluation/test.pkl', 'rb') as f:\n",
    "    test = pickle.load(f)"
   ]
  },
  {
   "cell_type": "code",
   "execution_count": 3,
   "metadata": {},
   "outputs": [],
   "source": [
    "def lexicalize(s, category, ctx):\n",
    "    \n",
    "    from itertools import islice\n",
    "    \n",
    "    if s in lexicalization_db:\n",
    "        \n",
    "        if category in lexicalization_db[s]:\n",
    "            \n",
    "            lexis = lexicalization_db[s][category]\n",
    "            \n",
    "            return lexis.most_common()[0][0]\n",
    "        else:\n",
    "            return list(islice(lexicalization_db[s].values(), 0, 1))[0].most_common()[0][0]\n",
    "    else:\n",
    "        return preprocess_so(s)\n",
    "    \n",
    "tbm = TemplateBasedModel(template_db=template_db, lexicalization_f=lexicalize)"
   ]
  },
  {
   "cell_type": "code",
   "execution_count": 4,
   "metadata": {},
   "outputs": [],
   "source": [
    "if os.path.isdir('../data/models/abe-1'):\n",
    "    clear_dir('../data/models/abe-1/')\n",
    "else:\n",
    "    os.mkdir('../data/models/abe-1/')\n",
    "\n",
    "with open('../data/models/abe-1/abe-1.txt', 'w', encoding='utf-8') as f:\n",
    "\n",
    "    for text in tbm.predict(test):\n",
    "\n",
    "        f.write(\"{}\\n\".format(text))\n",
    "        \n",
    "preprocess_model_to_evaluate('../data/models/abe-1/abe-1.txt')"
   ]
  },
  {
   "cell_type": "code",
   "execution_count": 14,
   "metadata": {},
   "outputs": [
    {
     "data": {
      "text/plain": [
       "['bacon explosion comes from the united states, whose capital is washington dc and one of whose leaders is john roberts.']"
      ]
     },
     "execution_count": 14,
     "metadata": {},
     "output_type": "execute_result"
    }
   ],
   "source": [
    "tbm.predict([test[549]])"
   ]
  },
  {
   "cell_type": "code",
   "execution_count": 7,
   "metadata": {},
   "outputs": [],
   "source": [
    "from template_based import Structure"
   ]
  },
  {
   "cell_type": "code",
   "execution_count": 15,
   "metadata": {},
   "outputs": [
    {
     "data": {
      "text/plain": [
       "[Bacon_Explosion, \n",
       "\n",
       "\t<country, [\n",
       "\t\t[United_States, \n",
       "\n",
       "\t\t\t<leaderName, [John_Roberts]>,\n",
       "\t\t\t<capital, [Washington,_D.C.]>]]>]"
      ]
     },
     "execution_count": 15,
     "metadata": {},
     "output_type": "execute_result"
    }
   ],
   "source": [
    "Structure.from_triples(test[549]['triples'])"
   ]
  },
  {
   "cell_type": "code",
   "execution_count": 17,
   "metadata": {},
   "outputs": [
    {
     "data": {
      "text/plain": [
       "Counter({Structure: [AGENT-1, \n",
       "         \n",
       "         \t<country, [\n",
       "         \t\t[BRIDGE-1, \n",
       "         \n",
       "         \t\t\t<leaderName, [PATIENT-1]>,\n",
       "         \t\t\t<capital, [PATIENT-2]>]]>]\n",
       "         Text: {AGENT-1} comes from {BRIDGE-1}, whose capital is {PATIENT-2} and one of whose leaders is {PATIENT-1}.: 1,\n",
       "         Structure: [AGENT-1, \n",
       "         \n",
       "         \t<country, [\n",
       "         \t\t[BRIDGE-1, \n",
       "         \n",
       "         \t\t\t<leaderName, [PATIENT-1]>,\n",
       "         \t\t\t<capital, [PATIENT-2]>]]>]\n",
       "         Text: {AGENT-1} comes from {BRIDGE-1} where the leader is {PATIENT-1} and the capital city is {PATIENT-2}.: 1,\n",
       "         Structure: [AGENT-1, \n",
       "         \n",
       "         \t<country, [\n",
       "         \t\t[BRIDGE-1, \n",
       "         \n",
       "         \t\t\t<leaderName, [PATIENT-1]>,\n",
       "         \t\t\t<capital, [PATIENT-2]>]]>]\n",
       "         Text: {AGENT-1} is a dish from {BRIDGE-1} where {PATIENT-1} is a political leader and the capital city is {PATIENT-2}.: 1,\n",
       "         Structure: [AGENT-1, \n",
       "         \n",
       "         \t<country, [\n",
       "         \t\t[BRIDGE-1, \n",
       "         \n",
       "         \t\t\t<leaderName, [PATIENT-1]>,\n",
       "         \t\t\t<capital, [PATIENT-2]>]]>]\n",
       "         Text: {AGENT-1} originates from {BRIDGE-1} where the capital city is {PATIENT-2} and the leader is {PATIENT-1}.: 1,\n",
       "         Structure: [AGENT-1, \n",
       "         \n",
       "         \t<country, [\n",
       "         \t\t[BRIDGE-1, \n",
       "         \n",
       "         \t\t\t<leaderName, [PATIENT-1]>,\n",
       "         \t\t\t<capital, [PATIENT-2]>]]>]\n",
       "         Text: {BRIDGE-1} is the country of {AGENT-1}. {PATIENT-1} is the leader and {PATIENT-2} is {BRIDGE-1} capital .: 1,\n",
       "         Structure: [AGENT-1, \n",
       "         \n",
       "         \t<country, [\n",
       "         \t\t[BRIDGE-1, \n",
       "         \n",
       "         \t\t\t<leaderName, [PATIENT-1]>,\n",
       "         \t\t\t<capital, [PATIENT-2]>]]>]\n",
       "         Text: {AGENT-1} comes from {BRIDGE-1} where {PATIENT-1} is a leader and the capital city is {PATIENT-2}.: 1,\n",
       "         Structure: [AGENT-1, \n",
       "         \n",
       "         \t<country, [\n",
       "         \t\t[BRIDGE-1, \n",
       "         \n",
       "         \t\t\t<leaderName, [PATIENT-1]>,\n",
       "         \t\t\t<capital, [PATIENT-2]>]]>]\n",
       "         Text: {AGENT-1} originates from {BRIDGE-1} where the leader is {PATIENT-1} and the capital is {PATIENT-2}.: 1})"
      ]
     },
     "execution_count": 17,
     "metadata": {},
     "output_type": "execute_result"
    }
   ],
   "source": [
    "template_db[Structure.from_triples(test[549]['triples'])]['Bacon_Explosion']"
   ]
  },
  {
   "cell_type": "code",
   "execution_count": 9,
   "metadata": {},
   "outputs": [
    {
     "data": {
      "text/plain": [
       "[([A_Wizard_of_Mars, \n",
       "  \n",
       "  \t<country, [\n",
       "  \t\t[United_States, \n",
       "  \n",
       "  \t\t\t<ethnicGroup, [Asian_Americans]>,\n",
       "  \t\t\t<capital, [Washington,_D.C.]>]]>], Counter({Structure: [AGENT-1, \n",
       "           \n",
       "           \t<country, [\n",
       "           \t\t[BRIDGE-1, \n",
       "           \n",
       "           \t\t\t<ethnicGroup, [PATIENT-1]>,\n",
       "           \t\t\t<capital, [PATIENT-2]>]]>]\n",
       "           Text: One of the ethnic Groups of {BRIDGE-1} (where the capital city is {PATIENT-2}) is {PATIENT-1}. Additionally , {AGENT-1} originates from {BRIDGE-1}.: 1,\n",
       "           Structure: [AGENT-1, \n",
       "           \n",
       "           \t<country, [\n",
       "           \t\t[BRIDGE-1, \n",
       "           \n",
       "           \t\t\t<ethnicGroup, [PATIENT-1]>,\n",
       "           \t\t\t<capital, [PATIENT-2]>]]>]\n",
       "           Text: {AGENT-1} was published in {BRIDGE-1}, where the capital is {PATIENT-2}, {PATIENT-1} are one of the ethnic groups there .: 1,\n",
       "           Structure: [AGENT-1, \n",
       "           \n",
       "           \t<country, [\n",
       "           \t\t[BRIDGE-1, \n",
       "           \n",
       "           \t\t\t<ethnicGroup, [PATIENT-1]>,\n",
       "           \t\t\t<capital, [PATIENT-2]>]]>]\n",
       "           Text: {PATIENT-2} is the capital of {BRIDGE-1} a country where one of the ethnic groups is {PATIENT-1}. Also where {AGENT-1} originates from .: 1}))]"
      ]
     },
     "execution_count": 9,
     "metadata": {},
     "output_type": "execute_result"
    }
   ],
   "source": [
    "tbm.ss.structure(test[431])"
   ]
  },
  {
   "cell_type": "markdown",
   "metadata": {},
   "source": [
    "# Templates with rule 1"
   ]
  },
  {
   "cell_type": "code",
   "execution_count": 7,
   "metadata": {},
   "outputs": [],
   "source": [
    "with open('../data/templates/template_db/thiago_template_db_rule_1', 'rb') as f:\n",
    "    template_db = pickle.load(f)\n",
    "\n",
    "tbm = TemplateBasedModel(template_db=template_db, lexicalization_f=lexicalize)"
   ]
  },
  {
   "cell_type": "code",
   "execution_count": 8,
   "metadata": {},
   "outputs": [
    {
     "name": "stdout",
     "output_type": "stream",
     "text": [
      "CPU times: user 344 ms, sys: 31.2 ms, total: 375 ms\n",
      "Wall time: 533 ms\n"
     ]
    }
   ],
   "source": [
    "%%time\n",
    "if os.path.isdir('../data/models/abe-2'):\n",
    "    clear_dir('../data/models/abe-2/')\n",
    "else:\n",
    "    os.mkdir('../data/models/abe-2/')\n",
    "\n",
    "with open('../data/models/abe-2/abe-2.txt', 'w', encoding='utf-8') as f:\n",
    "\n",
    "    for text in tbm.predict(test):\n",
    "\n",
    "        f.write(\"{}\\n\".format(text))\n",
    "        \n",
    "preprocess_model_to_evaluate('../data/models/abe-2/abe-2.txt')"
   ]
  },
  {
   "cell_type": "markdown",
   "metadata": {},
   "source": [
    "# Adicionando uma regra -> se uma entidade já apareceu, usar '' no lugar de lexicalizar ela"
   ]
  },
  {
   "cell_type": "code",
   "execution_count": 4,
   "metadata": {},
   "outputs": [],
   "source": [
    "def lexicalize_seen_to_it(s, category, ctx):\n",
    "    \n",
    "    if s in ctx['seen']:\n",
    "        return ''\n",
    "    \n",
    "    ctx['seen'].add(s)\n",
    "    \n",
    "    from itertools import islice\n",
    "    \n",
    "    if s in lexicalization_db:\n",
    "        \n",
    "        if category in lexicalization_db[s]:\n",
    "            \n",
    "            lexis = lexicalization_db[s][category]\n",
    "            \n",
    "            return lexis.most_common()[0][0]\n",
    "        else:\n",
    "            return list(islice(lexicalization_db[s].values(), 0, 1))[0].most_common()[0][0]\n",
    "    else:\n",
    "        return preprocess_so(s)\n",
    "    \n",
    "tbm = TemplateBasedModel(template_db=template_db, lexicalization_f=lexicalize_seen_to_it)\n",
    "\n",
    "if os.path.isdir('../data/models/abe-2'):\n",
    "    clear_dir('../data/models/abe-2/')\n",
    "else:\n",
    "    os.mkdir('../data/models/abe-2/')\n",
    "\n",
    "with open('../data/models/abe-2/abe-2.txt', 'w', encoding='utf-8') as f:\n",
    "\n",
    "    for text in tbm.predict(test):\n",
    "\n",
    "        f.write(\"{}\\n\".format(text))\n",
    "        \n",
    "preprocess_model_to_evaluate('../data/models/abe-2/abe-2.txt')"
   ]
  },
  {
   "cell_type": "code",
   "execution_count": null,
   "metadata": {},
   "outputs": [],
   "source": []
  }
 ],
 "metadata": {
  "kernelspec": {
   "display_name": "Python 3",
   "language": "python",
   "name": "python3"
  },
  "language_info": {
   "codemirror_mode": {
    "name": "ipython",
    "version": 3
   },
   "file_extension": ".py",
   "mimetype": "text/x-python",
   "name": "python",
   "nbconvert_exporter": "python",
   "pygments_lexer": "ipython3",
   "version": "3.6.7"
  }
 },
 "nbformat": 4,
 "nbformat_minor": 2
}
