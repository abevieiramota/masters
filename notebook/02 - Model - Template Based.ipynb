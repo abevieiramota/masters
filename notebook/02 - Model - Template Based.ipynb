{
 "cells": [
  {
   "cell_type": "code",
   "execution_count": 1,
   "metadata": {},
   "outputs": [],
   "source": [
    "import os\n",
    "import pandas as pd\n",
    "\n",
    "os.sys.path.extend(['../template_model/', '../evaluation'])\n",
    "\n",
    "from evaluate import preprocess_model_to_evaluate\n",
    "from util import preprocess_so, clear_dir\n",
    "from collections import ChainMap, defaultdict, Counter\n",
    "from template_based2 import JustJoinTemplate, StructureData, MakeText\n",
    "import pickle"
   ]
  },
  {
   "cell_type": "code",
   "execution_count": 2,
   "metadata": {},
   "outputs": [],
   "source": [
    "class TemplateBasedModel:\n",
    "    \n",
    "    def __init__(self, template_db, lexicalization_f):\n",
    "        \n",
    "        self.ss = StructureData(template_db, JustJoinTemplate())\n",
    "        self.mt = MakeText(lexicalization_f=lexicalization_f)\n",
    "    \n",
    "    def predict(self, X):\n",
    "        \n",
    "        result = []\n",
    "        \n",
    "        for e in X:\n",
    "\n",
    "            structured_data = self.ss.structure(e['triples'])\n",
    "            texts = self.mt.make_text(structured_data)\n",
    "\n",
    "            result.append(texts)\n",
    "        \n",
    "        return result\n",
    "    \n",
    "    \n",
    "with open('../data/templates/template_db/thiago_template_db2', 'rb') as f:\n",
    "    template_db = pickle.load(f)\n",
    "    \n",
    "with open('../data/templates/lexicalization/thiago_name_db', 'rb') as f:\n",
    "    name_db = pickle.load(f)\n",
    "    \n",
    "with open('../data/templates/lexicalization/thiago_pronoun_db', 'rb') as f:\n",
    "    pronoun_db = pickle.load(f)\n",
    "    \n",
    "with open('../evaluation/test.pkl', 'rb') as f:\n",
    "    test = pickle.load(f)"
   ]
  },
  {
   "cell_type": "code",
   "execution_count": 3,
   "metadata": {},
   "outputs": [],
   "source": [
    "def lexicalize(s, ctx):\n",
    "    \n",
    "    if s in ctx['seen']:\n",
    "        \n",
    "        if s in pronoun_db:\n",
    "            \n",
    "            return pronoun_db[s].most_common()[0][0]\n",
    "        else:\n",
    "            return ''\n",
    "    \n",
    "    ctx['seen'].add(s)\n",
    "    \n",
    "    if s in name_db:\n",
    "        \n",
    "        return name_db[s].most_common()[0][0]\n",
    "    else:\n",
    "        return preprocess_so(s)\n",
    "    \n",
    "tbm = TemplateBasedModel(template_db=template_db, lexicalization_f=lexicalize)"
   ]
  },
  {
   "cell_type": "code",
   "execution_count": 5,
   "metadata": {},
   "outputs": [],
   "source": [
    "generated_texts = [texts for texts in tbm.predict(test)]"
   ]
  },
  {
   "cell_type": "code",
   "execution_count": 6,
   "metadata": {},
   "outputs": [],
   "source": [
    "MODEL_NAME = 'abe-2'\n",
    "\n",
    "if os.path.isdir(f'../data/models/{MODEL_NAME}'):\n",
    "    clear_dir(f'../data/models/{MODEL_NAME}/')\n",
    "else:\n",
    "    os.mkdir(f'../data/models/{MODEL_NAME}/')\n",
    "\n",
    "with open(f'../data/models/{MODEL_NAME}/{MODEL_NAME}.txt', 'w', encoding='utf-8') as f:\n",
    "\n",
    "    for texts in generated_texts:\n",
    "\n",
    "        f.write(\"{}\\n\".format(texts[0]))\n",
    "        \n",
    "preprocess_model_to_evaluate(f'../data/models/{MODEL_NAME}/{MODEL_NAME}.txt')"
   ]
  },
  {
   "cell_type": "code",
   "execution_count": 18,
   "metadata": {},
   "outputs": [],
   "source": [
    "# writes to a pickled file, to model use\n",
    "with open('../data/models/abe-2/milhoes_de_textos', 'wb') as f:\n",
    "    pickle.dump(generated_texts, f)"
   ]
  },
  {
   "cell_type": "markdown",
   "metadata": {},
   "source": [
    "# Templates with rule 1"
   ]
  },
  {
   "cell_type": "code",
   "execution_count": 7,
   "metadata": {},
   "outputs": [],
   "source": [
    "with open('../data/templates/template_db/thiago_template_db_rule_1', 'rb') as f:\n",
    "    template_db = pickle.load(f)\n",
    "\n",
    "tbm = TemplateBasedModel(template_db=template_db, lexicalization_f=lexicalize)"
   ]
  },
  {
   "cell_type": "code",
   "execution_count": 8,
   "metadata": {},
   "outputs": [
    {
     "name": "stdout",
     "output_type": "stream",
     "text": [
      "CPU times: user 344 ms, sys: 31.2 ms, total: 375 ms\n",
      "Wall time: 533 ms\n"
     ]
    }
   ],
   "source": [
    "%%time\n",
    "if os.path.isdir('../data/models/abe-2'):\n",
    "    clear_dir('../data/models/abe-2/')\n",
    "else:\n",
    "    os.mkdir('../data/models/abe-2/')\n",
    "\n",
    "with open('../data/models/abe-2/abe-2.txt', 'w', encoding='utf-8') as f:\n",
    "\n",
    "    for text in tbm.predict(test):\n",
    "\n",
    "        f.write(\"{}\\n\".format(text))\n",
    "        \n",
    "preprocess_model_to_evaluate('../data/models/abe-2/abe-2.txt')"
   ]
  },
  {
   "cell_type": "markdown",
   "metadata": {},
   "source": [
    "# Adicionando uma regra -> se uma entidade já apareceu, usar '' no lugar de lexicalizar ela"
   ]
  },
  {
   "cell_type": "code",
   "execution_count": 4,
   "metadata": {},
   "outputs": [],
   "source": [
    "def lexicalize_seen_to_it(s, category, ctx):\n",
    "    \n",
    "    if s in ctx['seen']:\n",
    "        return ''\n",
    "    \n",
    "    ctx['seen'].add(s)\n",
    "    \n",
    "    from itertools import islice\n",
    "    \n",
    "    if s in lexicalization_db:\n",
    "        \n",
    "        if category in lexicalization_db[s]:\n",
    "            \n",
    "            lexis = lexicalization_db[s][category]\n",
    "            \n",
    "            return lexis.most_common()[0][0]\n",
    "        else:\n",
    "            return list(islice(lexicalization_db[s].values(), 0, 1))[0].most_common()[0][0]\n",
    "    else:\n",
    "        return preprocess_so(s)\n",
    "    \n",
    "tbm = TemplateBasedModel(template_db=template_db, lexicalization_f=lexicalize_seen_to_it)\n",
    "\n",
    "if os.path.isdir('../data/models/abe-2'):\n",
    "    clear_dir('../data/models/abe-2/')\n",
    "else:\n",
    "    os.mkdir('../data/models/abe-2/')\n",
    "\n",
    "with open('../data/models/abe-2/abe-2.txt', 'w', encoding='utf-8') as f:\n",
    "\n",
    "    for text in tbm.predict(test):\n",
    "\n",
    "        f.write(\"{}\\n\".format(text))\n",
    "        \n",
    "preprocess_model_to_evaluate('../data/models/abe-2/abe-2.txt')"
   ]
  },
  {
   "cell_type": "code",
   "execution_count": null,
   "metadata": {},
   "outputs": [],
   "source": []
  }
 ],
 "metadata": {
  "kernelspec": {
   "display_name": "Python 3",
   "language": "python",
   "name": "python3"
  },
  "language_info": {
   "codemirror_mode": {
    "name": "ipython",
    "version": 3
   },
   "file_extension": ".py",
   "mimetype": "text/x-python",
   "name": "python",
   "nbconvert_exporter": "python",
   "pygments_lexer": "ipython3",
   "version": "3.7.3"
  }
 },
 "nbformat": 4,
 "nbformat_minor": 2
}
