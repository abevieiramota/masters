{
 "cells": [
  {
   "cell_type": "code",
   "execution_count": 1,
   "metadata": {},
   "outputs": [],
   "source": [
    "import sys\n",
    "sys.path.append('../template_model')\n",
    "from util import load_train_dev, Entry\n",
    "import re\n",
    "from collections import Counter, defaultdict\n",
    "\n",
    "import warnings\n",
    "warnings.filterwarnings('ignore')\n",
    "\n",
    "RE_FIND_THIAGO_SLOT = re.compile('((?:AGENT-.)|(?:PATIENT-.)|(?:BRIDGE-.))')\n",
    "\n",
    "def extract_orders(e):\n",
    "    \n",
    "    orders = Counter()\n",
    "    \n",
    "    for lexe in e.lexes:\n",
    "        \n",
    "        slots = RE_FIND_THIAGO_SLOT.findall(lexe['template'])\n",
    "        positions = {}\n",
    "        for i, k in enumerate(slots):\n",
    "            if k not in positions:\n",
    "                positions[k] = i\n",
    "        positions = defaultdict(lambda: 10000, positions)\n",
    "        sorted_triples = tuple(sorted(e.triples, key=lambda t: positions[e.r_entity_map[t.object]]))\n",
    "        \n",
    "        orders[sorted_triples] += 1\n",
    "        \n",
    "    return orders"
   ]
  },
  {
   "cell_type": "code",
   "execution_count": 2,
   "metadata": {},
   "outputs": [],
   "source": [
    "all_td = load_train_dev()\n",
    "\n",
    "# removendo entradas sem r_entity_map\n",
    "td = [t for t in all_td if t.r_entity_map]"
   ]
  },
  {
   "cell_type": "markdown",
   "metadata": {},
   "source": [
    "# Formulation (order_1, order_2, [-1, 0, 1])"
   ]
  },
  {
   "cell_type": "code",
   "execution_count": 95,
   "metadata": {},
   "outputs": [],
   "source": [
    "from itertools import permutations, product, combinations\n",
    "from collections import Counter\n",
    "\n",
    "freq_first = defaultdict(Counter)\n",
    "freq_last = defaultdict(Counter)\n",
    "freq_1st_bigram = defaultdict(Counter)\n",
    "freq_last_bigram = defaultdict(Counter)\n",
    "\n",
    "for e in (e for e in td if len(e.triples) > 1):\n",
    "    freq_first[len(e.triples)][e.triples[0].predicate] += 1\n",
    "    freq_last[len(e.triples)][e.triples[-1].predicate] += 1\n",
    "    freq_1st_bigram[len(e.triples)][(e.triples[0].predicate, e.triples[1].predicate)] += 1\n",
    "    freq_last_bigram[len(e.triples)][(e.triples[-2].predicate, e.triples[-1].predicate)] += 1\n",
    "\n",
    "def extract_features(order, e):\n",
    "    \n",
    "    if len(e.triples) > 1:\n",
    "        freq_1st_bi = freq_1st_bigram[len(e.triples)][(order[0].predicate, order[1].predicate)]\n",
    "    else:\n",
    "        freq_1st_bi = 0\n",
    "        \n",
    "    if len(e.triples) > 1:\n",
    "        freq_last_bi = freq_last_bigram[len(e.triples)][(order[-2].predicate, order[-1].predicate)]\n",
    "    else:\n",
    "        freq_last_bi = 0\n",
    "    \n",
    "    return {'is_first_order': order == abstract_triples(e.triples), \n",
    "            'freq_first': freq_first[len(e.triples)][order[0].predicate],\n",
    "            'freq_last': freq_last[len(e.triples)][order[-1].predicate],\n",
    "            'freq_1st_bigram': freq_1st_bi,\n",
    "            'freq_last_bigram': freq_last_bi}\n",
    "\n",
    "def merge_features(l1_features, l2_features):\n",
    "    \n",
    "    features_merged = {'{}_1'.format(k): v for k, v in l1_features.items()}\n",
    "    features_merged.update({'{}_2'.format(k): v for k, v in l2_features.items()})\n",
    "    \n",
    "    return features_merged\n",
    "\n",
    "def make_entries(e):\n",
    "    \n",
    "    X = []\n",
    "    y = []\n",
    "    \n",
    "    all_orders = permutations(e.triples)\n",
    "    all_abstracted_orders = set([abstract_triples(ts) for ts in all_orders])\n",
    "    \n",
    "    lexicalized_orders = extract_orders(e)\n",
    "    \n",
    "    for l1, l2 in product(lexicalized_orders.keys(), \n",
    "                          all_abstracted_orders - lexicalized_orders.keys()):\n",
    "        \n",
    "        X.append((l1, l2, e))\n",
    "        y.append(1)\n",
    "        X.append((l2, l1, e))\n",
    "        y.append(-1)\n",
    "        \n",
    "    for l1 in all_abstracted_orders:\n",
    "        \n",
    "        X.append((l1, l1, e))\n",
    "        y.append(0)\n",
    "        \n",
    "    return X, y"
   ]
  },
  {
   "cell_type": "code",
   "execution_count": 96,
   "metadata": {},
   "outputs": [
    {
     "data": {
      "text/plain": [
       "29059"
      ]
     },
     "execution_count": 96,
     "metadata": {},
     "output_type": "execute_result"
    }
   ],
   "source": [
    "from sklearn.model_selection import train_test_split\n",
    "\n",
    "X = []\n",
    "y = []\n",
    "\n",
    "for e in [t for t in td if len(t.triples) == 3]:\n",
    "    \n",
    "    len_triples = len(e.triples)\n",
    "    \n",
    "    e_X, e_y = make_entries(e)\n",
    "    X.extend(e_X)\n",
    "    y.extend(e_y)\n",
    "    \n",
    "len(X)"
   ]
  },
  {
   "cell_type": "code",
   "execution_count": 97,
   "metadata": {},
   "outputs": [],
   "source": [
    "from sklearn.model_selection import train_test_split\n",
    "\n",
    "X_train, X_test, y_train, y_test = train_test_split(X, y, test_size=0.2)"
   ]
  },
  {
   "cell_type": "code",
   "execution_count": 98,
   "metadata": {},
   "outputs": [],
   "source": [
    "from sklearn.feature_extraction import DictVectorizer\n",
    "from sklearn.preprocessing import StandardScaler, PolynomialFeatures\n",
    "from sklearn.pipeline import Pipeline\n",
    "from sklearn.base import BaseEstimator, TransformerMixin\n",
    "\n",
    "class ExtraiFeatures(BaseEstimator, TransformerMixin):\n",
    "    \n",
    "    def fit(self, X, y=None):\n",
    "        return self\n",
    "    \n",
    "    def transform(self, X, y=None):\n",
    "        results = []\n",
    "        \n",
    "        for x in X:\n",
    "            x0 = x[0]\n",
    "            x1 = x[1]\n",
    "            e = x[2]\n",
    "            \n",
    "            x0_features = extract_features(x0, e)\n",
    "            x1_features = extract_features(x1, e)\n",
    "            \n",
    "            features = merge_features(x0_features, x1_features)\n",
    "            \n",
    "            results.append(features)\n",
    "        \n",
    "        return results\n",
    "            \n",
    "\n",
    "data_pipeline = Pipeline([\n",
    "    ('featurizer', ExtraiFeatures()),\n",
    "    ('vectorizer', DictVectorizer(sparse=False)),\n",
    "    ('poly', PolynomialFeatures()),\n",
    "    ('scaler', StandardScaler())\n",
    "])"
   ]
  },
  {
   "cell_type": "code",
   "execution_count": 99,
   "metadata": {},
   "outputs": [
    {
     "data": {
      "text/plain": [
       "Pipeline(memory=None,\n",
       "         steps=[('data',\n",
       "                 Pipeline(memory=None,\n",
       "                          steps=[('featurizer', ExtraiFeatures()),\n",
       "                                 ('vectorizer',\n",
       "                                  DictVectorizer(dtype=<class 'numpy.float64'>,\n",
       "                                                 separator='=', sort=True,\n",
       "                                                 sparse=False)),\n",
       "                                 ('poly',\n",
       "                                  PolynomialFeatures(degree=2,\n",
       "                                                     include_bias=True,\n",
       "                                                     interaction_only=False,\n",
       "                                                     order='C')),\n",
       "                                 ('scaler',\n",
       "                                  StandardScaler(copy=True, with_mean=True,\n",
       "                                                 with_std=True))],\n",
       "                          verbose=False)),\n",
       "                ('clf',\n",
       "                 LinearRegression(copy_X=True, fit_intercept=True, n_jobs=None,\n",
       "                                  normalize=False))],\n",
       "         verbose=False)"
      ]
     },
     "execution_count": 99,
     "metadata": {},
     "output_type": "execute_result"
    }
   ],
   "source": [
    "from sklearn.linear_model import LinearRegression\n",
    "from sklearn.metrics import mean_squared_error\n",
    "\n",
    "\n",
    "pipeline = Pipeline([\n",
    "    ('data', data_pipeline),\n",
    "    ('clf', LinearRegression())\n",
    "])\n",
    "\n",
    "pipeline.fit(X_train, y_train)"
   ]
  },
  {
   "cell_type": "code",
   "execution_count": 100,
   "metadata": {},
   "outputs": [
    {
     "data": {
      "text/plain": [
       "0.7803948912225482"
      ]
     },
     "execution_count": 100,
     "metadata": {},
     "output_type": "execute_result"
    }
   ],
   "source": [
    "import numpy as np\n",
    "\n",
    "y_pred = pipeline.predict(X_train)\n",
    "\n",
    "np.sqrt(mean_squared_error(y_train, y_pred))"
   ]
  },
  {
   "cell_type": "code",
   "execution_count": 101,
   "metadata": {},
   "outputs": [
    {
     "data": {
      "text/plain": [
       "[1, 1, 1, -1, 1, 1, -1, 1, 0, -1]"
      ]
     },
     "execution_count": 101,
     "metadata": {},
     "output_type": "execute_result"
    }
   ],
   "source": [
    "y_train[:10]"
   ]
  },
  {
   "cell_type": "code",
   "execution_count": 102,
   "metadata": {},
   "outputs": [
    {
     "data": {
      "text/plain": [
       "array([ 0.54140854, -0.02063751,  0.08896065, -0.30810356, -0.70025635,\n",
       "        0.39338493, -0.24162102, -0.10328102, -0.00248528, -0.916502  ])"
      ]
     },
     "execution_count": 102,
     "metadata": {},
     "output_type": "execute_result"
    }
   ],
   "source": [
    "y_pred[:10]"
   ]
  },
  {
   "cell_type": "code",
   "execution_count": 107,
   "metadata": {},
   "outputs": [
    {
     "data": {
      "text/plain": [
       "[Triple(subject='Aurakles', predicate='creator', object='Dick_Dillin'),\n",
       " Triple(subject='Dick_Dillin', predicate='nationality', object='United_States'),\n",
       " Triple(subject='Aurakles', predicate='alternativeName', object='Aurakles')]"
      ]
     },
     "execution_count": 107,
     "metadata": {},
     "output_type": "execute_result"
    }
   ],
   "source": [
    "# using\n",
    "\n",
    "e = td[3456]\n",
    "e.triples"
   ]
  },
  {
   "cell_type": "code",
   "execution_count": 108,
   "metadata": {},
   "outputs": [
    {
     "data": {
      "text/plain": [
       "Counter({(Triple(subject='slot0', predicate='creator', object='slot1'),\n",
       "          Triple(subject='slot1', predicate='nationality', object='slot2'),\n",
       "          Triple(subject='slot0', predicate='alternativeName', object='slot0')): 1,\n",
       "         (Triple(subject='slot0', predicate='alternativeName', object='slot0'),\n",
       "          Triple(subject='slot0', predicate='creator', object='slot1'),\n",
       "          Triple(subject='slot1', predicate='nationality', object='slot2')): 1})"
      ]
     },
     "execution_count": 108,
     "metadata": {},
     "output_type": "execute_result"
    }
   ],
   "source": [
    "extract_orders(e)\n",
    "# creator > nationality > alternativeName\n",
    "# alternativeName > creator > nationality"
   ]
  },
  {
   "cell_type": "code",
   "execution_count": 119,
   "metadata": {},
   "outputs": [],
   "source": [
    "orders = list(permutations(e.triples))\n",
    "\n",
    "ordered = [orders[0]]\n",
    "\n",
    "for o in orders:\n",
    "    \n",
    "    y = pipeline.predict([(ordered[-1], o, e)])\n",
    "    \n",
    "    if y >= 0:\n",
    "        ordered.append(o)\n",
    "    else:\n",
    "        for i, o_ in enumerate(orders[:-1]):\n",
    "            y = pipeline.predict([(o, o_, e)])\n",
    "            \n",
    "            if y >= 0:\n",
    "                ordered.insert(i+1, o)"
   ]
  },
  {
   "cell_type": "markdown",
   "metadata": {},
   "source": [
    "# Não acredito que Learning to Rank se aplique -> há sempre várias ordens possíveis... em learning to rank espera-se apenas uma ordem"
   ]
  },
  {
   "cell_type": "markdown",
   "metadata": {},
   "source": [
    "# Formulation (order, [0, 1])"
   ]
  },
  {
   "cell_type": "code",
   "execution_count": 51,
   "metadata": {},
   "outputs": [],
   "source": [
    "from itertools import permutations, product, combinations\n",
    "\n",
    "\n",
    "def extract_features(order, e):\n",
    "    \n",
    "    return {'order': order, \n",
    "            'category': e.category,\n",
    "            'n_triples': len(e.triples),\n",
    "            'is_first_order': order == abstract_triples(e.triples)}\n",
    "\n",
    "def make_entries(e):\n",
    "    \n",
    "    data = []\n",
    "    \n",
    "    all_orders = permutations(e.triples)\n",
    "    all_abstracted_orders = set([abstract_triples(ts) for ts in all_orders])\n",
    "    \n",
    "    features = {order: extract_features(order, e) for order in all_abstracted_orders}\n",
    "    \n",
    "    lexicalized_orders = extract_orders(e)\n",
    "    \n",
    "    for l in lexicalized_orders.keys():\n",
    "        \n",
    "        l_features = extract_features(l, e)\n",
    "        \n",
    "        data.append((l_features, 1))\n",
    "    \n",
    "    for l in all_abstracted_orders - lexicalized_orders.keys():\n",
    "        \n",
    "        l_features = extract_features(l, e)\n",
    "        \n",
    "        data.append((l_features, 0))\n",
    "        \n",
    "    return data"
   ]
  },
  {
   "cell_type": "code",
   "execution_count": 76,
   "metadata": {},
   "outputs": [],
   "source": [
    "data = []\n",
    "\n",
    "for t in td[:6000]:\n",
    "    x = make_entries(t)\n",
    "    data.extend(x)"
   ]
  },
  {
   "cell_type": "code",
   "execution_count": 77,
   "metadata": {},
   "outputs": [
    {
     "data": {
      "text/html": [
       "<div>\n",
       "<style scoped>\n",
       "    .dataframe tbody tr th:only-of-type {\n",
       "        vertical-align: middle;\n",
       "    }\n",
       "\n",
       "    .dataframe tbody tr th {\n",
       "        vertical-align: top;\n",
       "    }\n",
       "\n",
       "    .dataframe thead th {\n",
       "        text-align: right;\n",
       "    }\n",
       "</style>\n",
       "<table border=\"1\" class=\"dataframe\">\n",
       "  <thead>\n",
       "    <tr style=\"text-align: right;\">\n",
       "      <th></th>\n",
       "      <th>target</th>\n",
       "      <th>0</th>\n",
       "      <th>1</th>\n",
       "    </tr>\n",
       "    <tr>\n",
       "      <th>n_triples</th>\n",
       "      <th>is_first_order</th>\n",
       "      <th></th>\n",
       "      <th></th>\n",
       "    </tr>\n",
       "  </thead>\n",
       "  <tbody>\n",
       "    <tr>\n",
       "      <th>1</th>\n",
       "      <th>True</th>\n",
       "      <td>0</td>\n",
       "      <td>1788</td>\n",
       "    </tr>\n",
       "    <tr>\n",
       "      <th rowspan=\"2\" valign=\"top\">2</th>\n",
       "      <th>False</th>\n",
       "      <td>383</td>\n",
       "      <td>796</td>\n",
       "    </tr>\n",
       "    <tr>\n",
       "      <th>True</th>\n",
       "      <td>248</td>\n",
       "      <td>960</td>\n",
       "    </tr>\n",
       "    <tr>\n",
       "      <th rowspan=\"2\" valign=\"top\">3</th>\n",
       "      <th>False</th>\n",
       "      <td>4363</td>\n",
       "      <td>1958</td>\n",
       "    </tr>\n",
       "    <tr>\n",
       "      <th>True</th>\n",
       "      <td>732</td>\n",
       "      <td>618</td>\n",
       "    </tr>\n",
       "    <tr>\n",
       "      <th rowspan=\"2\" valign=\"top\">4</th>\n",
       "      <th>False</th>\n",
       "      <td>24830</td>\n",
       "      <td>2544</td>\n",
       "    </tr>\n",
       "    <tr>\n",
       "      <th>True</th>\n",
       "      <td>1030</td>\n",
       "      <td>264</td>\n",
       "    </tr>\n",
       "    <tr>\n",
       "      <th rowspan=\"2\" valign=\"top\">5</th>\n",
       "      <th>False</th>\n",
       "      <td>37873</td>\n",
       "      <td>827</td>\n",
       "    </tr>\n",
       "    <tr>\n",
       "      <th>True</th>\n",
       "      <td>347</td>\n",
       "      <td>13</td>\n",
       "    </tr>\n",
       "  </tbody>\n",
       "</table>\n",
       "</div>"
      ],
      "text/plain": [
       "target                        0     1\n",
       "n_triples is_first_order             \n",
       "1         True                0  1788\n",
       "2         False             383   796\n",
       "          True              248   960\n",
       "3         False            4363  1958\n",
       "          True              732   618\n",
       "4         False           24830  2544\n",
       "          True             1030   264\n",
       "5         False           37873   827\n",
       "          True              347    13"
      ]
     },
     "execution_count": 77,
     "metadata": {},
     "output_type": "execute_result"
    }
   ],
   "source": [
    "df = pd.DataFrame([c[0] for c in data])\n",
    "df['target'] = [c[1] for c in data]\n",
    "\n",
    "df.groupby(['n_triples', 'is_first_order', 'target']).size().unstack(fill_value=0)"
   ]
  },
  {
   "cell_type": "code",
   "execution_count": 78,
   "metadata": {},
   "outputs": [
    {
     "data": {
      "text/html": [
       "<div>\n",
       "<style scoped>\n",
       "    .dataframe tbody tr th:only-of-type {\n",
       "        vertical-align: middle;\n",
       "    }\n",
       "\n",
       "    .dataframe tbody tr th {\n",
       "        vertical-align: top;\n",
       "    }\n",
       "\n",
       "    .dataframe thead th {\n",
       "        text-align: right;\n",
       "    }\n",
       "</style>\n",
       "<table border=\"1\" class=\"dataframe\">\n",
       "  <thead>\n",
       "    <tr style=\"text-align: right;\">\n",
       "      <th></th>\n",
       "      <th>category</th>\n",
       "      <th>is_first_order</th>\n",
       "      <th>n_triples</th>\n",
       "      <th>order</th>\n",
       "      <th>target</th>\n",
       "    </tr>\n",
       "  </thead>\n",
       "  <tbody>\n",
       "    <tr>\n",
       "      <th>0</th>\n",
       "      <td>Airport</td>\n",
       "      <td>True</td>\n",
       "      <td>1</td>\n",
       "      <td>((slot0, cityServed, slot1),)</td>\n",
       "      <td>1</td>\n",
       "    </tr>\n",
       "    <tr>\n",
       "      <th>1</th>\n",
       "      <td>Airport</td>\n",
       "      <td>True</td>\n",
       "      <td>1</td>\n",
       "      <td>((slot0, cityServed, slot1),)</td>\n",
       "      <td>1</td>\n",
       "    </tr>\n",
       "    <tr>\n",
       "      <th>2</th>\n",
       "      <td>Airport</td>\n",
       "      <td>True</td>\n",
       "      <td>1</td>\n",
       "      <td>((slot0, elevationAboveTheSeaLevel_(in_metres)...</td>\n",
       "      <td>1</td>\n",
       "    </tr>\n",
       "    <tr>\n",
       "      <th>3</th>\n",
       "      <td>Airport</td>\n",
       "      <td>True</td>\n",
       "      <td>1</td>\n",
       "      <td>((slot0, location, slot1),)</td>\n",
       "      <td>1</td>\n",
       "    </tr>\n",
       "    <tr>\n",
       "      <th>4</th>\n",
       "      <td>Airport</td>\n",
       "      <td>True</td>\n",
       "      <td>1</td>\n",
       "      <td>((slot0, operatingOrganisation, slot1),)</td>\n",
       "      <td>1</td>\n",
       "    </tr>\n",
       "  </tbody>\n",
       "</table>\n",
       "</div>"
      ],
      "text/plain": [
       "  category  is_first_order  n_triples  \\\n",
       "0  Airport            True          1   \n",
       "1  Airport            True          1   \n",
       "2  Airport            True          1   \n",
       "3  Airport            True          1   \n",
       "4  Airport            True          1   \n",
       "\n",
       "                                               order  target  \n",
       "0                      ((slot0, cityServed, slot1),)       1  \n",
       "1                      ((slot0, cityServed, slot1),)       1  \n",
       "2  ((slot0, elevationAboveTheSeaLevel_(in_metres)...       1  \n",
       "3                        ((slot0, location, slot1),)       1  \n",
       "4           ((slot0, operatingOrganisation, slot1),)       1  "
      ]
     },
     "execution_count": 78,
     "metadata": {},
     "output_type": "execute_result"
    }
   ],
   "source": [
    "df.head()"
   ]
  },
  {
   "cell_type": "code",
   "execution_count": 97,
   "metadata": {},
   "outputs": [
    {
     "data": {
      "text/plain": [
       "((63659, 3), (15915, 3))"
      ]
     },
     "execution_count": 97,
     "metadata": {},
     "output_type": "execute_result"
    }
   ],
   "source": [
    "from sklearn.model_selection import train_test_split\n",
    "\n",
    "X = df[['category', 'is_first_order', 'n_triples']]\n",
    "y = df['target']\n",
    "\n",
    "X_train, X_test, y_train, y_test = train_test_split(X, y, test_size=.2, stratify=df['target'])\n",
    "\n",
    "X_train.shape, X_test.shape"
   ]
  },
  {
   "cell_type": "code",
   "execution_count": 101,
   "metadata": {},
   "outputs": [
    {
     "name": "stderr",
     "output_type": "stream",
     "text": [
      "C:\\ProgramData\\Anaconda3\\envs\\webnlg\\lib\\site-packages\\sklearn\\ensemble\\forest.py:245: FutureWarning: The default value of n_estimators will change from 10 in version 0.20 to 100 in 0.22.\n",
      "  \"10 in version 0.20 to 100 in 0.22.\", FutureWarning)\n"
     ]
    },
    {
     "data": {
      "text/plain": [
       "Pipeline(memory=None,\n",
       "         steps=[('data',\n",
       "                 Pipeline(memory=None,\n",
       "                          steps=[('ohe',\n",
       "                                  OneHotEncoder(categorical_features=None,\n",
       "                                                categories=None, drop=None,\n",
       "                                                dtype=<class 'numpy.float64'>,\n",
       "                                                handle_unknown='error',\n",
       "                                                n_values=None, sparse=True))],\n",
       "                          verbose=False)),\n",
       "                ('clf',\n",
       "                 RandomForestClassifier(bootstrap=True, class_weight=None,\n",
       "                                        criterion='gini', max_depth=None,\n",
       "                                        max_features='auto',\n",
       "                                        max_leaf_nodes=None,\n",
       "                                        min_impurity_decrease=0.0,\n",
       "                                        min_impurity_split=None,\n",
       "                                        min_samples_leaf=1, min_samples_split=2,\n",
       "                                        min_weight_fraction_leaf=0.0,\n",
       "                                        n_estimators=10, n_jobs=None,\n",
       "                                        oob_score=False, random_state=None,\n",
       "                                        verbose=0, warm_start=False))],\n",
       "         verbose=False)"
      ]
     },
     "execution_count": 101,
     "metadata": {},
     "output_type": "execute_result"
    }
   ],
   "source": [
    "from sklearn.preprocessing import OneHotEncoder\n",
    "from sklearn.pipeline import Pipeline\n",
    "from sklearn.linear_model import LogisticRegression\n",
    "from sklearn.tree import DecisionTreeClassifier\n",
    "from sklearn.ensemble import RandomForestClassifier\n",
    "from sklearn.model_selection import GridSearchCV\n",
    "\n",
    "data_pipeline = Pipeline([\n",
    "    ('ohe', OneHotEncoder())\n",
    "])\n",
    "\n",
    "pipeline = Pipeline([\n",
    "    ('data', data_pipeline),\n",
    "    ('clf', None)\n",
    "])\n",
    "\n",
    "params_grid = {\n",
    "    'clf': [LogisticRegression(solver='lbfgs'), DecisionTreeClassifier(), RandomForestClassifier()]\n",
    "}\n",
    "\n",
    "cv = GridSearchCV(pipeline, params_grid, cv=5, scoring='recall')\n",
    "\n",
    "cv.fit(X_train, y_train)\n",
    "\n",
    "cv.best_estimator_"
   ]
  },
  {
   "cell_type": "code",
   "execution_count": 102,
   "metadata": {},
   "outputs": [
    {
     "data": {
      "text/plain": [
       "0.38349306269122846"
      ]
     },
     "execution_count": 102,
     "metadata": {},
     "output_type": "execute_result"
    }
   ],
   "source": [
    "cv.best_score_"
   ]
  },
  {
   "cell_type": "code",
   "execution_count": 103,
   "metadata": {},
   "outputs": [
    {
     "data": {
      "text/html": [
       "<div>\n",
       "<style scoped>\n",
       "    .dataframe tbody tr th:only-of-type {\n",
       "        vertical-align: middle;\n",
       "    }\n",
       "\n",
       "    .dataframe tbody tr th {\n",
       "        vertical-align: top;\n",
       "    }\n",
       "\n",
       "    .dataframe thead th {\n",
       "        text-align: right;\n",
       "    }\n",
       "</style>\n",
       "<table border=\"1\" class=\"dataframe\">\n",
       "  <thead>\n",
       "    <tr style=\"text-align: right;\">\n",
       "      <th></th>\n",
       "      <th>not_choosen</th>\n",
       "      <th>choosen</th>\n",
       "    </tr>\n",
       "  </thead>\n",
       "  <tbody>\n",
       "    <tr>\n",
       "      <th>not_good</th>\n",
       "      <td>55283</td>\n",
       "      <td>562</td>\n",
       "    </tr>\n",
       "    <tr>\n",
       "      <th>good</th>\n",
       "      <td>4853</td>\n",
       "      <td>2961</td>\n",
       "    </tr>\n",
       "  </tbody>\n",
       "</table>\n",
       "</div>"
      ],
      "text/plain": [
       "          not_choosen  choosen\n",
       "not_good        55283      562\n",
       "good             4853     2961"
      ]
     },
     "execution_count": 103,
     "metadata": {},
     "output_type": "execute_result"
    }
   ],
   "source": [
    "model = cv.best_estimator_\n",
    "\n",
    "y_pred = cv.predict(X_train)\n",
    "\n",
    "from sklearn.metrics import confusion_matrix\n",
    "\n",
    "cm = confusion_matrix(y_train, y_pred)\n",
    "\n",
    "pd.DataFrame(cm, index=['not_good', 'good'], columns=['not_choosen', 'choosen'])"
   ]
  },
  {
   "cell_type": "markdown",
   "metadata": {},
   "source": [
    "# Formulation ({order:{0, 1} for order in orders})"
   ]
  },
  {
   "cell_type": "code",
   "execution_count": 121,
   "metadata": {},
   "outputs": [],
   "source": [
    "from itertools import permutations, product, combinations\n",
    "from collections import Counter\n",
    "\n",
    "freq_first = defaultdict(Counter)\n",
    "freq_last = defaultdict(Counter)\n",
    "freq_1st_bigram = defaultdict(Counter)\n",
    "freq_last_bigram = defaultdict(Counter)\n",
    "\n",
    "for e in (e for e in td if len(e.triples) > 1):\n",
    "    freq_first[len(e.triples)][e.triples[0].predicate] += 1\n",
    "    freq_last[len(e.triples)][e.triples[-1].predicate] += 1\n",
    "    freq_1st_bigram[len(e.triples)][(e.triples[0].predicate, e.triples[1].predicate)] += 1\n",
    "    freq_last_bigram[len(e.triples)][(e.triples[-2].predicate, e.triples[-1].predicate)] += 1\n",
    "\n",
    "def extract_features(order, e):\n",
    "    \n",
    "    if len(e.triples) > 1:\n",
    "        freq_1st_bi = freq_1st_bigram[len(e.triples)][(order[0].predicate, order[1].predicate)]\n",
    "    else:\n",
    "        freq_1st_bi = 0\n",
    "        \n",
    "    if len(e.triples) > 1:\n",
    "        freq_last_bi = freq_last_bigram[len(e.triples)][(order[-2].predicate, order[-1].predicate)]\n",
    "    else:\n",
    "        freq_last_bi = 0\n",
    "    \n",
    "    return {'category': e.category,\n",
    "            'n_triples': len(e.triples),\n",
    "            'is_first_order': order == abstract_triples(e.triples), \n",
    "            'freq_first': freq_first[len(e.triples)][order[0].predicate],\n",
    "            'freq_last': freq_last[len(e.triples)][order[-1].predicate],\n",
    "            'freq_1st_bigram': freq_1st_bi,\n",
    "            'freq_last_bigram': freq_last_bi}\n",
    "\n",
    "def make_entries(e):\n",
    "    \n",
    "    all_orders = permutations(e.triples)\n",
    "    all_abstracted_orders = set([abstract_triples(ts) for ts in all_orders])\n",
    "    \n",
    "    lexicalized_orders = extract_orders(e)\n",
    "    \n",
    "    features = {order: extract_features(order, e) for order in all_abstracted_orders}\n",
    "    \n",
    "    all_orders_features = []\n",
    "    ok_orders = set()\n",
    "    \n",
    "    for i, order in enumerate(all_abstracted_orders):\n",
    "        \n",
    "        all_orders_features.append(features[order])\n",
    "        \n",
    "        if order in lexicalized_orders:\n",
    "            \n",
    "            ok_orders.add(i)\n",
    "    \n",
    "    return all_abstracted_orders, all_orders_features, ok_orders"
   ]
  },
  {
   "cell_type": "code",
   "execution_count": 122,
   "metadata": {},
   "outputs": [],
   "source": [
    "from sklearn.model_selection import train_test_split\n",
    "\n",
    "orders = defaultdict(list)\n",
    "X = defaultdict(list)\n",
    "y = defaultdict(list)\n",
    "\n",
    "for e in td:\n",
    "    \n",
    "    len_triples = len(e.triples)\n",
    "    \n",
    "    all_orders, all_orders_features, ok_orders = make_entries(e)\n",
    "    orders[len_triples].append(all_orders)\n",
    "    X[len_triples].append(all_orders_features)\n",
    "    y[len_triples].append(ok_orders)"
   ]
  },
  {
   "cell_type": "code",
   "execution_count": 123,
   "metadata": {},
   "outputs": [
    {
     "data": {
      "text/plain": [
       "(25728, 6564)"
      ]
     },
     "execution_count": 123,
     "metadata": {},
     "output_type": "execute_result"
    }
   ],
   "source": [
    "# testing for len_triples = 3\n",
    "\n",
    "X_train, X_test, y_train, y_test = train_test_split(X[4], y[4], test_size=.2)\n",
    "\n",
    "sum(len(x) for x in X_train), sum(len(x) for x in X_test)"
   ]
  },
  {
   "cell_type": "code",
   "execution_count": 124,
   "metadata": {},
   "outputs": [],
   "source": [
    "from sklearn.base import BaseEstimator, RegressorMixin\n",
    "import numpy as np\n",
    "\n",
    "class MyModel(BaseEstimator, RegressorMixin):\n",
    "    \n",
    "    def __init__(self, clf=None):\n",
    "        self.clf=clf\n",
    "    \n",
    "    def fit(self, X, y):\n",
    "        \n",
    "        X_ = []\n",
    "        y_ = []\n",
    "        \n",
    "        for x, y__ in zip(X, y):\n",
    "            \n",
    "            for i, x_ in enumerate(x):\n",
    "                \n",
    "                X_.append(x_.todense())\n",
    "                y_.append(1 if i in y__ else 0)\n",
    "                \n",
    "        X_ = np.vstack(X_)\n",
    "        self.clf.fit(X_, y_)\n",
    "        \n",
    "        return self\n",
    "    \n",
    "    def predict(self, X):\n",
    "        \n",
    "        results = []\n",
    "        \n",
    "        for x in X:\n",
    "            pred = self.clf.predict(x)\n",
    "            result = {i for i in range(len(pred)) if pred[i] == 1}\n",
    "            results.append(result)\n",
    "            \n",
    "        return results"
   ]
  },
  {
   "cell_type": "code",
   "execution_count": 125,
   "metadata": {},
   "outputs": [],
   "source": [
    "from sklearn.base import BaseEstimator, TransformerMixin\n",
    "\n",
    "class MyTransformer(BaseEstimator, TransformerMixin):\n",
    "    \n",
    "    def __init__(self, data_pipeline):\n",
    "        self.data_pipeline = data_pipeline\n",
    "    \n",
    "    def fit(self, X, y=None):\n",
    "        \n",
    "        X_ = []\n",
    "        for x in X:\n",
    "            for x_ in x:\n",
    "                X_.append(x_)\n",
    "                \n",
    "        self.data_pipeline.fit(X_)\n",
    "        \n",
    "        return self\n",
    "    \n",
    "    def transform(self, X, y=None):\n",
    "        \n",
    "        results = []\n",
    "        for x in X:\n",
    "            result = self.data_pipeline.transform(x)\n",
    "            results.append(result)\n",
    "            \n",
    "        return results"
   ]
  },
  {
   "cell_type": "code",
   "execution_count": 126,
   "metadata": {},
   "outputs": [],
   "source": [
    "from sklearn.metrics import make_scorer\n",
    "\n",
    "# f1\n",
    "\n",
    "def f1_score_order_entry_func(y_, y_pred_):\n",
    "    \n",
    "    # se há positivos e não retornou nenhum, f1 = 0\n",
    "    if len(y_pred_) == 0 and len(y_) != 0:\n",
    "        return 0\n",
    "    \n",
    "    precision = len(y_pred_.intersection(y_)) / len(y_pred_)\n",
    "    recall = len(y_pred_.intersection(y_)) / len(y_)\n",
    "    \n",
    "    # se precision e recall == 0, f1 = 0\n",
    "    if precision == 0 and recall == 0 and len(y_) != 0:\n",
    "        return 0\n",
    "    \n",
    "    return 2 * (precision * recall) / (precision + recall)\n",
    "\n",
    "def f1_score_order_func(y, y_pred):\n",
    "    \n",
    "    all_f1 = []\n",
    "    for y_, y_pred_ in zip(y, y_pred):\n",
    "        f1 = f1_score_order_entry_func(y_, y_pred_)\n",
    "        all_f1.append(f1)\n",
    "        \n",
    "    return np.mean(all_f1)\n",
    "\n",
    "f1_score_order = make_scorer(f1_score_order_func)\n",
    "\n",
    "# recall\n",
    "\n",
    "def recall_score_order_entry_func(y_, y_pred_):\n",
    "    \n",
    "    recall = len(y_pred_.intersection(y_)) / len(y_)\n",
    "    \n",
    "    return recall\n",
    "\n",
    "def recall_score_order_func(y, y_pred):\n",
    "    \n",
    "    all_recall = []\n",
    "    for y_, y_pred_ in zip(y, y_pred):\n",
    "        recall = recall_score_order_entry_func(y_, y_pred_)\n",
    "        all_recall.append(recall)\n",
    "        \n",
    "    return np.mean(all_recall)\n",
    "\n",
    "recall_score_order = make_scorer(recall_score_order_func)\n",
    "\n",
    "# filtering\n",
    "\n",
    "from math import factorial\n",
    "\n",
    "def reduction_entry_func(n_triples, y_pred):\n",
    "    \n",
    "    n_entries = len(y_pred)\n",
    "    total_orders = n_entries * factorial(n_triples)\n",
    "    selected_orders = sum(len(a) for a in y_pred)\n",
    "    \n",
    "    return selected_orders / total_orders"
   ]
  },
  {
   "cell_type": "code",
   "execution_count": 127,
   "metadata": {},
   "outputs": [
    {
     "name": "stderr",
     "output_type": "stream",
     "text": [
      "C:\\ProgramData\\Anaconda3\\envs\\webnlg\\lib\\site-packages\\sklearn\\linear_model\\logistic.py:947: ConvergenceWarning: lbfgs failed to converge. Increase the number of iterations.\n",
      "  \"of iterations.\", ConvergenceWarning)\n",
      "C:\\ProgramData\\Anaconda3\\envs\\webnlg\\lib\\site-packages\\sklearn\\linear_model\\logistic.py:947: ConvergenceWarning: lbfgs failed to converge. Increase the number of iterations.\n",
      "  \"of iterations.\", ConvergenceWarning)\n",
      "C:\\ProgramData\\Anaconda3\\envs\\webnlg\\lib\\site-packages\\sklearn\\linear_model\\logistic.py:947: ConvergenceWarning: lbfgs failed to converge. Increase the number of iterations.\n",
      "  \"of iterations.\", ConvergenceWarning)\n"
     ]
    },
    {
     "data": {
      "text/plain": [
       "Pipeline(memory=None,\n",
       "         steps=[('data',\n",
       "                 MyTransformer(data_pipeline=DictVectorizer(dtype=<class 'numpy.float64'>,\n",
       "                                                            separator='=',\n",
       "                                                            sort=True,\n",
       "                                                            sparse=True))),\n",
       "                ('clf',\n",
       "                 MyModel(clf=DecisionTreeClassifier(class_weight='balanced',\n",
       "                                                    criterion='gini',\n",
       "                                                    max_depth=None,\n",
       "                                                    max_features=None,\n",
       "                                                    max_leaf_nodes=None,\n",
       "                                                    min_impurity_decrease=0.0,\n",
       "                                                    min_impurity_split=None,\n",
       "                                                    min_samples_leaf=1,\n",
       "                                                    min_samples_split=2,\n",
       "                                                    min_weight_fraction_leaf=0.0,\n",
       "                                                    presort=False,\n",
       "                                                    random_state=None,\n",
       "                                                    splitter='best')))],\n",
       "         verbose=False)"
      ]
     },
     "execution_count": 127,
     "metadata": {},
     "output_type": "execute_result"
    }
   ],
   "source": [
    "from sklearn.feature_extraction import DictVectorizer\n",
    "from sklearn.pipeline import Pipeline\n",
    "from sklearn.linear_model import LogisticRegression\n",
    "from sklearn.tree import DecisionTreeClassifier\n",
    "from sklearn.dummy import DummyClassifier\n",
    "from sklearn.model_selection import GridSearchCV\n",
    "\n",
    "pipeline = Pipeline([\n",
    "    ('data', MyTransformer(DictVectorizer())),\n",
    "    ('clf', MyModel())\n",
    "])\n",
    "\n",
    "params_grid = [\n",
    "    {\n",
    "        'clf__clf': [LogisticRegression(solver='lbfgs'), \n",
    "                     DecisionTreeClassifier()],\n",
    "        'clf__clf__class_weight': [None, 'balanced']\n",
    "    },\n",
    "    {\n",
    "        'clf__clf': [DummyClassifier(constant=1)],\n",
    "        'clf__clf__strategy': ['stratified', 'constant']\n",
    "    }\n",
    "]\n",
    "\n",
    "cv = GridSearchCV(pipeline, params_grid, cv=3, scoring=f1_score_order, return_train_score=True)\n",
    "\n",
    "cv.fit(X_train, y_train)\n",
    "\n",
    "cv.best_estimator_"
   ]
  },
  {
   "cell_type": "code",
   "execution_count": 128,
   "metadata": {},
   "outputs": [
    {
     "data": {
      "text/plain": [
       "0.3508413741661164"
      ]
     },
     "execution_count": 128,
     "metadata": {},
     "output_type": "execute_result"
    }
   ],
   "source": [
    "cv.best_score_"
   ]
  },
  {
   "cell_type": "code",
   "execution_count": 130,
   "metadata": {},
   "outputs": [
    {
     "data": {
      "text/plain": [
       "{'mean_fit_time': array([1.03063385, 1.03786564, 0.96714083, 0.9548738 , 0.92478156,\n",
       "        0.95121034]),\n",
       " 'std_fit_time': array([0.01722273, 0.03737788, 0.03428725, 0.00930989, 0.02296811,\n",
       "        0.02005924]),\n",
       " 'mean_score_time': array([0.08322159, 0.08556112, 0.10073622, 0.10527992, 0.07153519,\n",
       "        0.07117716]),\n",
       " 'std_score_time': array([0.00163764, 0.00125023, 0.00317986, 0.00356645, 0.00207453,\n",
       "        0.00217358]),\n",
       " 'param_clf__clf': masked_array(data=[LogisticRegression(C=1.0, class_weight='balanced', dual=False,\n",
       "                    fit_intercept=True, intercept_scaling=1, l1_ratio=None,\n",
       "                    max_iter=100, multi_class='warn', n_jobs=None, penalty='l2',\n",
       "                    random_state=None, solver='lbfgs', tol=0.0001, verbose=0,\n",
       "                    warm_start=False),\n",
       "                    LogisticRegression(C=1.0, class_weight='balanced', dual=False,\n",
       "                    fit_intercept=True, intercept_scaling=1, l1_ratio=None,\n",
       "                    max_iter=100, multi_class='warn', n_jobs=None, penalty='l2',\n",
       "                    random_state=None, solver='lbfgs', tol=0.0001, verbose=0,\n",
       "                    warm_start=False),\n",
       "                    DecisionTreeClassifier(class_weight='balanced', criterion='gini',\n",
       "                        max_depth=None, max_features=None, max_leaf_nodes=None,\n",
       "                        min_impurity_decrease=0.0, min_impurity_split=None,\n",
       "                        min_samples_leaf=1, min_samples_split=2,\n",
       "                        min_weight_fraction_leaf=0.0, presort=False,\n",
       "                        random_state=None, splitter='best'),\n",
       "                    DecisionTreeClassifier(class_weight='balanced', criterion='gini',\n",
       "                        max_depth=None, max_features=None, max_leaf_nodes=None,\n",
       "                        min_impurity_decrease=0.0, min_impurity_split=None,\n",
       "                        min_samples_leaf=1, min_samples_split=2,\n",
       "                        min_weight_fraction_leaf=0.0, presort=False,\n",
       "                        random_state=None, splitter='best'),\n",
       "                    DummyClassifier(constant=1, random_state=None, strategy='constant'),\n",
       "                    DummyClassifier(constant=1, random_state=None, strategy='constant')],\n",
       "              mask=[False, False, False, False, False, False],\n",
       "        fill_value='?',\n",
       "             dtype=object),\n",
       " 'param_clf__clf__class_weight': masked_array(data=[None, 'balanced', None, 'balanced', --, --],\n",
       "              mask=[False, False, False, False,  True,  True],\n",
       "        fill_value='?',\n",
       "             dtype=object),\n",
       " 'param_clf__clf__strategy': masked_array(data=[--, --, --, --, 'stratified', 'constant'],\n",
       "              mask=[ True,  True,  True,  True, False, False],\n",
       "        fill_value='?',\n",
       "             dtype=object),\n",
       " 'params': [{'clf__clf': LogisticRegression(C=1.0, class_weight='balanced', dual=False,\n",
       "                      fit_intercept=True, intercept_scaling=1, l1_ratio=None,\n",
       "                      max_iter=100, multi_class='warn', n_jobs=None, penalty='l2',\n",
       "                      random_state=None, solver='lbfgs', tol=0.0001, verbose=0,\n",
       "                      warm_start=False), 'clf__clf__class_weight': None},\n",
       "  {'clf__clf': LogisticRegression(C=1.0, class_weight='balanced', dual=False,\n",
       "                      fit_intercept=True, intercept_scaling=1, l1_ratio=None,\n",
       "                      max_iter=100, multi_class='warn', n_jobs=None, penalty='l2',\n",
       "                      random_state=None, solver='lbfgs', tol=0.0001, verbose=0,\n",
       "                      warm_start=False), 'clf__clf__class_weight': 'balanced'},\n",
       "  {'clf__clf': DecisionTreeClassifier(class_weight='balanced', criterion='gini',\n",
       "                          max_depth=None, max_features=None, max_leaf_nodes=None,\n",
       "                          min_impurity_decrease=0.0, min_impurity_split=None,\n",
       "                          min_samples_leaf=1, min_samples_split=2,\n",
       "                          min_weight_fraction_leaf=0.0, presort=False,\n",
       "                          random_state=None, splitter='best'),\n",
       "   'clf__clf__class_weight': None},\n",
       "  {'clf__clf': DecisionTreeClassifier(class_weight='balanced', criterion='gini',\n",
       "                          max_depth=None, max_features=None, max_leaf_nodes=None,\n",
       "                          min_impurity_decrease=0.0, min_impurity_split=None,\n",
       "                          min_samples_leaf=1, min_samples_split=2,\n",
       "                          min_weight_fraction_leaf=0.0, presort=False,\n",
       "                          random_state=None, splitter='best'),\n",
       "   'clf__clf__class_weight': 'balanced'},\n",
       "  {'clf__clf': DummyClassifier(constant=1, random_state=None, strategy='constant'),\n",
       "   'clf__clf__strategy': 'stratified'},\n",
       "  {'clf__clf': DummyClassifier(constant=1, random_state=None, strategy='constant'),\n",
       "   'clf__clf__strategy': 'constant'}],\n",
       " 'split0_test_score': array([0.00171821, 0.21347005, 0.29482286, 0.3458823 , 0.06328751,\n",
       "        0.17544856]),\n",
       " 'split1_test_score': array([0.        , 0.22450458, 0.27978031, 0.34227331, 0.07929144,\n",
       "        0.1757265 ]),\n",
       " 'split2_test_score': array([0.        , 0.23007854, 0.27755277, 0.36436852, 0.07881893,\n",
       "        0.18597817]),\n",
       " 'mean_test_score': array([0.00057274, 0.22268439, 0.28405198, 0.35084137, 0.0737993 ,\n",
       "        0.17905107]),\n",
       " 'std_test_score': array([0.00080997, 0.00690146, 0.00767026, 0.00967795, 0.00743546,\n",
       "        0.00489951]),\n",
       " 'rank_test_score': array([6, 3, 2, 1, 5, 4]),\n",
       " 'split0_train_score': array([0.        , 0.22606004, 0.53576951, 0.59124212, 0.07348634,\n",
       "        0.18085233]),\n",
       " 'split1_train_score': array([0.00085911, 0.22839156, 0.49536082, 0.58309699, 0.07646969,\n",
       "        0.18071336]),\n",
       " 'split2_train_score': array([0.00085911, 0.22465622, 0.5005216 , 0.57368546, 0.09077186,\n",
       "        0.17558753]),\n",
       " 'mean_train_score': array([5.72737686e-04, 2.26369274e-01, 5.10550646e-01, 5.82674857e-01,\n",
       "        8.02426263e-02, 1.79051074e-01]),\n",
       " 'std_train_score': array([0.00040499, 0.00154054, 0.01795646, 0.00717369, 0.00754425,\n",
       "        0.00244975])}"
      ]
     },
     "execution_count": 130,
     "metadata": {},
     "output_type": "execute_result"
    }
   ],
   "source": [
    "cv.cv_results_"
   ]
  },
  {
   "cell_type": "code",
   "execution_count": 131,
   "metadata": {},
   "outputs": [
    {
     "data": {
      "text/plain": [
       "{'clf__clf': DecisionTreeClassifier(class_weight='balanced', criterion='gini',\n",
       "                        max_depth=None, max_features=None, max_leaf_nodes=None,\n",
       "                        min_impurity_decrease=0.0, min_impurity_split=None,\n",
       "                        min_samples_leaf=1, min_samples_split=2,\n",
       "                        min_weight_fraction_leaf=0.0, presort=False,\n",
       "                        random_state=None, splitter='best'),\n",
       " 'clf__clf__class_weight': 'balanced'}"
      ]
     },
     "execution_count": 131,
     "metadata": {},
     "output_type": "execute_result"
    }
   ],
   "source": [
    "cv.best_params_"
   ]
  },
  {
   "cell_type": "code",
   "execution_count": 132,
   "metadata": {},
   "outputs": [
    {
     "data": {
      "text/plain": [
       "([{0, 4, 9, 12, 14, 16, 19, 21},\n",
       "  {0, 1, 5, 7, 14, 17, 19},\n",
       "  {0, 2, 7, 8, 10},\n",
       "  {0, 1, 6, 10, 14, 17, 19, 22},\n",
       "  {0, 10, 11, 12, 20, 22}],\n",
       " [{12, 21}, {14, 17}, {7, 8}, {1, 14, 19}, {0, 4, 22}])"
      ]
     },
     "execution_count": 132,
     "metadata": {},
     "output_type": "execute_result"
    }
   ],
   "source": [
    "model = cv.best_estimator_\n",
    "\n",
    "model.predict(X_train[:5]), y_train[:5]"
   ]
  },
  {
   "cell_type": "code",
   "execution_count": 134,
   "metadata": {},
   "outputs": [
    {
     "data": {
      "text/plain": [
       "<matplotlib.axes._subplots.AxesSubplot at 0x1cd49f05320>"
      ]
     },
     "execution_count": 134,
     "metadata": {},
     "output_type": "execute_result"
    },
    {
     "data": {
      "image/png": "[encoded data removed]",
      "text/plain": [
       "<Figure size 432x288 with 1 Axes>"
      ]
     },
     "metadata": {
      "needs_background": "light"
     },
     "output_type": "display_data"
    }
   ],
   "source": [
    "o = [f1_score_order_entry_func(y_, y_pred_) for y_, y_pred_ in zip(y_train[:500], model.predict(X_train[:500]))]\n",
    "%matplotlib inline\n",
    "pd.Series(o).hist()"
   ]
  },
  {
   "cell_type": "code",
   "execution_count": 135,
   "metadata": {},
   "outputs": [
    {
     "data": {
      "text/plain": [
       "0.5399746918111317"
      ]
     },
     "execution_count": 135,
     "metadata": {},
     "output_type": "execute_result"
    }
   ],
   "source": [
    "y_pred = model.predict(X_train)\n",
    "\n",
    "f1_score_order_func(y_train, y_pred)"
   ]
  },
  {
   "cell_type": "code",
   "execution_count": 136,
   "metadata": {},
   "outputs": [
    {
     "data": {
      "text/plain": [
       "0.9467926689576174"
      ]
     },
     "execution_count": 136,
     "metadata": {},
     "output_type": "execute_result"
    }
   ],
   "source": [
    "recall_score_order_func(y_train, y_pred)"
   ]
  },
  {
   "cell_type": "code",
   "execution_count": 137,
   "metadata": {},
   "outputs": [
    {
     "data": {
      "text/plain": [
       "0.23782932416953034"
      ]
     },
     "execution_count": 137,
     "metadata": {},
     "output_type": "execute_result"
    }
   ],
   "source": [
    "reduction_entry_func(4, y_pred)"
   ]
  },
  {
   "cell_type": "code",
   "execution_count": 138,
   "metadata": {},
   "outputs": [
    {
     "data": {
      "text/plain": [
       "0.08626861397479954"
      ]
     },
     "execution_count": 138,
     "metadata": {},
     "output_type": "execute_result"
    }
   ],
   "source": [
    "reduction_entry_func(4, y_train)"
   ]
  },
  {
   "cell_type": "code",
   "execution_count": 140,
   "metadata": {},
   "outputs": [
    {
     "data": {
      "text/plain": [
       "0.34016422124298834"
      ]
     },
     "execution_count": 140,
     "metadata": {},
     "output_type": "execute_result"
    }
   ],
   "source": [
    "y_pred = model.predict(X_test)\n",
    "\n",
    "f1_score_order_func(y_test, y_pred)"
   ]
  },
  {
   "cell_type": "code",
   "execution_count": 141,
   "metadata": {},
   "outputs": [
    {
     "data": {
      "text/plain": [
       "0.6067351598173517"
      ]
     },
     "execution_count": 141,
     "metadata": {},
     "output_type": "execute_result"
    }
   ],
   "source": [
    "recall_score_order_func(y_test, y_pred)"
   ]
  },
  {
   "cell_type": "code",
   "execution_count": 142,
   "metadata": {},
   "outputs": [
    {
     "data": {
      "text/plain": [
       "0.2237442922374429"
      ]
     },
     "execution_count": 142,
     "metadata": {},
     "output_type": "execute_result"
    }
   ],
   "source": [
    "reduction_entry_func(4, y_pred)"
   ]
  },
  {
   "cell_type": "markdown",
   "metadata": {},
   "source": [
    "# Formulation [(o, kendall)]"
   ]
  },
  {
   "cell_type": "code",
   "execution_count": 3,
   "metadata": {},
   "outputs": [],
   "source": [
    "from itertools import permutations\n",
    "from scipy.stats import kendalltau\n",
    "from operator import itemgetter\n",
    "\n",
    "def calc_kendall(o1, good_os):\n",
    "    \n",
    "    all_kendall = [kendalltau(o, o1).correlation for o in good_os]\n",
    "    \n",
    "    max_kendall = max(all_kendall)\n",
    "    \n",
    "    return max_kendall"
   ]
  },
  {
   "cell_type": "code",
   "execution_count": 198,
   "metadata": {},
   "outputs": [
    {
     "data": {
      "text/plain": [
       "Food               353\n",
       "WrittenWork        279\n",
       "Building           229\n",
       "Airport            211\n",
       "SportsTeam         191\n",
       "Astronaut           72\n",
       "ComicsCharacter     72\n",
       "University          66\n",
       "Monument            47\n",
       "dtype: int64"
      ]
     },
     "execution_count": 198,
     "metadata": {},
     "output_type": "execute_result"
    }
   ],
   "source": [
    "pd.Series([e.category for e in td if len(e.triples) == 3]).value_counts()"
   ]
  },
  {
   "cell_type": "code",
   "execution_count": 212,
   "metadata": {},
   "outputs": [],
   "source": [
    "from sklearn.model_selection import train_test_split\n",
    "\n",
    "# se há apenas uma tripla, não tenho o que ordenar\n",
    "td_5 = [e for e in td if len(e.triples) == 4]\n",
    "\n",
    "td_5_train, td_5_test = train_test_split(td_5, test_size=0.5, random_state=42)\n",
    "\n",
    "def make_data(entries):\n",
    "\n",
    "    data_train = set()\n",
    "\n",
    "    for e_ix, e in enumerate(entries):\n",
    "\n",
    "        good_orders = extract_orders(e)\n",
    "        all_orders = permutations(e.triples)\n",
    "\n",
    "        for o in all_orders:\n",
    "\n",
    "            kendall = calc_kendall(o, good_orders)\n",
    "\n",
    "            data = (o, e_ix, kendall)\n",
    "\n",
    "            data_train.add(data)\n",
    "\n",
    "    X = [(o, entries[e_ix], e_ix) for o, e_ix, _ in data_train]\n",
    "    y = [kendall for o, e_ix, kendall in data_train]\n",
    "    \n",
    "    return X, y\n",
    "\n",
    "X_train, y_train = make_data(td_5_train)\n",
    "X_test, y_test = make_data(td_5_test)"
   ]
  },
  {
   "cell_type": "code",
   "execution_count": 213,
   "metadata": {},
   "outputs": [
    {
     "data": {
      "text/plain": [
       "(17472, 663)"
      ]
     },
     "execution_count": 213,
     "metadata": {},
     "output_type": "execute_result"
    }
   ],
   "source": [
    "len(y_train), sum(1 for y in y_train if y == 1.0)"
   ]
  },
  {
   "cell_type": "code",
   "execution_count": 214,
   "metadata": {},
   "outputs": [],
   "source": [
    "from sklearn.feature_extraction import DictVectorizer\n",
    "from sklearn.pipeline import Pipeline\n",
    "from sklearn.base import TransformerMixin\n",
    "from itertools import permutations, product, combinations\n",
    "from collections import Counter\n",
    "from template_based2 import abstract_triples\n",
    "from functools import reduce\n",
    "\n",
    "\n",
    "def frac_siblings(o):\n",
    "    \n",
    "    i = 0\n",
    "    current_s = None\n",
    "    for o_ in o:\n",
    "        if o_.subject == current_s:\n",
    "            i += 1\n",
    "        else:\n",
    "            current_s = o_.subject\n",
    "            \n",
    "    subs = Counter(o_.subject for o_ in o)\n",
    "    max_siblings = sum(v - 1 for v in subs.values())\n",
    "    \n",
    "    if max_siblings == 0:\n",
    "        return 1.0\n",
    "    \n",
    "    return i / max_siblings\n",
    "\n",
    "def frac_connections(o):\n",
    "    \n",
    "    n = 0\n",
    "    for t, t_1 in zip(o[:-1], o[1:]):\n",
    "        if t.object == t_1.subject:\n",
    "            n += 1\n",
    "    \n",
    "    subs = set(t.subject for t in o)\n",
    "    objs = set(t.object for t in o)\n",
    "    \n",
    "    len_intersect = len(subs.intersection(objs))\n",
    "    if len_intersect:\n",
    "        return n / len_intersect\n",
    "    else:\n",
    "        return 1\n",
    "\n",
    "def is_first_the_main(o):\n",
    "    \n",
    "    subjs = set(t.subject for t in o)\n",
    "    objs = set(t.object for t in o)\n",
    "    \n",
    "    s_not_o = subjs - objs\n",
    "    \n",
    "    return o[0].subject in s_not_o\n",
    "\n",
    "\n",
    "class ExtractFeatures(TransformerMixin):\n",
    "    \n",
    "    def fit(self, X, y=None):\n",
    "        \n",
    "        self.freq_in_position = defaultdict(lambda: Counter())\n",
    "        self.freq_all = Counter()\n",
    "        self.freq_bigrams = Counter()\n",
    "        self.freq_unigrams = Counter()\n",
    "        \n",
    "        entries = []\n",
    "        seen = set()\n",
    "        for o, e, e_ix in X:\n",
    "            if e_ix not in seen:\n",
    "                entries.append(e)\n",
    "                seen.add(e_ix)\n",
    "        \n",
    "        for e in entries:\n",
    "            for pos, t in enumerate(e.triples):\n",
    "                self.freq_in_position[pos][t.predicate] += 1\n",
    "                self.freq_unigrams[t.predicate] += 1\n",
    "            \n",
    "            for o in extract_orders(e):\n",
    "                \n",
    "                a_o = abstract_triples(o)\n",
    "                \n",
    "                self.freq_all[a_o] += 1\n",
    "                \n",
    "            for t1, t2 in zip(e.triples[:-1], e.triples[1:]):\n",
    "                self.freq_bigrams[(t1.predicate, t2.predicate)] += 1\n",
    "            \n",
    "        return self\n",
    "    \n",
    "    def transform(self, X, y=None):\n",
    "        \n",
    "        return [self.extract_features(o, e) for (o, e, e_ix) in X]\n",
    "        \n",
    "    def extract_features(self, order, e):\n",
    "        \n",
    "        a_o = abstract_triples(order)\n",
    "        a_o_pref = abstract_triples(order[:-1])\n",
    "        \n",
    "        freq_in_pos = {f'freq_in_pos_{i}': self.freq_in_position[i][order[i].predicate]\n",
    "                       for i in range(len(order))}\n",
    "        total_freq = max(sum(freq_in_pos.values()), 1)\n",
    "        freq_in_pos = {k: v / total_freq for k, v in freq_in_pos.items()}\n",
    "        \n",
    "        naive_prob_predicates = reduce(lambda x, y: x*y,\n",
    "                                       [(self.freq_bigrams[(t1.predicate, t2.predicate)] + 1) / (self.freq_unigrams[t1.predicate] + len(order))\n",
    "                                        for t1, t2 in zip(order[:-1], order[1:])])\n",
    "    \n",
    "        features = {'freq_all': self.freq_all[a_o],\n",
    "                    'kendall_from_original': kendalltau(e.triples, order).correlation,\n",
    "                    'frac_connections': frac_connections(order),\n",
    "                    'is_first_the_main': is_first_the_main(order),\n",
    "                    'frac_siblings': frac_siblings(order),\n",
    "                    'naive_prob_predicates': naive_prob_predicates\n",
    "                   }\n",
    "        features.update(freq_in_pos)\n",
    "        \n",
    "        return features"
   ]
  },
  {
   "cell_type": "code",
   "execution_count": 215,
   "metadata": {},
   "outputs": [],
   "source": [
    "from sklearn.linear_model import Lasso, Ridge\n",
    "from sklearn.tree import DecisionTreeRegressor\n",
    "from sklearn.svm import SVR\n",
    "from sklearn.dummy import DummyRegressor\n",
    "from sklearn.model_selection import GridSearchCV, train_test_split\n",
    "from sklearn.compose import ColumnTransformer\n",
    "from sklearn.preprocessing import MinMaxScaler\n",
    "\n",
    "data_pipeline = Pipeline([\n",
    "    ('extract', ExtractFeatures()),\n",
    "    ('vectorizer', DictVectorizer(sparse=False, sort=False)),\n",
    "    ('mms', MinMaxScaler())\n",
    "])\n",
    "\n",
    "pipeline = Pipeline([\n",
    "    ('data', data_pipeline),\n",
    "    ('clf', Lasso())\n",
    "])\n",
    "\n",
    "params_grid = {\n",
    "    'clf__alpha': [10e-5, 10e-3, 1.0, 10]\n",
    "}\n",
    "\n",
    "\n",
    "cv = GridSearchCV(pipeline, params_grid, cv=3, return_train_score=True, scoring=\"neg_mean_squared_error\")"
   ]
  },
  {
   "cell_type": "code",
   "execution_count": 216,
   "metadata": {},
   "outputs": [
    {
     "data": {
      "text/plain": [
       "GridSearchCV(cv=3, error_score='raise-deprecating',\n",
       "             estimator=Pipeline(memory=None,\n",
       "                                steps=[('data',\n",
       "                                        Pipeline(memory=None,\n",
       "                                                 steps=[('extract',\n",
       "                                                         <__main__.ExtractFeatures object at 0x0000023993173400>),\n",
       "                                                        ('vectorizer',\n",
       "                                                         DictVectorizer(dtype=<class 'numpy.float64'>,\n",
       "                                                                        separator='=',\n",
       "                                                                        sort=False,\n",
       "                                                                        sparse=False)),\n",
       "                                                        ('mms',\n",
       "                                                         MinMaxScaler(copy=True,\n",
       "                                                                      feature_range=(0,\n",
       "                                                                                     1)))],\n",
       "                                                 verbose=Fa...\n",
       "                                        Lasso(alpha=1.0, copy_X=True,\n",
       "                                              fit_intercept=True, max_iter=1000,\n",
       "                                              normalize=False, positive=False,\n",
       "                                              precompute=False,\n",
       "                                              random_state=None,\n",
       "                                              selection='cyclic', tol=0.0001,\n",
       "                                              warm_start=False))],\n",
       "                                verbose=False),\n",
       "             iid='warn', n_jobs=None,\n",
       "             param_grid={'clf__alpha': [0.0001, 0.01, 1.0, 10]},\n",
       "             pre_dispatch='2*n_jobs', refit=True, return_train_score=True,\n",
       "             scoring='neg_mean_squared_error', verbose=0)"
      ]
     },
     "execution_count": 216,
     "metadata": {},
     "output_type": "execute_result"
    }
   ],
   "source": [
    "cv.fit(X_train, y_train)"
   ]
  },
  {
   "cell_type": "code",
   "execution_count": 217,
   "metadata": {},
   "outputs": [
    {
     "data": {
      "text/plain": [
       "{'mean_fit_time': array([4.25732374, 4.23796686, 4.54944022, 4.78841472]),\n",
       " 'std_fit_time': array([0.12860371, 0.10055487, 0.34438779, 0.12316272]),\n",
       " 'mean_score_time': array([2.18312112, 2.28638029, 2.28473028, 2.14301403]),\n",
       " 'std_score_time': array([0.10809587, 0.20288713, 0.09488796, 0.03318789]),\n",
       " 'param_clf__alpha': masked_array(data=[0.0001, 0.01, 1.0, 10],\n",
       "              mask=[False, False, False, False],\n",
       "        fill_value='?',\n",
       "             dtype=object),\n",
       " 'params': [{'clf__alpha': 0.0001},\n",
       "  {'clf__alpha': 0.01},\n",
       "  {'clf__alpha': 1.0},\n",
       "  {'clf__alpha': 10}],\n",
       " 'split0_test_score': array([-0.03017245, -0.03492865, -0.03761114, -0.03761114]),\n",
       " 'split1_test_score': array([-0.03112582, -0.03590196, -0.03906405, -0.03906405]),\n",
       " 'split2_test_score': array([-0.02952579, -0.03419131, -0.03699911, -0.03699911]),\n",
       " 'mean_test_score': array([-0.03027469, -0.03500731, -0.03789143, -0.03789143]),\n",
       " 'std_test_score': array([0.0006572 , 0.00070058, 0.00086599, 0.00086599]),\n",
       " 'rank_test_score': array([1, 2, 3, 3]),\n",
       " 'split0_train_score': array([-0.03026278, -0.03489826, -0.03802897, -0.03802897]),\n",
       " 'split1_train_score': array([-0.02976805, -0.03471626, -0.03730234, -0.03730234]),\n",
       " 'split2_train_score': array([-0.03056541, -0.03532171, -0.03833578, -0.03833578]),\n",
       " 'mean_train_score': array([-0.03019875, -0.03497874, -0.03788903, -0.03788903]),\n",
       " 'std_train_score': array([0.00032865, 0.00025364, 0.00043335, 0.00043335])}"
      ]
     },
     "execution_count": 217,
     "metadata": {},
     "output_type": "execute_result"
    }
   ],
   "source": [
    "cv.cv_results_"
   ]
  },
  {
   "cell_type": "code",
   "execution_count": 218,
   "metadata": {},
   "outputs": [
    {
     "data": {
      "text/plain": [
       "0.17399622658476965"
      ]
     },
     "execution_count": 218,
     "metadata": {},
     "output_type": "execute_result"
    }
   ],
   "source": [
    "import numpy as np\n",
    "\n",
    "# 'mean_test_score': array([-0.04062265, -0.05654432, -0.05163638]),\n",
    "# 'mean_test_score': array([-0.04471065, -0.05138794, -0.05776111]),\n",
    "# 'mean_test_score': array([-0.04257936, -0.05973032, -0.05585099]),\n",
    "# 'mean_test_score': array([-0.04240701, -0.05805845, -0.05585099]),\n",
    "# 'mean_test_score': array([-0.04213137, -0.05692459, -0.05585099]),\n",
    "# 'mean_test_score': array([-0.04330174, -0.05722233, -0.05585099]),\n",
    "np.sqrt(-cv.best_score_) # 0.2080907045487102 ... 0.2059296160722554 0.206347679302091 0.2015506028032126 0.17021924438247926"
   ]
  },
  {
   "cell_type": "code",
   "execution_count": 219,
   "metadata": {},
   "outputs": [
    {
     "data": {
      "text/plain": [
       "Pipeline(memory=None,\n",
       "         steps=[('data',\n",
       "                 Pipeline(memory=None,\n",
       "                          steps=[('extract',\n",
       "                                  <__main__.ExtractFeatures object at 0x0000023993173390>),\n",
       "                                 ('vectorizer',\n",
       "                                  DictVectorizer(dtype=<class 'numpy.float64'>,\n",
       "                                                 separator='=', sort=False,\n",
       "                                                 sparse=False)),\n",
       "                                 ('mms',\n",
       "                                  MinMaxScaler(copy=True,\n",
       "                                               feature_range=(0, 1)))],\n",
       "                          verbose=False)),\n",
       "                ('clf',\n",
       "                 Lasso(alpha=0.0001, copy_X=True, fit_intercept=True,\n",
       "                       max_iter=1000, normalize=False, positive=False,\n",
       "                       precompute=False, random_state=None, selection='cyclic',\n",
       "                       tol=0.0001, warm_start=False))],\n",
       "         verbose=False)"
      ]
     },
     "execution_count": 219,
     "metadata": {},
     "output_type": "execute_result"
    }
   ],
   "source": [
    "model = cv.best_estimator_\n",
    "model"
   ]
  },
  {
   "cell_type": "code",
   "execution_count": 66,
   "metadata": {},
   "outputs": [],
   "source": [
    "def eval_ranking(model, e):\n",
    "    \n",
    "    good_orders = extract_orders(e)\n",
    "    all_orders = list(permutations(e.triples))\n",
    "    \n",
    "    scores = model.predict([(o, e, 0) for o in all_orders])\n",
    "    all_orders_sorted = [o for o, s in sorted(zip(all_orders, scores), key=lambda o: o[1], reverse=True)]\n",
    "    \n",
    "    good_positions = [all_orders_sorted.index(o) for o in good_orders]\n",
    "    \n",
    "    return min(good_positions), max(good_positions)"
   ]
  },
  {
   "cell_type": "code",
   "execution_count": 67,
   "metadata": {},
   "outputs": [],
   "source": [
    "def score_model_func(model, entries):\n",
    "    \n",
    "    mins = []\n",
    "    maxs = []\n",
    "\n",
    "    for e in entries:\n",
    "        \n",
    "        min_pos, max_pos = eval_ranking(model, e)\n",
    "        mins.append(min_pos)\n",
    "        maxs.append(max_pos)\n",
    "        \n",
    "    return mins, maxs"
   ]
  },
  {
   "cell_type": "code",
   "execution_count": 104,
   "metadata": {},
   "outputs": [
    {
     "data": {
      "text/plain": [
       "count    177.000000\n",
       "mean       0.677966\n",
       "std        0.984667\n",
       "min        0.000000\n",
       "50%        0.000000\n",
       "90%        2.000000\n",
       "95%        3.000000\n",
       "99%        4.000000\n",
       "max        4.000000\n",
       "dtype: float64"
      ]
     },
     "execution_count": 104,
     "metadata": {},
     "output_type": "execute_result"
    }
   ],
   "source": [
    "import pandas as pd\n",
    "\n",
    "mins, maxs = score_model_func(model, td_5_test)\n",
    "\n",
    "#90%      12.500000\n",
    "#95%      20.750000\n",
    "#99%      52.000000\n",
    "\n",
    "#50%        7.000000\n",
    "#90%       51.000000\n",
    "#95%       73.000000\n",
    "pd.Series(mins).describe(percentiles=[.9, .95, .99])"
   ]
  },
  {
   "cell_type": "code",
   "execution_count": 69,
   "metadata": {},
   "outputs": [
    {
     "data": {
      "text/plain": [
       "count    88.000000\n",
       "mean      0.590909\n",
       "std       1.699468\n",
       "min       0.000000\n",
       "50%       0.000000\n",
       "90%       2.000000\n",
       "95%       3.000000\n",
       "99%       7.650000\n",
       "max      12.000000\n",
       "dtype: float64"
      ]
     },
     "execution_count": 69,
     "metadata": {},
     "output_type": "execute_result"
    }
   ],
   "source": [
    "mins, maxs = score_model_func(model, td_5_train)\n",
    "\n",
    "#90%        4.000000\n",
    "#95%        6.000000\n",
    "#99%       14.800000\n",
    "\n",
    "#90%        1.00000\n",
    "#95%        2.00000\n",
    "#99%        3.00000\n",
    "pd.Series(mins).describe(percentiles=[.9, .95, .99])"
   ]
  },
  {
   "cell_type": "code",
   "execution_count": 96,
   "metadata": {},
   "outputs": [],
   "source": [
    "y_pred = model.predict(X_train)\n",
    "\n",
    "X_train_processed = model.steps[0][1][:-1].transform(X_train)"
   ]
  },
  {
   "cell_type": "code",
   "execution_count": 97,
   "metadata": {},
   "outputs": [],
   "source": [
    "import pandas as pd\n",
    "\n",
    "df = pd.DataFrame(X_train_processed, columns=model.steps[0][1][1].feature_names_)\n",
    "\n",
    "df['y_true'] = y_train\n",
    "df['y_pred'] = y_pred"
   ]
  },
  {
   "cell_type": "code",
   "execution_count": 108,
   "metadata": {},
   "outputs": [],
   "source": [
    "def precision_recall(model, entries, n_max=10):\n",
    "    \n",
    "    total_returned = [0 for _ in range(n_max)]\n",
    "    total_matched = [0 for _ in range(n_max)]\n",
    "    total_good = [0 for _ in range(n_max)]\n",
    "    \n",
    "    for e in entries:\n",
    "    \n",
    "        good_orders = extract_orders(e)\n",
    "        all_orders = list(permutations(e.triples))\n",
    "        \n",
    "        scores = model.predict([o, e, 0] for o in all_orders)\n",
    "        all_orders_sorted = [o for o, s in sorted(zip(all_orders, scores), key=lambda o: o[1], reverse=True)]\n",
    "        \n",
    "        for i in range(1, n_max + 1):\n",
    "            all_n_max = all_orders_sorted[:i]\n",
    "\n",
    "            total_returned[i-1] += len(all_n_max)\n",
    "            total_matched[i-1] += len(set(all_n_max).intersection(good_orders))\n",
    "            total_good[i-1] += len(good_orders)\n",
    "        \n",
    "    precision = [m/r for m, r in zip(total_matched, total_returned)]\n",
    "    recall = [m/g for m, g in zip(total_matched, total_good)]\n",
    "    \n",
    "    return precision, recall"
   ]
  },
  {
   "cell_type": "code",
   "execution_count": 220,
   "metadata": {},
   "outputs": [],
   "source": [
    "precision, recall = precision_recall(model, td_5_test, 24)"
   ]
  },
  {
   "cell_type": "code",
   "execution_count": 208,
   "metadata": {},
   "outputs": [
    {
     "data": {
      "text/plain": [
       "Text(0.5, 1.0, 'Modelo')"
      ]
     },
     "execution_count": 208,
     "metadata": {},
     "output_type": "execute_result"
    },
    {
     "data": {
      "image/png": "[encoded data removed]",
      "text/plain": [
       "<Figure size 432x288 with 1 Axes>"
      ]
     },
     "metadata": {
      "needs_background": "light"
     },
     "output_type": "display_data"
    }
   ],
   "source": [
    "from matplotlib import pyplot as plt\n",
    "%matplotlib inline\n",
    "\n",
    "plt.plot(range(1, len(precision) + 1), precision, label='precision')\n",
    "plt.plot(range(1, len(recall) + 1), recall, label='recall')\n",
    "plt.legend()\n",
    "plt.title('Modelo')"
   ]
  },
  {
   "cell_type": "code",
   "execution_count": 209,
   "metadata": {},
   "outputs": [],
   "source": [
    "from random import shuffle\n",
    "\n",
    "def precision_recall_random(entries, n_max=10):\n",
    "    \n",
    "    total_returned = [0 for _ in range(n_max)]\n",
    "    total_matched = [0 for _ in range(n_max)]\n",
    "    total_good = [0 for _ in range(n_max)]\n",
    "    \n",
    "    for e in entries:\n",
    "    \n",
    "        good_orders = extract_orders(e)\n",
    "        all_orders = list(permutations(e.triples))\n",
    "        shuffle(all_orders)\n",
    "        \n",
    "        all_orders_shuffled = list(all_orders)\n",
    "        \n",
    "        for i in range(1, n_max + 1):\n",
    "            all_n_max = all_orders_shuffled[:i]\n",
    "\n",
    "            total_returned[i-1] += len(all_n_max)\n",
    "            total_matched[i-1] += len(set(all_n_max).intersection(good_orders))\n",
    "            total_good[i-1] += len(good_orders)\n",
    "        \n",
    "    precision = [m/r for m, r in zip(total_matched, total_returned)]\n",
    "    recall = [m/g for m, g in zip(total_matched, total_good)]\n",
    "    \n",
    "    return precision, recall"
   ]
  },
  {
   "cell_type": "code",
   "execution_count": 221,
   "metadata": {},
   "outputs": [
    {
     "data": {
      "text/plain": [
       "Text(0.5, 1.0, 'Random')"
      ]
     },
     "execution_count": 221,
     "metadata": {},
     "output_type": "execute_result"
    },
    {
     "data": {
      "image/png": "[encoded data removed]",
      "text/plain": [
       "<Figure size 1080x432 with 2 Axes>"
      ]
     },
     "metadata": {
      "needs_background": "light"
     },
     "output_type": "display_data"
    }
   ],
   "source": [
    "precision_rnd, recall_rnd = precision_recall_random(td_5_test, 24)\n",
    "\n",
    "fig, axes = plt.subplots(1, 2, figsize=(15, 6), sharey=True)\n",
    "\n",
    "axes[0].plot(range(1, len(precision) + 1), precision, label='precision')\n",
    "axes[0].plot(range(1, len(recall) + 1), recall, label='recall')\n",
    "axes[0].legend()\n",
    "axes[0].set_title('Modelo')\n",
    "\n",
    "axes[1].plot(range(1, len(precision_rnd) + 1), precision_rnd, label='precision')\n",
    "axes[1].plot(range(1, len(recall_rnd) + 1), recall_rnd, label='recall')\n",
    "axes[1].legend()\n",
    "axes[1].set_title('Random')"
   ]
  },
  {
   "cell_type": "code",
   "execution_count": null,
   "metadata": {},
   "outputs": [],
   "source": []
  }
 ],
 "metadata": {
  "kernelspec": {
   "display_name": "Python 3",
   "language": "python",
   "name": "python3"
  },
  "language_info": {
   "codemirror_mode": {
    "name": "ipython",
    "version": 3
   },
   "file_extension": ".py",
   "mimetype": "text/x-python",
   "name": "python",
   "nbconvert_exporter": "python",
   "pygments_lexer": "ipython3",
   "version": "3.7.3"
  }
 },
 "nbformat": 4,
 "nbformat_minor": 2
}
