{
 "cells": [
  {
   "cell_type": "code",
   "execution_count": 280,
   "metadata": {},
   "outputs": [],
   "source": [
    "import sys\n",
    "sys.path.append('../template_model')\n",
    "from util import load_train_dev, Entry\n",
    "import re\n",
    "from collections import Counter, defaultdict\n",
    "from template_based2 import abstract_triples\n",
    "\n",
    "RE_FIND_THIAGO_SLOT = re.compile('((?:AGENT-.)|(?:PATIENT-.)|(?:BRIDGE-.))')\n",
    "\n",
    "def extract_orders(e):\n",
    "    \n",
    "    orders = Counter()\n",
    "    \n",
    "    for lexe in e.lexes:\n",
    "        \n",
    "        slots = RE_FIND_THIAGO_SLOT.findall(lexe['template'])\n",
    "        positions = {k: i for i, k in enumerate(slots)}\n",
    "        positions = defaultdict(lambda: 10000, positions)\n",
    "        sorted_triples = tuple(sorted(e.triples, key=lambda t: positions[e.r_entity_map[t.object]]))\n",
    "        abstracted_sorted_triples = abstract_triples(sorted_triples)\n",
    "        \n",
    "        orders[abstracted_sorted_triples] += 1\n",
    "        \n",
    "    return orders"
   ]
  },
  {
   "cell_type": "code",
   "execution_count": 281,
   "metadata": {},
   "outputs": [],
   "source": [
    "all_td = load_train_dev()\n",
    "\n",
    "# removendo entradas sem r_entity_map\n",
    "td = [t for t in td if t.r_entity_map]"
   ]
  },
  {
   "cell_type": "markdown",
   "metadata": {},
   "source": [
    "# Formulation (order_1, order_2, [-1, 0, 1])"
   ]
  },
  {
   "cell_type": "code",
   "execution_count": 44,
   "metadata": {},
   "outputs": [],
   "source": [
    "from itertools import permutations, product, combinations\n",
    "\n",
    "\n",
    "def extract_features(order, e):\n",
    "    \n",
    "    return {'order': order, \n",
    "            'category': e.category,\n",
    "            'n_triples': len(e.triples),\n",
    "            'is_first_order': order == abstract_triples(e.triples)}\n",
    "\n",
    "def merge_features(l1_features, l2_features):\n",
    "    \n",
    "    features_merged = {'{}_1'.format(k): v for k, v in l1_features.items()}\n",
    "    features_merged.update({'{}_2'.format(k): v for k, v in l2_features.items()})\n",
    "    \n",
    "    return features_merged\n",
    "\n",
    "def make_entries(e):\n",
    "    \n",
    "    data = []\n",
    "    \n",
    "    all_orders = permutations(e.triples)\n",
    "    all_abstracted_orders = set([abstract_triples(ts) for ts in all_orders])\n",
    "    \n",
    "    features = {order: extract_features(order, e) for order in all_abstracted_orders}\n",
    "    \n",
    "    lexicalized_orders = extract_orders(e)\n",
    "    \n",
    "    for l1, l2 in product(lexicalized_orders.keys(), \n",
    "                          all_abstracted_orders - lexicalized_orders.keys()):\n",
    "        \n",
    "        l1_features = features[l1]\n",
    "        l2_features = features[l2]\n",
    "        \n",
    "        l1_l2_features = merge_features(l1_features, l2_features)\n",
    "        l2_l1_features = merge_features(l2_features, l1_features)\n",
    "        \n",
    "        data.append((l1_l2_features, 1))\n",
    "        data.append((l2_l1_features, -1))\n",
    "        \n",
    "    for l1, l2 in combinations(all_abstracted_orders, 2):\n",
    "        \n",
    "        l1_features = features[l1]\n",
    "        l2_features = features[l2]\n",
    "        \n",
    "        l1_l2_features = merge_features(l1_features, l2_features)\n",
    "        \n",
    "        data.append((l1_l2_features, 0))\n",
    "        \n",
    "    return data\n",
    "\n"
   ]
  },
  {
   "cell_type": "code",
   "execution_count": 45,
   "metadata": {},
   "outputs": [],
   "source": [
    "data = []\n",
    "\n",
    "for t in td[:50]:\n",
    "    x = make_entries(td[4444])\n",
    "    data.extend(x)"
   ]
  },
  {
   "cell_type": "code",
   "execution_count": 46,
   "metadata": {},
   "outputs": [
    {
     "data": {
      "text/html": [
       "<div>\n",
       "<style scoped>\n",
       "    .dataframe tbody tr th:only-of-type {\n",
       "        vertical-align: middle;\n",
       "    }\n",
       "\n",
       "    .dataframe tbody tr th {\n",
       "        vertical-align: top;\n",
       "    }\n",
       "\n",
       "    .dataframe thead th {\n",
       "        text-align: right;\n",
       "    }\n",
       "</style>\n",
       "<table border=\"1\" class=\"dataframe\">\n",
       "  <thead>\n",
       "    <tr style=\"text-align: right;\">\n",
       "      <th></th>\n",
       "      <th>target</th>\n",
       "      <th>-1</th>\n",
       "      <th>0</th>\n",
       "      <th>1</th>\n",
       "    </tr>\n",
       "    <tr>\n",
       "      <th>is_first_order_1</th>\n",
       "      <th>is_first_order_2</th>\n",
       "      <th></th>\n",
       "      <th></th>\n",
       "      <th></th>\n",
       "    </tr>\n",
       "  </thead>\n",
       "  <tbody>\n",
       "    <tr>\n",
       "      <th rowspan=\"2\" valign=\"top\">False</th>\n",
       "      <th>False</th>\n",
       "      <td>1100</td>\n",
       "      <td>12650</td>\n",
       "      <td>1100</td>\n",
       "    </tr>\n",
       "    <tr>\n",
       "      <th>True</th>\n",
       "      <td>1100</td>\n",
       "      <td>100</td>\n",
       "      <td>0</td>\n",
       "    </tr>\n",
       "    <tr>\n",
       "      <th>True</th>\n",
       "      <th>False</th>\n",
       "      <td>0</td>\n",
       "      <td>1050</td>\n",
       "      <td>1100</td>\n",
       "    </tr>\n",
       "  </tbody>\n",
       "</table>\n",
       "</div>"
      ],
      "text/plain": [
       "target                               -1      0     1\n",
       "is_first_order_1 is_first_order_2                   \n",
       "False            False             1100  12650  1100\n",
       "                 True              1100    100     0\n",
       "True             False                0   1050  1100"
      ]
     },
     "execution_count": 46,
     "metadata": {},
     "output_type": "execute_result"
    }
   ],
   "source": [
    "import pandas as pd\n",
    "\n",
    "df = pd.DataFrame([c[0] for c in data])\n",
    "df['target'] = [c[1] for c in data]\n",
    "\n",
    "df.groupby(['is_first_order_1', 'is_first_order_2', 'target']).size().unstack(fill_value=0)"
   ]
  },
  {
   "cell_type": "markdown",
   "metadata": {},
   "source": [
    "# Formulation (order, [0, 1])"
   ]
  },
  {
   "cell_type": "code",
   "execution_count": 51,
   "metadata": {},
   "outputs": [],
   "source": [
    "from itertools import permutations, product, combinations\n",
    "\n",
    "\n",
    "def extract_features(order, e):\n",
    "    \n",
    "    return {'order': order, \n",
    "            'category': e.category,\n",
    "            'n_triples': len(e.triples),\n",
    "            'is_first_order': order == abstract_triples(e.triples)}\n",
    "\n",
    "def make_entries(e):\n",
    "    \n",
    "    data = []\n",
    "    \n",
    "    all_orders = permutations(e.triples)\n",
    "    all_abstracted_orders = set([abstract_triples(ts) for ts in all_orders])\n",
    "    \n",
    "    features = {order: extract_features(order, e) for order in all_abstracted_orders}\n",
    "    \n",
    "    lexicalized_orders = extract_orders(e)\n",
    "    \n",
    "    for l in lexicalized_orders.keys():\n",
    "        \n",
    "        l_features = extract_features(l, e)\n",
    "        \n",
    "        data.append((l_features, 1))\n",
    "    \n",
    "    for l in all_abstracted_orders - lexicalized_orders.keys():\n",
    "        \n",
    "        l_features = extract_features(l, e)\n",
    "        \n",
    "        data.append((l_features, 0))\n",
    "        \n",
    "    return data"
   ]
  },
  {
   "cell_type": "code",
   "execution_count": 76,
   "metadata": {},
   "outputs": [],
   "source": [
    "data = []\n",
    "\n",
    "for t in td[:6000]:\n",
    "    x = make_entries(t)\n",
    "    data.extend(x)"
   ]
  },
  {
   "cell_type": "code",
   "execution_count": 77,
   "metadata": {},
   "outputs": [
    {
     "data": {
      "text/html": [
       "<div>\n",
       "<style scoped>\n",
       "    .dataframe tbody tr th:only-of-type {\n",
       "        vertical-align: middle;\n",
       "    }\n",
       "\n",
       "    .dataframe tbody tr th {\n",
       "        vertical-align: top;\n",
       "    }\n",
       "\n",
       "    .dataframe thead th {\n",
       "        text-align: right;\n",
       "    }\n",
       "</style>\n",
       "<table border=\"1\" class=\"dataframe\">\n",
       "  <thead>\n",
       "    <tr style=\"text-align: right;\">\n",
       "      <th></th>\n",
       "      <th>target</th>\n",
       "      <th>0</th>\n",
       "      <th>1</th>\n",
       "    </tr>\n",
       "    <tr>\n",
       "      <th>n_triples</th>\n",
       "      <th>is_first_order</th>\n",
       "      <th></th>\n",
       "      <th></th>\n",
       "    </tr>\n",
       "  </thead>\n",
       "  <tbody>\n",
       "    <tr>\n",
       "      <th>1</th>\n",
       "      <th>True</th>\n",
       "      <td>0</td>\n",
       "      <td>1788</td>\n",
       "    </tr>\n",
       "    <tr>\n",
       "      <th rowspan=\"2\" valign=\"top\">2</th>\n",
       "      <th>False</th>\n",
       "      <td>383</td>\n",
       "      <td>796</td>\n",
       "    </tr>\n",
       "    <tr>\n",
       "      <th>True</th>\n",
       "      <td>248</td>\n",
       "      <td>960</td>\n",
       "    </tr>\n",
       "    <tr>\n",
       "      <th rowspan=\"2\" valign=\"top\">3</th>\n",
       "      <th>False</th>\n",
       "      <td>4363</td>\n",
       "      <td>1958</td>\n",
       "    </tr>\n",
       "    <tr>\n",
       "      <th>True</th>\n",
       "      <td>732</td>\n",
       "      <td>618</td>\n",
       "    </tr>\n",
       "    <tr>\n",
       "      <th rowspan=\"2\" valign=\"top\">4</th>\n",
       "      <th>False</th>\n",
       "      <td>24830</td>\n",
       "      <td>2544</td>\n",
       "    </tr>\n",
       "    <tr>\n",
       "      <th>True</th>\n",
       "      <td>1030</td>\n",
       "      <td>264</td>\n",
       "    </tr>\n",
       "    <tr>\n",
       "      <th rowspan=\"2\" valign=\"top\">5</th>\n",
       "      <th>False</th>\n",
       "      <td>37873</td>\n",
       "      <td>827</td>\n",
       "    </tr>\n",
       "    <tr>\n",
       "      <th>True</th>\n",
       "      <td>347</td>\n",
       "      <td>13</td>\n",
       "    </tr>\n",
       "  </tbody>\n",
       "</table>\n",
       "</div>"
      ],
      "text/plain": [
       "target                        0     1\n",
       "n_triples is_first_order             \n",
       "1         True                0  1788\n",
       "2         False             383   796\n",
       "          True              248   960\n",
       "3         False            4363  1958\n",
       "          True              732   618\n",
       "4         False           24830  2544\n",
       "          True             1030   264\n",
       "5         False           37873   827\n",
       "          True              347    13"
      ]
     },
     "execution_count": 77,
     "metadata": {},
     "output_type": "execute_result"
    }
   ],
   "source": [
    "df = pd.DataFrame([c[0] for c in data])\n",
    "df['target'] = [c[1] for c in data]\n",
    "\n",
    "df.groupby(['n_triples', 'is_first_order', 'target']).size().unstack(fill_value=0)"
   ]
  },
  {
   "cell_type": "code",
   "execution_count": 78,
   "metadata": {},
   "outputs": [
    {
     "data": {
      "text/html": [
       "<div>\n",
       "<style scoped>\n",
       "    .dataframe tbody tr th:only-of-type {\n",
       "        vertical-align: middle;\n",
       "    }\n",
       "\n",
       "    .dataframe tbody tr th {\n",
       "        vertical-align: top;\n",
       "    }\n",
       "\n",
       "    .dataframe thead th {\n",
       "        text-align: right;\n",
       "    }\n",
       "</style>\n",
       "<table border=\"1\" class=\"dataframe\">\n",
       "  <thead>\n",
       "    <tr style=\"text-align: right;\">\n",
       "      <th></th>\n",
       "      <th>category</th>\n",
       "      <th>is_first_order</th>\n",
       "      <th>n_triples</th>\n",
       "      <th>order</th>\n",
       "      <th>target</th>\n",
       "    </tr>\n",
       "  </thead>\n",
       "  <tbody>\n",
       "    <tr>\n",
       "      <th>0</th>\n",
       "      <td>Airport</td>\n",
       "      <td>True</td>\n",
       "      <td>1</td>\n",
       "      <td>((slot0, cityServed, slot1),)</td>\n",
       "      <td>1</td>\n",
       "    </tr>\n",
       "    <tr>\n",
       "      <th>1</th>\n",
       "      <td>Airport</td>\n",
       "      <td>True</td>\n",
       "      <td>1</td>\n",
       "      <td>((slot0, cityServed, slot1),)</td>\n",
       "      <td>1</td>\n",
       "    </tr>\n",
       "    <tr>\n",
       "      <th>2</th>\n",
       "      <td>Airport</td>\n",
       "      <td>True</td>\n",
       "      <td>1</td>\n",
       "      <td>((slot0, elevationAboveTheSeaLevel_(in_metres)...</td>\n",
       "      <td>1</td>\n",
       "    </tr>\n",
       "    <tr>\n",
       "      <th>3</th>\n",
       "      <td>Airport</td>\n",
       "      <td>True</td>\n",
       "      <td>1</td>\n",
       "      <td>((slot0, location, slot1),)</td>\n",
       "      <td>1</td>\n",
       "    </tr>\n",
       "    <tr>\n",
       "      <th>4</th>\n",
       "      <td>Airport</td>\n",
       "      <td>True</td>\n",
       "      <td>1</td>\n",
       "      <td>((slot0, operatingOrganisation, slot1),)</td>\n",
       "      <td>1</td>\n",
       "    </tr>\n",
       "  </tbody>\n",
       "</table>\n",
       "</div>"
      ],
      "text/plain": [
       "  category  is_first_order  n_triples  \\\n",
       "0  Airport            True          1   \n",
       "1  Airport            True          1   \n",
       "2  Airport            True          1   \n",
       "3  Airport            True          1   \n",
       "4  Airport            True          1   \n",
       "\n",
       "                                               order  target  \n",
       "0                      ((slot0, cityServed, slot1),)       1  \n",
       "1                      ((slot0, cityServed, slot1),)       1  \n",
       "2  ((slot0, elevationAboveTheSeaLevel_(in_metres)...       1  \n",
       "3                        ((slot0, location, slot1),)       1  \n",
       "4           ((slot0, operatingOrganisation, slot1),)       1  "
      ]
     },
     "execution_count": 78,
     "metadata": {},
     "output_type": "execute_result"
    }
   ],
   "source": [
    "df.head()"
   ]
  },
  {
   "cell_type": "code",
   "execution_count": 97,
   "metadata": {},
   "outputs": [
    {
     "data": {
      "text/plain": [
       "((63659, 3), (15915, 3))"
      ]
     },
     "execution_count": 97,
     "metadata": {},
     "output_type": "execute_result"
    }
   ],
   "source": [
    "from sklearn.model_selection import train_test_split\n",
    "\n",
    "X = df[['category', 'is_first_order', 'n_triples']]\n",
    "y = df['target']\n",
    "\n",
    "X_train, X_test, y_train, y_test = train_test_split(X, y, test_size=.2, stratify=df['target'])\n",
    "\n",
    "X_train.shape, X_test.shape"
   ]
  },
  {
   "cell_type": "code",
   "execution_count": 101,
   "metadata": {},
   "outputs": [
    {
     "name": "stderr",
     "output_type": "stream",
     "text": [
      "C:\\ProgramData\\Anaconda3\\envs\\webnlg\\lib\\site-packages\\sklearn\\ensemble\\forest.py:245: FutureWarning: The default value of n_estimators will change from 10 in version 0.20 to 100 in 0.22.\n",
      "  \"10 in version 0.20 to 100 in 0.22.\", FutureWarning)\n"
     ]
    },
    {
     "data": {
      "text/plain": [
       "Pipeline(memory=None,\n",
       "         steps=[('data',\n",
       "                 Pipeline(memory=None,\n",
       "                          steps=[('ohe',\n",
       "                                  OneHotEncoder(categorical_features=None,\n",
       "                                                categories=None, drop=None,\n",
       "                                                dtype=<class 'numpy.float64'>,\n",
       "                                                handle_unknown='error',\n",
       "                                                n_values=None, sparse=True))],\n",
       "                          verbose=False)),\n",
       "                ('clf',\n",
       "                 RandomForestClassifier(bootstrap=True, class_weight=None,\n",
       "                                        criterion='gini', max_depth=None,\n",
       "                                        max_features='auto',\n",
       "                                        max_leaf_nodes=None,\n",
       "                                        min_impurity_decrease=0.0,\n",
       "                                        min_impurity_split=None,\n",
       "                                        min_samples_leaf=1, min_samples_split=2,\n",
       "                                        min_weight_fraction_leaf=0.0,\n",
       "                                        n_estimators=10, n_jobs=None,\n",
       "                                        oob_score=False, random_state=None,\n",
       "                                        verbose=0, warm_start=False))],\n",
       "         verbose=False)"
      ]
     },
     "execution_count": 101,
     "metadata": {},
     "output_type": "execute_result"
    }
   ],
   "source": [
    "from sklearn.preprocessing import OneHotEncoder\n",
    "from sklearn.pipeline import Pipeline\n",
    "from sklearn.linear_model import LogisticRegression\n",
    "from sklearn.tree import DecisionTreeClassifier\n",
    "from sklearn.ensemble import RandomForestClassifier\n",
    "from sklearn.model_selection import GridSearchCV\n",
    "\n",
    "data_pipeline = Pipeline([\n",
    "    ('ohe', OneHotEncoder())\n",
    "])\n",
    "\n",
    "pipeline = Pipeline([\n",
    "    ('data', data_pipeline),\n",
    "    ('clf', None)\n",
    "])\n",
    "\n",
    "params_grid = {\n",
    "    'clf': [LogisticRegression(solver='lbfgs'), DecisionTreeClassifier(), RandomForestClassifier()]\n",
    "}\n",
    "\n",
    "cv = GridSearchCV(pipeline, params_grid, cv=5, scoring='recall')\n",
    "\n",
    "cv.fit(X_train, y_train)\n",
    "\n",
    "cv.best_estimator_"
   ]
  },
  {
   "cell_type": "code",
   "execution_count": 102,
   "metadata": {},
   "outputs": [
    {
     "data": {
      "text/plain": [
       "0.38349306269122846"
      ]
     },
     "execution_count": 102,
     "metadata": {},
     "output_type": "execute_result"
    }
   ],
   "source": [
    "cv.best_score_"
   ]
  },
  {
   "cell_type": "code",
   "execution_count": 103,
   "metadata": {},
   "outputs": [
    {
     "data": {
      "text/html": [
       "<div>\n",
       "<style scoped>\n",
       "    .dataframe tbody tr th:only-of-type {\n",
       "        vertical-align: middle;\n",
       "    }\n",
       "\n",
       "    .dataframe tbody tr th {\n",
       "        vertical-align: top;\n",
       "    }\n",
       "\n",
       "    .dataframe thead th {\n",
       "        text-align: right;\n",
       "    }\n",
       "</style>\n",
       "<table border=\"1\" class=\"dataframe\">\n",
       "  <thead>\n",
       "    <tr style=\"text-align: right;\">\n",
       "      <th></th>\n",
       "      <th>not_choosen</th>\n",
       "      <th>choosen</th>\n",
       "    </tr>\n",
       "  </thead>\n",
       "  <tbody>\n",
       "    <tr>\n",
       "      <th>not_good</th>\n",
       "      <td>55283</td>\n",
       "      <td>562</td>\n",
       "    </tr>\n",
       "    <tr>\n",
       "      <th>good</th>\n",
       "      <td>4853</td>\n",
       "      <td>2961</td>\n",
       "    </tr>\n",
       "  </tbody>\n",
       "</table>\n",
       "</div>"
      ],
      "text/plain": [
       "          not_choosen  choosen\n",
       "not_good        55283      562\n",
       "good             4853     2961"
      ]
     },
     "execution_count": 103,
     "metadata": {},
     "output_type": "execute_result"
    }
   ],
   "source": [
    "model = cv.best_estimator_\n",
    "\n",
    "y_pred = cv.predict(X_train)\n",
    "\n",
    "from sklearn.metrics import confusion_matrix\n",
    "\n",
    "cm = confusion_matrix(y_train, y_pred)\n",
    "\n",
    "pd.DataFrame(cm, index=['not_good', 'good'], columns=['not_choosen', 'choosen'])"
   ]
  },
  {
   "cell_type": "markdown",
   "metadata": {},
   "source": [
    "# Formulation ({order:{0, 1} for order in orders})"
   ]
  },
  {
   "cell_type": "code",
   "execution_count": 282,
   "metadata": {},
   "outputs": [],
   "source": [
    "from itertools import permutations, product, combinations\n",
    "\n",
    "\n",
    "def extract_features(order, e):\n",
    "    \n",
    "    return {'category': e.category,\n",
    "            'n_triples': len(e.triples),\n",
    "            'is_first_order': order == abstract_triples(e.triples)}\n",
    "\n",
    "def make_entries(e):\n",
    "    \n",
    "    all_orders = permutations(e.triples)\n",
    "    all_abstracted_orders = set([abstract_triples(ts) for ts in all_orders])\n",
    "    \n",
    "    lexicalized_orders = extract_orders(e)\n",
    "    \n",
    "    features = {order: extract_features(order, e) for order in all_abstracted_orders}\n",
    "    \n",
    "    all_orders_features = []\n",
    "    ok_orders = set()\n",
    "    \n",
    "    for i, order in enumerate(all_abstracted_orders):\n",
    "        \n",
    "        all_orders_features.append(features[order])\n",
    "        \n",
    "        if order in lexicalized_orders:\n",
    "            \n",
    "            ok_orders.add(i)\n",
    "    \n",
    "    return all_abstracted_orders, all_orders_features, ok_orders"
   ]
  },
  {
   "cell_type": "code",
   "execution_count": 283,
   "metadata": {},
   "outputs": [
    {
     "data": {
      "text/plain": [
       "(6248, 1562)"
      ]
     },
     "execution_count": 283,
     "metadata": {},
     "output_type": "execute_result"
    }
   ],
   "source": [
    "from sklearn.model_selection import train_test_split\n",
    "\n",
    "orders = []\n",
    "X = []\n",
    "y = []\n",
    "\n",
    "for e in td:\n",
    "    all_orders, all_orders_features, ok_orders = make_entries(e)\n",
    "    orders.append(all_orders)\n",
    "    X.append(all_orders_features)\n",
    "    y.append(ok_orders)\n",
    "    \n",
    "\n",
    "X_train, X_test, y_train, y_test = train_test_split(X, y, test_size=.2)\n",
    "\n",
    "len(X_train), len(X_test)"
   ]
  },
  {
   "cell_type": "code",
   "execution_count": 289,
   "metadata": {},
   "outputs": [
    {
     "data": {
      "text/plain": [
       "([{'category': 'Airport', 'n_triples': 3, 'is_first_order': True},\n",
       "  {'category': 'Airport', 'n_triples': 3, 'is_first_order': False},\n",
       "  {'category': 'Airport', 'n_triples': 3, 'is_first_order': False},\n",
       "  {'category': 'Airport', 'n_triples': 3, 'is_first_order': False},\n",
       "  {'category': 'Airport', 'n_triples': 3, 'is_first_order': False},\n",
       "  {'category': 'Airport', 'n_triples': 3, 'is_first_order': False}],\n",
       " {3, 5})"
      ]
     },
     "execution_count": 289,
     "metadata": {},
     "output_type": "execute_result"
    }
   ],
   "source": [
    "X[3000], y[3000]"
   ]
  },
  {
   "cell_type": "code",
   "execution_count": 177,
   "metadata": {},
   "outputs": [],
   "source": [
    "from sklearn.base import BaseEstimator, RegressorMixin\n",
    "import numpy as np\n",
    "\n",
    "class MyModel(BaseEstimator, RegressorMixin):\n",
    "    \n",
    "    def __init__(self, clf=None):\n",
    "        self.clf=clf\n",
    "    \n",
    "    def fit(self, X, y):\n",
    "        \n",
    "        X_ = []\n",
    "        y_ = []\n",
    "        \n",
    "        for x, y__ in zip(X, y):\n",
    "            \n",
    "            for i, x_ in enumerate(x):\n",
    "                \n",
    "                X_.append(x_.todense())\n",
    "                y_.append(1 if i in y__ else 0)\n",
    "                \n",
    "        X_ = np.vstack(X_)\n",
    "        self.clf.fit(X_, y_)\n",
    "        \n",
    "        return self\n",
    "    \n",
    "    def predict(self, X):\n",
    "        \n",
    "        results = []\n",
    "        \n",
    "        for x in X:\n",
    "            pred = self.clf.predict(x)\n",
    "            result = {i for i in range(len(pred)) if pred[i] == 1}\n",
    "            results.append(result)\n",
    "            \n",
    "        return results"
   ]
  },
  {
   "cell_type": "code",
   "execution_count": 247,
   "metadata": {},
   "outputs": [],
   "source": [
    "from sklearn.base import BaseEstimator, TransformerMixin\n",
    "\n",
    "class MyTransformer(BaseEstimator, TransformerMixin):\n",
    "    \n",
    "    def __init__(self, data_pipeline):\n",
    "        self.data_pipeline = data_pipeline\n",
    "    \n",
    "    def fit(self, X, y=None):\n",
    "        \n",
    "        X_ = []\n",
    "        for x in X:\n",
    "            for x_ in x:\n",
    "                X_.append(x_)\n",
    "                \n",
    "        self.data_pipeline.fit(X_)\n",
    "        \n",
    "        return self\n",
    "    \n",
    "    def transform(self, X, y=None):\n",
    "        \n",
    "        results = []\n",
    "        for x in X:\n",
    "            result = self.data_pipeline.transform(x)\n",
    "            results.append(result)\n",
    "            \n",
    "        return results"
   ]
  },
  {
   "cell_type": "code",
   "execution_count": 248,
   "metadata": {},
   "outputs": [],
   "source": [
    "from sklearn.metrics import make_scorer\n",
    "\n",
    "def f1_score_order_entry_func(y_, y_pred_):\n",
    "    \n",
    "    # se há positivos e não retornou nenhum, f1 = 0\n",
    "    if len(y_pred_) == 0 and len(y_) != 0:\n",
    "        return 0\n",
    "    \n",
    "    precision = len(y_pred_.intersection(y_)) / len(y_pred_)\n",
    "    recall = len(y_pred_.intersection(y_)) / len(y_)\n",
    "    \n",
    "    # se precision e recall == 0, f1 = 0\n",
    "    if precision == 0 and recall == 0 and len(y_) != 0:\n",
    "        return 0\n",
    "    \n",
    "    return 2 * (precision * recall) / (precision + recall)\n",
    "\n",
    "def f1_score_order_func(y, y_pred):\n",
    "    \n",
    "    all_f1 = []\n",
    "    for y_, y_pred_ in zip(y, y_pred):\n",
    "        f1 = f1_score_order_entry_func(y_, y_pred_)\n",
    "        all_f1.append(f1)\n",
    "        \n",
    "    return np.mean(all_f1)\n",
    "\n",
    "f1_score_order = make_scorer(f1_score_order_func)"
   ]
  },
  {
   "cell_type": "code",
   "execution_count": 264,
   "metadata": {},
   "outputs": [
    {
     "data": {
      "text/plain": [
       "Pipeline(memory=None,\n",
       "         steps=[('data',\n",
       "                 MyTransformer(data_pipeline=DictVectorizer(dtype=<class 'numpy.float64'>,\n",
       "                                                            separator='=',\n",
       "                                                            sort=True,\n",
       "                                                            sparse=True))),\n",
       "                ('clf',\n",
       "                 MyModel(clf=DummyClassifier(constant=1, random_state=None,\n",
       "                                             strategy='constant')))],\n",
       "         verbose=False)"
      ]
     },
     "execution_count": 264,
     "metadata": {},
     "output_type": "execute_result"
    }
   ],
   "source": [
    "from sklearn.feature_extraction import DictVectorizer\n",
    "from sklearn.pipeline import Pipeline\n",
    "from sklearn.linear_model import LogisticRegression\n",
    "from sklearn.tree import DecisionTreeClassifier\n",
    "from sklearn.dummy import DummyClassifier\n",
    "from sklearn.model_selection import GridSearchCV\n",
    "\n",
    "pipeline = Pipeline([\n",
    "    ('data', MyTransformer(DictVectorizer())),\n",
    "    ('clf', MyModel())\n",
    "])\n",
    "\n",
    "params_grid = {\n",
    "    'clf__clf': [LogisticRegression(solver='lbfgs'), \n",
    "                 DecisionTreeClassifier(), \n",
    "                 DummyClassifier(strategy='constant', constant=1)]\n",
    "}\n",
    "\n",
    "cv = GridSearchCV(pipeline, params_grid, cv=5, scoring=f1_score_order, return_train_score=True)\n",
    "\n",
    "cv.fit(X_train, y_train)\n",
    "\n",
    "cv.best_estimator_"
   ]
  },
  {
   "cell_type": "code",
   "execution_count": 265,
   "metadata": {},
   "outputs": [
    {
     "data": {
      "text/plain": [
       "0.9297718253968253"
      ]
     },
     "execution_count": 265,
     "metadata": {},
     "output_type": "execute_result"
    }
   ],
   "source": [
    "cv.best_score_"
   ]
  },
  {
   "cell_type": "code",
   "execution_count": 268,
   "metadata": {},
   "outputs": [
    {
     "data": {
      "text/plain": [
       "array([0.92916667, 0.92854167, 0.92977183])"
      ]
     },
     "execution_count": 268,
     "metadata": {},
     "output_type": "execute_result"
    }
   ],
   "source": [
    "cv.cv_results_['mean_test_score']"
   ]
  }
 ],
 "metadata": {
  "kernelspec": {
   "display_name": "Python 3",
   "language": "python",
   "name": "python3"
  },
  "language_info": {
   "codemirror_mode": {
    "name": "ipython",
    "version": 3
   },
   "file_extension": ".py",
   "mimetype": "text/x-python",
   "name": "python",
   "nbconvert_exporter": "python",
   "pygments_lexer": "ipython3",
   "version": "3.7.3"
  }
 },
 "nbformat": 4,
 "nbformat_minor": 2
}
