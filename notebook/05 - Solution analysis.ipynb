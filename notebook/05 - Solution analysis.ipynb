{
 "cells": [
  {
   "cell_type": "code",
   "execution_count": 1,
   "metadata": {},
   "outputs": [],
   "source": [
    "import kenlm"
   ]
  },
  {
   "cell_type": "code",
   "execution_count": 2,
   "metadata": {},
   "outputs": [],
   "source": [
    "%run ../template_model/sample_model.py"
   ]
  },
  {
   "cell_type": "code",
   "execution_count": 3,
   "metadata": {},
   "outputs": [
    {
     "data": {
      "text/plain": [
       "(Triple(subject='Adirondack_Regional_Airport', predicate='elevationAboveTheSeaLevel_(in_metres)', object='507'),)"
      ]
     },
     "execution_count": 3,
     "metadata": {},
     "output_type": "execute_result"
    }
   ],
   "source": [
    "e = dev[2]\n",
    "\n",
    "e.triples"
   ]
  },
  {
   "cell_type": "code",
   "execution_count": 4,
   "metadata": {},
   "outputs": [
    {
     "data": {
      "text/plain": [
       "'adirondack regional airport is 507 metres above sea level.'"
      ]
     },
     "execution_count": 4,
     "metadata": {},
     "output_type": "execute_result"
    }
   ],
   "source": [
    "tgp.make_text(e)"
   ]
  },
  {
   "cell_type": "code",
   "execution_count": 5,
   "metadata": {},
   "outputs": [
    {
     "data": {
      "text/plain": [
       "['Adirondack Regional Airport is 507 metres above sea level.']"
      ]
     },
     "execution_count": 5,
     "metadata": {},
     "output_type": "execute_result"
    }
   ],
   "source": [
    "[l['text'] for l in e.lexes]"
   ]
  },
  {
   "cell_type": "markdown",
   "metadata": {},
   "source": [
    "* frank de boer manages the afc ajax team .\n",
    "* afc ajax ' s manager is frank de boer .\n",
    "* the manager of afc ajax is frank de boer ."
   ]
  },
  {
   "cell_type": "markdown",
   "metadata": {},
   "source": [
    "# What about the templates?"
   ]
  },
  {
   "cell_type": "code",
   "execution_count": 6,
   "metadata": {},
   "outputs": [],
   "source": [
    "tgp.max_tems = 100000"
   ]
  },
  {
   "cell_type": "code",
   "execution_count": 7,
   "metadata": {},
   "outputs": [],
   "source": [
    "templates = tgp.get_templates(e, e.triples)"
   ]
  },
  {
   "cell_type": "code",
   "execution_count": 8,
   "metadata": {},
   "outputs": [
    {
     "name": "stdout",
     "output_type": "stream",
     "text": [
      "one of the leaders of {slot0-0} is called {slot1-0}.\n",
      "the leader \"s name of {slot0-0} is {slot1-0}.\n",
      "the leader if {slot0-0} is called {slot1-0}.\n",
      "the leader in {slot0-0} is {slot1-0}.\n",
      "the leader name of {slot0-0} is {slot1-0}.\n",
      "the leader of {slot0-0} is {slot1-0}.\n",
      "the president of {slot0-0} is {slot1-0}.\n",
      "the queen of {slot0-0} is {slot1-0}.\n",
      "the {slot0-0} leader is named {slot1-0}.\n",
      "{slot0-0} \"s leader is {slot1-0}.\n",
      "{slot0-0} is led by {slot1-0} which has jurisdiction there.\n",
      "{slot0-0} is led by {slot1-0}.\n",
      "{slot0-0} leader is {slot1-0}.\n",
      "{slot0-0} leader name is {slot1-0}.\n",
      "{slot1-0} has jurisdiction over and leads {slot0-0}.\n",
      "{slot1-0} is a leader in {slot0-0}.\n",
      "{slot1-0} is a leader of {slot0-0}.\n",
      "{slot1-0} is another leader in {slot0-0}.\n",
      "{slot1-0} is one of the leaders of {slot0-0}.\n",
      "{slot1-0} is the head of {slot0-0}.\n",
      "{slot1-0} is the leader in {slot0-0}.\n",
      "{slot1-0} is the leader of {slot0-0}.\n",
      "{slot1-0} is the name of the leader of {slot0-0}.\n",
      "{slot1-0} leads and has jurisdiction in {slot0-0}.\n",
      "{slot1-0} leads and has jurisdiction of {slot0-0}.\n"
     ]
    }
   ],
   "source": [
    "templates_texts = [t.template_text for t in templates]\n",
    "for t in sorted(templates_texts):\n",
    "    print(t)"
   ]
  },
  {
   "cell_type": "markdown",
   "metadata": {},
   "source": [
    "# What about the references?"
   ]
  },
  {
   "cell_type": "code",
   "execution_count": 9,
   "metadata": {},
   "outputs": [],
   "source": [
    "ctx = {'seen': set()}\n",
    "max_refs = 10000"
   ]
  },
  {
   "cell_type": "code",
   "execution_count": 10,
   "metadata": {},
   "outputs": [
    {
     "data": {
      "text/plain": [
       "['at the aarhus university in aarhus',\n",
       " 'arhus',\n",
       " 'the aarhus university at arhus',\n",
       " 'the city',\n",
       " 'its northeast',\n",
       " \"it's\",\n",
       " 'aarus',\n",
       " 'its',\n",
       " 'aarhus']"
      ]
     },
     "execution_count": 10,
     "metadata": {},
     "output_type": "execute_result"
    }
   ],
   "source": [
    "tgp.reg.refer(e.triples[0].subject, ctx, max_refs)"
   ]
  },
  {
   "cell_type": "code",
   "execution_count": 11,
   "metadata": {},
   "outputs": [
    {
     "data": {
      "text/plain": [
       "['jacob bundsgaard']"
      ]
     },
     "execution_count": 11,
     "metadata": {},
     "output_type": "execute_result"
    }
   ],
   "source": [
    "tgp.reg.refer(e.triples[0].object, ctx, max_refs)"
   ]
  },
  {
   "cell_type": "markdown",
   "metadata": {},
   "source": [
    "# Which other entries contains this entry triples?"
   ]
  },
  {
   "cell_type": "code",
   "execution_count": 6,
   "metadata": {},
   "outputs": [],
   "source": [
    "%run ../template_model/reading_thiagos_templates.py"
   ]
  },
  {
   "cell_type": "code",
   "execution_count": 7,
   "metadata": {},
   "outputs": [],
   "source": [
    "train = load_train()"
   ]
  },
  {
   "cell_type": "code",
   "execution_count": 8,
   "metadata": {},
   "outputs": [],
   "source": [
    "def es_containing_entry_triples(target_e):\n",
    "    \n",
    "    es = []\n",
    "    \n",
    "    target_triples = set(target_e.triples)\n",
    "    \n",
    "    for e in train:\n",
    "        if target_triples.intersection(set(e.triples)):\n",
    "            es.append(e)\n",
    "            \n",
    "    return es"
   ]
  },
  {
   "cell_type": "code",
   "execution_count": 9,
   "metadata": {},
   "outputs": [
    {
     "data": {
      "text/plain": [
       "['Adirondack Regional Airport is 507 metres above sea level and the 1st runway is 6573 ft in length.',\n",
       " 'Adirondack Regional Airport is 507 metres above sea level and its 1st runway has a length of 6573 metres.',\n",
       " 'Adirondack Regional Airport is 507 metres above sea level and the length of the first runway is 6,573 feet.',\n",
       " 'Adirondack Regional Airport is 507 metres above sea level and is located in Harrietstown, New York.',\n",
       " 'Adirondack Regional airport is located at Harrietstown, New York and is 507 metres above sea level.',\n",
       " 'Adirondack Regional airport is 507 metres above sea level and is located at Harrietstown, New York.',\n",
       " 'Adirondack Regional Airport is 507 metres above sea level and has SLK as its location identifier.',\n",
       " 'SLK is the I.D. of the Adirondack Regional Airport which is 507 metres above sea level.',\n",
       " 'Lake Placid, N.Y. is served by the Adirondack Regional Airport. This airport is 507 metres above sea level and serves the city of Saranac Lake, New York.',\n",
       " 'Adirondack Regional Airport serves the city of Lake Placid, New York, is 507 meters above sea level and serves the city of Saranac Lake, New York.',\n",
       " 'Adirondack Regional Airport, serving the city of Lake Placid and Saranac Lake, has an elevation of 507 meters.',\n",
       " 'Lake Placid, and the city of Saranac Lake, (both in New York) are served by Adirondack Regional Airport. This airport is 507 metres above sea level and has a a runway length of 1,219 metres.',\n",
       " 'Adirondack Regional Airport serves both the city of Lake Placid and city of Saranac Lake in New York. It has a runway length of 1219 and is 507 metres above sea level.',\n",
       " 'Adirondack Regional Airport serves the cities of Lake Placid and Saranac Lake, New York. It is located 507 metres above sea level and has a runway length of 1219.0.',\n",
       " 'Adirondack Regional Airport; is 507 metres above sea level and has a runway length of 1219.0. Located in Harrietstown, New York, it serves both the city of Saranac Lake and city of Lake Placid, New York.',\n",
       " 'Located in Harrietstown, New York, Adirondack Regional Airport is 507 metres above sea level and has a runway length of 1,219. It serves the cities of Lake Placid and Saranac Lake, in New York.',\n",
       " 'Adirondack Regional Airport is 507 metres above sea level and serves Lake Placid and Saranac Lake. It is located in Harrietstown, New York and has a runway length of 1219.0.',\n",
       " 'Adirondack Regional Airport, located in Harrietstown, New York, serves Lake Placid, NY and Saranac Lake, NY. The length of the runway at this airport is 2003.0 and it lies 507 metres above sea level.',\n",
       " 'Adirondack Regional Airport is located in Harrietstown, New York and serves both the cities of Lake Placid and Saranac Lake. The airport is 507 meters above sea level and the length of its runway is 2003.0.']"
      ]
     },
     "execution_count": 9,
     "metadata": {},
     "output_type": "execute_result"
    }
   ],
   "source": [
    "es = es_containing_entry_triples(e)\n",
    "\n",
    "texts = []\n",
    "for e_ in es:\n",
    "    for l in e_.lexes:\n",
    "        texts.append(l['text'])\n",
    "        \n",
    "texts"
   ]
  },
  {
   "cell_type": "code",
   "execution_count": 10,
   "metadata": {},
   "outputs": [
    {
     "name": "stdout",
     "output_type": "stream",
     "text": [
      "=== 1/5 Counting and sorting n-grams ===\n",
      "Reading /mnt/c/Users/1513 MX5_7/Documents/GitHub/masters/notebook/testing_hypothesis.txt\n",
      "----5---10---15---20---25---30---35---40---45---50---55---60---65---70---75---80---85---90---95--100\n",
      "****************************************************************************************************\n",
      "Unigram tokens 473 types 78\n",
      "=== 2/5 Calculating and sorting adjusted counts ===\n",
      "Chain sizes: 1:936 2:4052440320 3:7598325760\n",
      "Substituting fallback discounts for order 0: D1=0.5 D2=1 D3+=1.5\n",
      "Statistics:\n",
      "1 78 D1=0.5 D2=1 D3+=1.5\n",
      "2 162 D1=0.705882 D2=1.06824 D3+=1.97326\n",
      "3 220 D1=0.69378 D2=0.894288 D3+=2.34703\n",
      "Memory estimate for binary LM:\n",
      "type        B\n",
      "probing  9892 assuming -p 1.5\n",
      "probing 11180 assuming -r models -p 1.5\n",
      "trie     4568 without quantization\n",
      "trie     6055 assuming -q 8 -b 8 quantization \n",
      "trie     4574 assuming -a 22 array pointer compression\n",
      "trie     6061 assuming -a 22 -q 8 -b 8 array pointer compression and quantization\n",
      "=== 3/5 Calculating and sorting initial probabilities ===\n",
      "Chain sizes: 1:936 2:2592 3:4400\n",
      "----5---10---15---20---25---30---35---40---45---50---55---60---65---70---75---80---85---90---95--100\n",
      "####################################################################################################\n",
      "=== 4/5 Calculating and writing order-interpolated probabilities ===\n",
      "Chain sizes: 1:936 2:2592 3:4400\n",
      "----5---10---15---20---25---30---35---40---45---50---55---60---65---70---75---80---85---90---95--100\n",
      "####################################################################################################\n",
      "=== 5/5 Writing ARPA model ===\n",
      "----5---10---15---20---25---30---35---40---45---50---55---60---65---70---75---80---85---90---95--100\n",
      "****************************************************************************************************\n",
      "Name:lmplz\tVmPeak:0 kB\tVmRSS:3224 kB\tRSSMax:2623084 kB\tuser:0.375\tsys:2.25\tCPU:2.625\treal:2.67809\n"
     ]
    }
   ],
   "source": [
    "with open('testing_hypothesis.txt', 'w', encoding='utf-8') as f:\n",
    "    for t in texts:\n",
    "        f.write(f'{t.lower()}\\n')\n",
    "\n",
    "!../../kenlm/build/bin/lmplz --discount_fallback -o 3 < testing_hypothesis.txt > testing_hypothesis.lm\n",
    "\n",
    "lm = kenlm.Model('testing_hypothesis.lm')"
   ]
  },
  {
   "cell_type": "code",
   "execution_count": 11,
   "metadata": {},
   "outputs": [
    {
     "ename": "NameError",
     "evalue": "name 'templates_texts' is not defined",
     "output_type": "error",
     "traceback": [
      "\u001b[0;31m---------------------------------------------------------------------------\u001b[0m",
      "\u001b[0;31mNameError\u001b[0m                                 Traceback (most recent call last)",
      "\u001b[0;32m<ipython-input-11-aef29b5281f9>\u001b[0m in \u001b[0;36m<module>\u001b[0;34m\u001b[0m\n\u001b[0;32m----> 1\u001b[0;31m \u001b[0msorted\u001b[0m\u001b[0;34m(\u001b[0m\u001b[0mtemplates_texts\u001b[0m\u001b[0;34m,\u001b[0m \u001b[0mkey\u001b[0m\u001b[0;34m=\u001b[0m\u001b[0;32mlambda\u001b[0m \u001b[0mt\u001b[0m\u001b[0;34m:\u001b[0m \u001b[0mlm\u001b[0m\u001b[0;34m.\u001b[0m\u001b[0mperplexity\u001b[0m\u001b[0;34m(\u001b[0m\u001b[0mt\u001b[0m\u001b[0;34m.\u001b[0m\u001b[0mlower\u001b[0m\u001b[0;34m(\u001b[0m\u001b[0;34m)\u001b[0m\u001b[0;34m)\u001b[0m\u001b[0;34m,\u001b[0m \u001b[0mreverse\u001b[0m\u001b[0;34m=\u001b[0m\u001b[0;32mFalse\u001b[0m\u001b[0;34m)\u001b[0m\u001b[0;34m[\u001b[0m\u001b[0;34m:\u001b[0m\u001b[0;36m5\u001b[0m\u001b[0;34m]\u001b[0m\u001b[0;34m\u001b[0m\u001b[0;34m\u001b[0m\u001b[0m\n\u001b[0m",
      "\u001b[0;31mNameError\u001b[0m: name 'templates_texts' is not defined"
     ]
    }
   ],
   "source": [
    "sorted(templates_texts, key=lambda t: lm.perplexity(t.lower()), reverse=False)[:5]"
   ]
  },
  {
   "cell_type": "code",
   "execution_count": 15,
   "metadata": {},
   "outputs": [
    {
     "data": {
      "text/plain": [
       "['adirondack regional airport is 507 metres above sea level.',\n",
       " 'adirondack regional airport is 507 meters above sea level.']"
      ]
     },
     "execution_count": 15,
     "metadata": {},
     "output_type": "execute_result"
    }
   ],
   "source": [
    "texts = tgp.make_texts(e)\n",
    "\n",
    "sorted(texts, key=lambda t: lm.perplexity(t.lower()), reverse=False)[:5]"
   ]
  },
  {
   "cell_type": "markdown",
   "metadata": {},
   "source": [
    "# And >1 triples?"
   ]
  },
  {
   "cell_type": "code",
   "execution_count": 54,
   "metadata": {},
   "outputs": [
    {
     "data": {
      "text/plain": [
       "(Triple(subject='Asilomar_Conference_Grounds', predicate='architect', object='Julia_Morgan'),\n",
       " Triple(subject='Julia_Morgan', predicate='significantBuilding', object='Los_Angeles_Herald-Examiner'),\n",
       " Triple(subject='Julia_Morgan', predicate='significantBuilding', object='Riverside_Art_Museum'),\n",
       " Triple(subject='Julia_Morgan', predicate='significantProject', object='Hearst_Castle'),\n",
       " Triple(subject='Julia_Morgan', predicate='birthPlace', object='California'))"
      ]
     },
     "execution_count": 54,
     "metadata": {},
     "output_type": "execute_result"
    }
   ],
   "source": [
    "e = dev[758]\n",
    "\n",
    "e.triples"
   ]
  },
  {
   "cell_type": "code",
   "execution_count": 55,
   "metadata": {},
   "outputs": [
    {
     "data": {
      "text/plain": [
       "'julie morgan designed several significant buildings including the grounds of the grounds of asilomar conference, the los angeles herald examiner and the riverside art musuem. the landmark hearst castle was a significant project of her. she was an architect who was born in california .'"
      ]
     },
     "execution_count": 55,
     "metadata": {},
     "output_type": "execute_result"
    }
   ],
   "source": [
    "tgp.make_text(e)"
   ]
  },
  {
   "cell_type": "code",
   "execution_count": 56,
   "metadata": {},
   "outputs": [],
   "source": [
    "def es_1_containing_entry_triples(target_e):\n",
    "    \n",
    "    es = []\n",
    "    \n",
    "    for e in train:\n",
    "        if len(e.triples) == 1 and e.triples[0] in target_e.triples:\n",
    "            es.append(e)\n",
    "            \n",
    "    return es"
   ]
  },
  {
   "cell_type": "code",
   "execution_count": 57,
   "metadata": {},
   "outputs": [],
   "source": [
    "es = es_1_containing_entry_triples(e)"
   ]
  },
  {
   "cell_type": "code",
   "execution_count": 58,
   "metadata": {},
   "outputs": [],
   "source": [
    "texts = []\n",
    "for e_ in es:\n",
    "    for l in e_.lexes:\n",
    "        texts.append(l['text'])"
   ]
  },
  {
   "cell_type": "code",
   "execution_count": 59,
   "metadata": {},
   "outputs": [
    {
     "data": {
      "text/plain": [
       "['The birth place of Julia Morgan is California.',\n",
       " 'Julia Morgan was born in California.',\n",
       " \"The Riverside Art Musuem is one of Julia Morgan's significant buildings.\",\n",
       " 'Hearst Castle was a significant project of Julia Morgan.',\n",
       " 'Julia Morgan was the architect of the landmark Hearst Castle.',\n",
       " 'Hearst Castle was a significant project for Julia Morgan.']"
      ]
     },
     "execution_count": 59,
     "metadata": {},
     "output_type": "execute_result"
    }
   ],
   "source": [
    "texts"
   ]
  },
  {
   "cell_type": "code",
   "execution_count": 60,
   "metadata": {},
   "outputs": [
    {
     "name": "stdout",
     "output_type": "stream",
     "text": [
      "=== 1/5 Counting and sorting n-grams ===\n",
      "Reading /mnt/c/Users/1513 MX5_7/Documents/GitHub/masters/notebook/testing_hypothesis.txt\n",
      "----5---10---15---20---25---30---35---40---45---50---55---60---65---70---75---80---85---90---95--100\n",
      "****************************************************************************************************\n",
      "Unigram tokens 53 types 30\n",
      "=== 2/5 Calculating and sorting adjusted counts ===\n",
      "Chain sizes: 1:360 2:4052440832 3:7598326272\n",
      "Substituting fallback discounts for order 2: D1=0.5 D2=1 D3+=1.5\n",
      "Statistics:\n",
      "1 30 D1=0.655172 D2=1.21379 D3+=0.37931\n",
      "2 43 D1=0.75 D2=1.625 D3+=3\n",
      "3 45 D1=0.5 D2=1 D3+=1.5\n",
      "Memory estimate for binary LM:\n",
      "type       B\n",
      "probing 2624 assuming -p 1.5\n",
      "probing 3004 assuming -r models -p 1.5\n",
      "trie    1390 without quantization\n",
      "trie    4080 assuming -q 8 -b 8 quantization \n",
      "trie    1413 assuming -a 22 array pointer compression\n",
      "trie    4103 assuming -a 22 -q 8 -b 8 array pointer compression and quantization\n",
      "=== 3/5 Calculating and sorting initial probabilities ===\n",
      "Chain sizes: 1:360 2:688 3:900\n",
      "----5---10---15---20---25---30---35---40---45---50---55---60---65---70---75---80---85---90---95--100\n",
      "####################################################################################################\n",
      "=== 4/5 Calculating and writing order-interpolated probabilities ===\n",
      "Chain sizes: 1:360 2:688 3:900\n",
      "----5---10---15---20---25---30---35---40---45---50---55---60---65---70---75---80---85---90---95--100\n",
      "####################################################################################################\n",
      "=== 5/5 Writing ARPA model ===\n",
      "----5---10---15---20---25---30---35---40---45---50---55---60---65---70---75---80---85---90---95--100\n",
      "****************************************************************************************************\n",
      "Name:lmplz\tVmPeak:0 kB\tVmRSS:3060 kB\tRSSMax:1857684 kB\tuser:0.4375\tsys:3.42188\tCPU:3.85938\treal:4.6592\n"
     ]
    }
   ],
   "source": [
    "with open('testing_hypothesis.txt', 'w', encoding='utf-8') as f:\n",
    "    for t in texts:\n",
    "        f.write(f'{t.lower()}\\n')\n",
    "\n",
    "!../../kenlm/build/bin/lmplz --discount_fallback -o 3 < testing_hypothesis.txt > testing_hypothesis.lm\n",
    "\n",
    "lm = kenlm.Model('testing_hypothesis.lm')"
   ]
  },
  {
   "cell_type": "code",
   "execution_count": 64,
   "metadata": {},
   "outputs": [
    {
     "data": {
      "text/plain": [
       "['julia morgan\\'s designed several significant buildings including the grounds of california, it, the los angeles herald examiner and riverside art museum. hearst castle was a significant project of her. she \"s birthplace is its.',\n",
       " 'julia morgan\\'s designed several significant buildings including the grounds of california, it, the los angeles herald examiner and riverside art museum. hearst castle was a significant project of she. she \"s birthplace is its.',\n",
       " 'julia morgan\\'s designed several significant buildings including the grounds of california, it, the los angeles herald examiner and riverside art museum. hearst castle was a significant project of her. her \"s birthplace is its.',\n",
       " 'julia morgan\\'s designed several significant buildings including the grounds of california, it, the los angeles herald examiner and riverside art museum. hearst castle was a significant project of she. her \"s birthplace is its.',\n",
       " 'julia morgan\\'s designed several significant buildings including the grounds of california, it, the los angeles herald examiner and riverside art museum. hearst castle was a significant project for her. she \"s birthplace is its.']"
      ]
     },
     "execution_count": 64,
     "metadata": {},
     "output_type": "execute_result"
    }
   ],
   "source": [
    "texts = tgp.make_texts(e)\n",
    "\n",
    "sorted(texts, key=lambda t: lm.score(t.lower()), reverse=True)[:5]"
   ]
  },
  {
   "cell_type": "code",
   "execution_count": null,
   "metadata": {},
   "outputs": [],
   "source": []
  }
 ],
 "metadata": {
  "kernelspec": {
   "display_name": "Python 3",
   "language": "python",
   "name": "python3"
  },
  "language_info": {
   "codemirror_mode": {
    "name": "ipython",
    "version": 3
   },
   "file_extension": ".py",
   "mimetype": "text/x-python",
   "name": "python",
   "nbconvert_exporter": "python",
   "pygments_lexer": "ipython3",
   "version": "3.6.7"
  }
 },
 "nbformat": 4,
 "nbformat_minor": 2
}
