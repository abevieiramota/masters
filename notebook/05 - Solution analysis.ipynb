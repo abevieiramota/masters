{
 "cells": [
  {
   "cell_type": "code",
   "execution_count": 50,
   "metadata": {},
   "outputs": [],
   "source": [
    "import kenlm"
   ]
  },
  {
   "cell_type": "code",
   "execution_count": 51,
   "metadata": {},
   "outputs": [],
   "source": [
    "%run ../template_model/sample_model.py"
   ]
  },
  {
   "cell_type": "code",
   "execution_count": 86,
   "metadata": {},
   "outputs": [
    {
     "data": {
      "text/plain": [
       "(Triple(subject='1._FC_Magdeburg', predicate='season', object='2014'),)"
      ]
     },
     "execution_count": 86,
     "metadata": {},
     "output_type": "execute_result"
    }
   ],
   "source": [
    "e = dev[160]\n",
    "\n",
    "e.triples"
   ]
  },
  {
   "cell_type": "code",
   "execution_count": 87,
   "metadata": {},
   "outputs": [
    {
     "data": {
      "text/plain": [
       "'the 1 fc magdeburg played in the 2014 season.'"
      ]
     },
     "execution_count": 87,
     "metadata": {},
     "output_type": "execute_result"
    }
   ],
   "source": [
    "tgp.make_text(e)"
   ]
  },
  {
   "cell_type": "markdown",
   "metadata": {},
   "source": [
    "* frank de boer manages the afc ajax team .\n",
    "* afc ajax ' s manager is frank de boer .\n",
    "* the manager of afc ajax is frank de boer ."
   ]
  },
  {
   "cell_type": "markdown",
   "metadata": {},
   "source": [
    "# What about the templates?"
   ]
  },
  {
   "cell_type": "code",
   "execution_count": 88,
   "metadata": {},
   "outputs": [],
   "source": [
    "tgp.max_tems = 100000"
   ]
  },
  {
   "cell_type": "code",
   "execution_count": 89,
   "metadata": {},
   "outputs": [],
   "source": [
    "templates = tgp.get_templates(e, e.triples)"
   ]
  },
  {
   "cell_type": "code",
   "execution_count": 90,
   "metadata": {},
   "outputs": [
    {
     "name": "stdout",
     "output_type": "stream",
     "text": [
      "and {slot0-0} competed in the {slot1-0} season.\n",
      "i am interested in the {slot1-0} {slot0-0} season.\n",
      "{slot0-0} are in season {slot1-0}.\n",
      "{slot0-0} are in {slot1-0}.\n",
      "{slot0-0} competed in the season {slot1-0}.\n",
      "{slot0-0} competed in the {slot1-0} season.\n",
      "{slot0-0} is playing in {slot1-0}.\n",
      "{slot0-0} is playing {slot1-0}.\n",
      "{slot0-0} participated in the {slot1-0} season.\n",
      "{slot0-0} play in {slot1-0}.\n",
      "{slot0-0} played in season {slot1-0}.\n",
      "{slot0-0} played in the {slot1-0} season.\n",
      "{slot0-0} played in {slot1-0} season.\n",
      "{slot0-0} played in {slot1-0}.\n",
      "{slot0-0} was a part of the {slot1-0} season.\n",
      "{slot0-0} was in the {slot1-0} season.\n",
      "{slot0-0} was in {slot1-0}.\n",
      "{slot0-0} were in the {slot1-0} season.\n",
      "{slot0-0} were in {slot1-0} season.\n",
      "{slot0-0} were in {slot1-0}.\n",
      "{slot1-0} saw {slot0-0} participating.\n"
     ]
    }
   ],
   "source": [
    "templates_texts = [t.template_text for t in templates]\n",
    "for t in sorted(templates_texts):\n",
    "    print(t)"
   ]
  },
  {
   "cell_type": "markdown",
   "metadata": {},
   "source": [
    "# What about the references?"
   ]
  },
  {
   "cell_type": "code",
   "execution_count": 91,
   "metadata": {},
   "outputs": [],
   "source": [
    "ctx = {'seen': set()}\n",
    "max_refs = 10000"
   ]
  },
  {
   "cell_type": "code",
   "execution_count": 92,
   "metadata": {},
   "outputs": [
    {
     "data": {
      "text/plain": [
       "['the team',\n",
       " 'the 1 fc magdeburg',\n",
       " '1. fc magdeburg',\n",
       " '1. fc magdeburg club',\n",
       " 'fc magdeburgs',\n",
       " 'fc magedburg',\n",
       " 'in 2014-15 season, 1 fc magdeburg',\n",
       " '1.fc magdeburg',\n",
       " '1fc magdeburg',\n",
       " 'fc magdeburg',\n",
       " '1 fc magdeburg']"
      ]
     },
     "execution_count": 92,
     "metadata": {},
     "output_type": "execute_result"
    }
   ],
   "source": [
    "tgp.reg.refer(e.triples[0].subject, ctx, max_refs)"
   ]
  },
  {
   "cell_type": "code",
   "execution_count": 93,
   "metadata": {},
   "outputs": [
    {
     "data": {
      "text/plain": [
       "['greece 2014', 'the 2014', 'the 2014season', '2015', 'season 2014', '2014']"
      ]
     },
     "execution_count": 93,
     "metadata": {},
     "output_type": "execute_result"
    }
   ],
   "source": [
    "tgp.reg.refer(e.triples[0].object, ctx, max_refs)"
   ]
  },
  {
   "cell_type": "markdown",
   "metadata": {},
   "source": [
    "# Which other entries contains this entry triples?"
   ]
  },
  {
   "cell_type": "code",
   "execution_count": 52,
   "metadata": {},
   "outputs": [],
   "source": [
    "%run ../template_model/reading_thiagos_templates.py"
   ]
  },
  {
   "cell_type": "code",
   "execution_count": 53,
   "metadata": {},
   "outputs": [],
   "source": [
    "train = load_train()"
   ]
  },
  {
   "cell_type": "code",
   "execution_count": 10,
   "metadata": {},
   "outputs": [],
   "source": [
    "def es_containing_entry_triples(target_e):\n",
    "    \n",
    "    es = []\n",
    "    \n",
    "    target_triples = set(target_e.triples)\n",
    "    \n",
    "    for e in train:\n",
    "        if target_triples.intersection(set(e.triples)):\n",
    "            es.append(e)\n",
    "            \n",
    "    return es"
   ]
  },
  {
   "cell_type": "code",
   "execution_count": 11,
   "metadata": {},
   "outputs": [],
   "source": [
    "es = es_containing_entry_triples(e)"
   ]
  },
  {
   "cell_type": "code",
   "execution_count": 12,
   "metadata": {},
   "outputs": [],
   "source": [
    "texts = []\n",
    "for e_ in es:\n",
    "    for l in e_.lexes:\n",
    "        texts.append(l['text'])"
   ]
  },
  {
   "cell_type": "code",
   "execution_count": 13,
   "metadata": {},
   "outputs": [
    {
     "data": {
      "text/plain": [
       "['Ayam penyet is a food found in Java.',\n",
       " 'The country of Ayam penyet is Java.',\n",
       " 'The main ingredients of Ayam penyet are \"squeezed\" or \"smashed\" chicken served with sambal.',\n",
       " \"Ayam penyet's main ingredients are squeezed or smashed fried chicken served with sambal.\",\n",
       " '\"Squeezed\" or \"smashed\" fried chicken served with sambal is a main ingredient in ayam penyet.',\n",
       " 'Ayam penyet, which comes from Java, has fried chicken in it.',\n",
       " 'A food found in Java is ayam penyet which has fried chicken in it.',\n",
       " 'Ayam penyet made in Java has fried chicken as the main ingredient.',\n",
       " '\"Squeezed\" or \"smashed\" Fried chicken is an ingredient in Ayam penyet, it is served with sambal.',\n",
       " '\"Squeezed\" or \"smashed\" fried chicken served with sambal is a main ingredient in the dish \\'ayam penyet\\'.',\n",
       " \"Ayam penyet's main ingredients are squeezed or smashed fried chicken served with sambal; it is from Indonesia.\",\n",
       " '\"Squeezed\" or \"smashed\" fried chicken served with sambal is a main ingredient in the Indonesian dish of ayam penyet.',\n",
       " 'The main ingredients of the Indonesian dish known as Ayam penyet are \"squeezed\" or \"smashed\" chicken served with sambal.',\n",
       " 'Ayam penyet comes from Java but is made nationwide, and can also be found in Malaysia and Singapore.',\n",
       " 'Ayam penyet is a food that can be found nationwide, in Java and also in Malaysia and Singapore.',\n",
       " 'Ayam penyet is made nationwide, and can also be found in Malaysia, Singapore and Java.',\n",
       " 'Ayam penet is popular in Malaysia and also found in Java.',\n",
       " 'Ayam penyet is a food found in Java, and it comes from the region of Malaysia.',\n",
       " 'Ayam penyet is a food dish found in Java where the Baduy are an ethnic group.',\n",
       " 'Ayam penyet is a food found in Java; the Baduy are one of the ethnic groups found in the country.',\n",
       " 'Ayam Penyet is a food found in Java where an ethnic group is Baduy.',\n",
       " 'Banyumasan people is one of the ethnic groups in Java, where the dish ayam penyet can be found.',\n",
       " 'The country of Ayam penyet is Java, where the Banyumasan people are an ethnic group.',\n",
       " 'Java where the Javanese people are an ethnic group is the origin of Ayam penyet.',\n",
       " 'Ayam penyet is a food found in Java, where the Javanese people are an ethnic group.',\n",
       " 'Ayam penyet originates from Java where the Javanese people are an ethnic group.',\n",
       " 'Fried chicken is an ingredient in ayem penyet found in Java, Malaysia and Singapore.',\n",
       " 'Fried chicken is an ingredient in Ayam Penyet which is found in Java, but also nationwide and in Malaysia and Singapore.',\n",
       " 'Ayam penyet is a food found in Java and can be found nationwide and also in Malaysia and Singapore. \"Squeezed\" or \"smashed\" fried chicken served with sambal is a main ingredient in ayam penyet.',\n",
       " \"Ayam penyet's main ingredients are squeezed or smashed fried chicken served with sambal - the dish is found nationwide in Java and also Malaysia and Singapore.\",\n",
       " 'Ayam penyet originates in Java but can be found nationwide and also in Malaysia and Singapore. The main ingredients are \"squeezed\" or \"smashed\" chicken served with sambal.',\n",
       " 'Ayam penyet is from Indonesia and can be found nationwide and also in Malaysia and Singapore. The main ingredients of Ayam penyet are \"squeezed\" or \"smashed\" chicken served with sambal.',\n",
       " '\"Squeezed\" or \"smashed\" fried chicken served with sambal is a main ingredient in ayam penyet, an Indonesian dish which is made nationwide and can also be found in Malaysia and Singapore.',\n",
       " 'Ayam penyet is from Indonesia and is made nationwide and also in Malaysia and Singapore. The main ingredients are \"squeezed\" or \"smashed\" chicken served with sambal.',\n",
       " 'Fried chicken is an ingredient of the Javan dish Ayam penyet which is popular in Malaysia.',\n",
       " \"A popular dish in Malaysia, Ayam penyet's main ingredients are squeezed or smashed fried chicken served with sambal.\",\n",
       " \"A dish from Malaysia, Ayam penyet's main ingredients are squeezed or smashed fried chicken served with sambal.\",\n",
       " 'Squeezed or smashed fried chicken served with sambal is a main ingredient in the popular Malaysian dish Ayam penyet.',\n",
       " 'Ayam peyney is a popular dish from Malaysia, and Java where the Baduy are an ethnic group.',\n",
       " 'Ayam penyet comes from the region of Malaysia and is also found in Java where the Baduy are an ethnic group.',\n",
       " 'Ayam penyet comes from the region of Malaysia and is a food found in Java, where there is a ethnic group called Baduy.',\n",
       " 'Ayam penyet is a popular dish in Malaysia, but originated in Java where the Banyumasan people are an ethnic group.',\n",
       " 'Ayam penyet comes from the Java region of Malaysia, where the Banyumasan people live.',\n",
       " 'Banyumasan people, one of the ethnic groups found in Java, in the region of Malaysia eat Ayam penyet.',\n",
       " 'Ayam penyet is a popular dish from Java, Malaysia where the Javanese people live.',\n",
       " 'Ayam penyet is a popular dish in Malaysia and is also found in Java where the Javanese are an ethnic group.',\n",
       " 'Ayam penyet is a dish from Java in the region of Malaysia. The Javenese people are an ethnic group in Java.',\n",
       " 'Found in Java, the food Ayam penyet comes from the region of Malaysia where on of the ethnic groups is Malaysian Chinese.',\n",
       " \"Ayam penyet is a food found in Java and it's also popular in Malaysia, where there is an ethnic group called the Malaysian Chinese.\",\n",
       " 'Ayam penyet is from Java and is also popular in Malaysia, where the Malaysian Chinese are an ethnic group.',\n",
       " 'Ayam penyet, from the Singapore region of Java, has fried chicken in it.',\n",
       " 'Fried chicken is an ingredient in Ayam penyet which is from the country of Java and also the region of Singapore.',\n",
       " 'Fried chicken is an ingredient of the dish Ayam penyet which comes from Java and Singapore.',\n",
       " 'Ayam penyet is a dish from the region of Singapore as well as from Java. The main ingredients of Ayam penyet are \"squeezed\" or \"smashed\" chicken served with sambal.',\n",
       " \"Ayam penyet's main ingredients are squeezed or smashed fried chicken served with sambal. The dish is from the region of Singapore and is also found in Java.\",\n",
       " \"Ayam penyet's main ingredients are squeezed or smashed fried chicken served with sambal. It originates from Java and the Singapore region.\",\n",
       " 'Ayam penyet is a dish from the region of Singapore. It is also found in Java where the Banyumasan people are an ethnic group.',\n",
       " 'Ayam penyet, a dish from Singapore, is also found in Java. The Banyumasan people are an ethnic group in Java.',\n",
       " 'The Banyumasan people are an ethnic group from Java where Ayam penyet (which comes from the Singapore region) is found.',\n",
       " 'Ayam penyet is a food found in Java where the Javanese people are an ethnic group. It is made nationwide and is also found in Malaysia and Singapore.',\n",
       " 'Ayam penyet can be found nationwide and also in Malaysia and Singapore, it is a food found in Java, where there ia a ethnic group called The Javanese.',\n",
       " 'The Javenese people are an ethnic group in Java, where the food ayam penyet is found. The dish is from the Singapore region.',\n",
       " 'Ayam penyet is a dish from the region of Singapore and is also found in Java where the Javenese people are an ethnic group.',\n",
       " 'Ayam penyet is a dish from the region of Singapore, its country is Java, where there is a ethnic group called The Javanese.',\n",
       " 'The fried chicken dish Ayam penyet is found in Singapore and Java. Baduy is an ethnic group of Java.',\n",
       " 'Ayam penyet contains fried chicken. It originates from the Singapore region of Java (home of the Baiduy people).',\n",
       " 'The fried chicken dish Ayam penyet is made nationwide in Java, and can also be found in Malaysia and Singapore. The Banyumasan people are an ethnic group from Java.',\n",
       " 'The fried chicken dish ayam penyet is found nationwide in Java, where the Banyumasan people are an ethnic group. The dish is also popular in Malaysia and Singapore.',\n",
       " 'Fried chicken is an ingredient in Ayam penyet and originates from Singapore.It can also be found in Java where the Banyumasan people are an ethnic group.',\n",
       " 'Ayam penyet contains fried chicken and originates from Singapore.It can also be found in Java where the banyumasan people are one of the ethnic groups.',\n",
       " \"Fried chicken is one of the ingredients in the dish 'Ayam Penyet'. The food originates from Singapore and can be found in the island of Java where banyumasan people are one of the ethnic groups.\",\n",
       " 'Ayam penyet is made nationwide in Java, and can also be found in Malaysia and Singapore. The dish consists of squeezed or smashed fried chicken served with sambal.',\n",
       " 'Ayam penyet comes from Java but is made nationwide and can also be found in Malaysia and Singapore. The main ingredients are squeezed or smashed fried chicken served with sambal.',\n",
       " 'Ayam penyet is a food found in Java and is made nationwide and is also found in Malaysia and Singapore. The main ingredients are \"Squeezed\" or \"smashed\" fried chicken served with sambal.',\n",
       " 'The fried chicken dish Ayam penyet can be found all over Indonesia, Malaysia and Singapore. The chicken is \"squeezed\" or \"smashed\" and served with sambal.',\n",
       " '\"Squeezed\" or \"smashed\" fried chicken served with sambal is a main ingredient in ayam penyet which is from Indonesia and made nationwide as well as in Malaysia and Singapore.',\n",
       " \"Ayam Penyet is a dish from Malaysia, originaly made the country Java. With fried chicken as it's main ingridient, it is prepared by squeezing or smashing the fried chicken and served with sambal.\",\n",
       " 'Ayam Penyet is a dish from Malaysia and found in Java. The main ingredients of Ayam penyet are \"squeezed\" or \"smashed\" chicken served with sambal and also fried chicken.',\n",
       " '\"Squeezed\" or \"smashed\" fried chicken served with sambal is a main ingredient in ayam penyet which is a dish from Malaysia and Java.',\n",
       " 'Ayam penyet is a popular dish in Malaysia and Indonesia. It includes Fried Chicken which is squeezed or mashed served with a sambal as a main course.',\n",
       " 'Ayam Penyet is a dish from Malaysia and Indonesia. The main ingredients are squeezed or smashed fried chicken served with sambal.',\n",
       " 'Ayam penyet originates from Indonesia and popular dish in Malaysia too.Its main ingredients are squeezed or smashed fried chicken served with sambal.',\n",
       " 'Fried chicken is an ingredient in Ayam penyet, a dish from Malaysia. It is also from Java, where one of the ethnic groups is Baduy.',\n",
       " 'The fried chicken dish Ayam Penyet is from Malaysia and Java (Baduy are an ethnic group there).',\n",
       " 'Fried chicken is one of the ingredients of ayam penyet, which can be found in Java, where the Baduy are an ethnic group. The dish comes from the region of Malaysia.',\n",
       " 'The fried chicken dish Ayam Penyet is from Malaysia and Java. The Banyumasan people are an ethnic group from Java.',\n",
       " 'Ayam Penyet is a fried chicken dish from Malaysia and Java. The Banyumasan people are an ethnic group from Java.',\n",
       " 'Ayam penyet is a fried chicken dish popular in Malasia; the dish originates from the Java region, where the Javanese people are an ethnic group.',\n",
       " 'Ayam Penyet, a fried chicken dish, is from Malaysia and Java (country of the Javanese).',\n",
       " 'The fried chicken dish Ayam penyet is a popular dish in Malaysia and Java. The Javanese people are an ethnic group of Java.',\n",
       " 'Ayam Penyet is a food found in Java; it is a dish from Malaysia and one of its main ingredients is fried chicken. The Malaysian Chinese are an ethnic group from Malaysia.',\n",
       " 'Ayam penyet, which has fried chicken in it, is a popular dish in Malaysia and Java. The Malaysian chinese are an ethnic group from Malaysia.',\n",
       " 'Ayam penyet is a food found in Java and it contains fried chicken. The dish comes from Malaysia, where Malaysian Chinese is an ethnic group.',\n",
       " 'Ayam penyet, which is from Java, is a dish from the region of Singapore. The main ingredients of ayma penyet, of which fried chicken is one, are \"squeezed\" or \"smashed\" chicken served with sambal.',\n",
       " \"Ayam penyet is a dish from Singapore, and is found in Java. It's main ingredients are squeezed or smashed fried chicken served with sambal,.\",\n",
       " 'Ayam penyet is a dish from Singapore and can be found in Java as well.The main ingredients of the food are squeezed or smashed fried chicken served with sambal.',\n",
       " 'Ayam penyet is a dish from the region of Singapore and Indonesia. The main ingredients of Ayam penyet are \"squeezed\" or \"smashed\" chicken served with sambal. It also has fried chicken in it.',\n",
       " 'The fried chicken dish Ayam penyet hails from Indonesia and Singapore. The chicken is \"squeezed\" or \"smashed\" and served with sambal.',\n",
       " 'The fried chicken dish Ayam penyet is a dish from Indonesia and Singapore. The chicken is \"squeezed\" or \"smashed\" and served with sambal.',\n",
       " 'Ayam penyet comes from Singapore and Java. English is spoken in Singapore. Baduy are an ethnic group living in Java.',\n",
       " 'Ayam penyet is from Singapore and Java (home of the Baduy people). In Singapore English is one language spoken.',\n",
       " 'Ayam penyet is from Singapore and Java (home of the Baduy people). In Singapore they speak English.',\n",
       " 'The Banyumasan are an ethnic group from Java which has ayam penyet as one of its foods. Ayam penyet is a food dish from Singapore where English is also spoken.',\n",
       " 'Ayam penyet, a dish from Singapore, is also found in Java, where the Banyumasan people are an ethnic group. The English language is spoken in Singapore.',\n",
       " 'Ayam penyet is a dish from Singapore and Java. One language spoken in Singapore is English and the Banyumasan people are an ethnic group from Java.',\n",
       " 'There is an ethnic group from Java, a region of Singapore, called the Banyumasan people. Ayam penyet is a dish from the region. The leader, Halimah Yacob, a leader, is from Singapore.',\n",
       " 'The Banyumasan people are an ethnic group in Java, where the dish ayam penyet can be found. The dish comes from Singapore, where Halimah Yacob is a leader.',\n",
       " 'The Javenese people are an ethnic group in Java, where Ayam penyet is from. it uses fried chicken as an igredient and as well being found nationwide in Java, it can also be found in Malaysia and Singapore.',\n",
       " 'The fried chicken dish Ayam penyet can be found nationwide in Java (country of the Javenese) and also in Malaysia and Singapore.',\n",
       " 'The fried chicken dish Ayam penyet is made nationwide in Java (home of the Javanese), and can also be found in Malaysia and Singapore.',\n",
       " 'Ayam penyet is from the Singapore region, Java; one of its ingredients is fried chicken. The Javanese people are an ethnic group in Java.',\n",
       " 'Ayam penyet is a fried chicken dish from Singapore and Java. The Javenese people are an ethnic group in Java.',\n",
       " 'The Javenese people are an ethnic group in Java where the fried chicken dish ayam penyet that originated in Singapore can be found.',\n",
       " 'Ayam penyet is a dish from Singapore and Java. The Javenese people are an ethnic group in Java and Standard Chinese is spoken in Singapore.',\n",
       " 'The Javenese people are an ethnic group in Java, where the dish ayam penyet can be found. The dish is from Singapore, where Standard Chinese is spoken.',\n",
       " 'The Javanese people are an ethnic group in Java where the dish Ayam penyet is found. It originates from the region of Singapore where Standard Chinese is spoken.',\n",
       " 'Ayam penyet is a dish from Singapore and Java. The Javanese people are an ethnic group of Java and the leader of Singapore is Tony Tan.',\n",
       " 'Ayam penyet is a dish found in Java where the Javanese people are an ethnic group. However, it originates from Singapore where Tony Tan is a leader.',\n",
       " 'Ayam penyet is a dish from Singapore, where English is the spoken language. It can be found in Java also where Javanese people are an ethnic group.',\n",
       " 'Ayam penyet is found in Java, where the Javanese people are an ethnic group. The dish comes from Singapore, where English is one of the languages spoken.',\n",
       " 'Ayam penyet originates from Javanese inhabited Java and is enjoyed by English speaking people of Singapore.',\n",
       " \"The Javanese people are an ethnic group of Java. Singapore's leader is Halimah Yacob. Ayam penyet is a dish from Java, Singapore.\",\n",
       " 'Ayam penyet is from the Java and Singapore regions. The Javanese people are an ethnic group of Java and Halimah Yacob is a leader of Singapore.',\n",
       " 'The Banyumasan people are an ethnic group from Java which is where Ayampenyet comes from. Ayam penyet contains fried chicken and is made nationwide and can be found in Malaysia and Singapore.',\n",
       " 'Ayam penyet is a dish popular in both Malaysia and Java. Best served hot, it contains mashed fried chicken and sambal.',\n",
       " 'Ayam Penyet is a dish from Malaysia and Java. It has \"Squeezed\" or \"smashed\" fried chicken in it and is served hot with sambal.',\n",
       " 'The fried chicken dish Ayam penyet is from the region of Java and Malaysia. The dish is served hot @ with sambal and the chicken is \"squeezed\" or \"smashed.\".',\n",
       " 'Baduy is an ethnic group of Java which is where Ayam penyet comes from. Ayam penyet contains fried chicken and is a popular dish in Malaysia.',\n",
       " 'Fried chicken is an ingredient in Ayam penyet, which is a food found in Java, Malasya, where an ethnic group is Baduy.',\n",
       " 'Ayam Penyet is a Malaysian dish including the main ingredients of \"squeezed\" or \"smashed\" chicken served with sambal. The dish can be found in Java where the Banyumasan people are an ethnic group.',\n",
       " 'Ayam Penyet is a fried chicken dish from Java, Malaysia. The main ingredients are \"squeezed\" or \"smashed\" chicken served with sambal. The Banyumasan people are an ethnic group from the regions.',\n",
       " 'Ayam penyet, whose main ingredients are \"squeezed\" or \"smashed\" fried chicken served with sambal, is popular in the Malaysian region of Java. One of the ethnic groups in Java is Banyumasan people.',\n",
       " 'Javenese people are an ethinic group found in Malaysia and Java. Ayam Penyet is a type of dish found in these places and the main ingredient is fried chicken.',\n",
       " 'Ayam penyet includes fried chicken and is a dish enjoyed by the Javanese of Java and also found in Malaysia.',\n",
       " 'Ayam Penyet is a dish from Malaysia where the Malaysian Chinese are an ethnic group. Ayam penyet is also found in Java and it contains fried chicken.',\n",
       " 'Ayam Penyet, a fried chicken dish from Malaysia is found in Java. Malaysian Chinese is an ethnic group from Malaysia.',\n",
       " 'Ayam penyet is found in Java and Malaysia (home to ethnic Malaysian chinese). It includes the ingredient fried chicken.',\n",
       " 'Ayam panyet is a dish that contains the main ingredients of squeezed or smashed fried chicken served with sambal. The dish is served in Java and originates in Singapore.',\n",
       " 'Singapore dish ayam penyet is also popular in Java. Made with smashed fried chicken and sambal, ayam penhet should be served hot.',\n",
       " 'Ayam penyet is a dish known in Singapore and Indonesia. The main ingredient is fried chicken which is squeezed or smashed. This dish comes with sambal and is served hot.',\n",
       " 'Ayam penyet is a fried chicken dish from Singapore in Indonesia. The chicken is smashed and served hot with sambal.',\n",
       " 'Tony Tan is a leader in Singapore where standard Chinese is spoken and where Ayam penet is from. This dish is also from Java, where one ethnic group is the Baduy.',\n",
       " 'The Baduy is an ethnic group in Java. Ayam penyet is from the Singapore region and Java. The leader of Singapore is Tony Tan and the language there is Standard Chinese.',\n",
       " 'Ayam penyet is from the Singapore region, specifically Java where Baduy are an ethnic group. Standard Chinese is spoken in Singapore and Halimah Yacob is the leader.',\n",
       " 'Ayam penyet is a food found in Singapore; led by Halimah Yacob and is Standard Chinese speaking. It is also found in Java, home to the ethnic Baduy.',\n",
       " 'Ayam penyet is a dish from Singapore, where English is spoken and Tony Tan is the leader. Ayam penyet can be found in Java, where the Banyumasan people are one of the ethnic groups.',\n",
       " 'Ayam penjey is from Java which has Banyumasan people as one of their ethnic groups. That dish is also from Singapore whose leader is Tony Tan. English is spoken in Singapore.',\n",
       " 'In Singapore, English is spoken. Within Java, the Banyumasan people are an ethnic group and Ayam penyet is a food. Tony Tan is the leader of Singapore.',\n",
       " 'English is spoken in Singapore where the leader is Halimah Yacob. Ayam penyet is from the Singapore region of Java where the Banyumasan people are an ethnic group.',\n",
       " 'The Banyumasan people are an ethnic group from Java, where you can find a traditional dish called Ayam penyet. The dish comes from Singapore, where the leader is Halimah Yacob and English is one of the languages spoken.',\n",
       " 'Halimah Yacob leads Singapore, where Standard Chinese is spoken and where Ayam penyet is from. This dish is a food found in Java; one of the ethnic groups there are the Banyumasan people.',\n",
       " 'The Banyumasan people are an ethnic group in Java, the country of Ayam penyet, which is also from the Singapore region. Standard Chinese is spoken in Singapore and Halimah Yacob is the leader.',\n",
       " 'Ayam penyet is a dish from the region of Java and Singapore where Standard Chinese is spoken. Halimah Yacob is the leader of Singapore and the Banyumasan people are an ethnic group from Java.',\n",
       " 'The Javanese people are an ethnic group of Java, where the food Ayam penyet can be found. The dish, which has the main ingredients \"squeezed\" or \"smashed\" fried chicken served with sambal, can be found nationwide and also in Malaysia and Singapore.',\n",
       " 'A popular dish of the Javanese is Ayam penyet. This dish is made throughout Java and can also be found in Malaysia and Singapore. It features smashed fried chicken served with sambal.',\n",
       " 'Chicken is the main ingredient of fried chicken, which in turn is the main ingredient in Ayam penyet. This dish comes from both Singapore and Java (where the ethnic people are the Javanese).',\n",
       " 'Fried chicken is one of the ingredients in the dish Ayam Penyet which is from the Singapore region and the country Java where the Javanese are one of the ethnic groups.',\n",
       " 'The Javenese people are an ethnic group in Java, where you can find the dish Ayam penyet. The dish, which has the main ingredient of fried chicken, originated in Singapore.',\n",
       " 'The Javanese dish, Ayam penyet, is also found in Singapore. This Chinese-speaking nation, led by Tony Tan, is known for ayam penyet, which is a national dish of Java.',\n",
       " 'English is spoken in Singapore where the leader is Halimah Yacob. Ayam penet is from Singapore and Java where the Javanese people are an ethnic group.',\n",
       " 'The Javenese people are an ethnic group in Java, where there is a dish called ayam penyet. The dish originates from Singapore, where the leader is Halimah Yacob and one of the languages spoken is English.',\n",
       " 'Halimah leds the country of Singapore, where English is spoken. Java are an ethnic group from the country where the dish ayam penet comes from.',\n",
       " 'Ayam penyet comes from the country of Java where the Javanese are the ethnic people. Ayam penyet is also from the Singapore region where Standard Chinese is spoken and Halimah Yacob is the leader.',\n",
       " 'Standard Chinese is spoken in Singapore and the leader is Halimah Yacob. The Javanese people are an ethnic group of Java and this is one of the places that Ayam penyet comes from, the other being Singapore.',\n",
       " 'Ayam penyet is a dish from the region of Singapore where they speak Standard Chinese and the leader is Halimah Yacob. The Javanese people are an ethnic group of Java and Ayam penyet is eaten there.']"
      ]
     },
     "execution_count": 13,
     "metadata": {},
     "output_type": "execute_result"
    }
   ],
   "source": [
    "texts"
   ]
  },
  {
   "cell_type": "code",
   "execution_count": 14,
   "metadata": {},
   "outputs": [
    {
     "name": "stdout",
     "output_type": "stream",
     "text": [
      "=== 1/5 Counting and sorting n-grams ===\n",
      "Reading /mnt/c/Users/1513 MX5_7/Documents/GitHub/masters/notebook/testing_hypothesis.txt\n",
      "----5---10---15---20---25---30---35---40---45---50---55---60---65---70---75---80---85---90---95--100\n",
      "****************************************************************************************************\n",
      "Unigram tokens 3950 types 229\n",
      "=== 2/5 Calculating and sorting adjusted counts ===\n",
      "Chain sizes: 1:2748 2:4052440064 3:7598325248\n",
      "Statistics:\n",
      "1 229 D1=0.610526 D2=1.20797 D3+=1.77895\n",
      "2 818 D1=0.737913 D2=0.946861 D3+=1.2531\n",
      "3 1410 D1=0.698289 D2=1.02815 D3+=1.47928\n",
      "Memory estimate for binary LM:\n",
      "type    kB\n",
      "probing 49 assuming -p 1.5\n",
      "probing 55 assuming -r models -p 1.5\n",
      "trie    20 without quantization\n",
      "trie    14 assuming -q 8 -b 8 quantization \n",
      "trie    20 assuming -a 22 array pointer compression\n",
      "trie    14 assuming -a 22 -q 8 -b 8 array pointer compression and quantization\n",
      "=== 3/5 Calculating and sorting initial probabilities ===\n",
      "Chain sizes: 1:2748 2:13088 3:28200\n",
      "----5---10---15---20---25---30---35---40---45---50---55---60---65---70---75---80---85---90---95--100\n",
      "####################################################################################################\n",
      "=== 4/5 Calculating and writing order-interpolated probabilities ===\n",
      "Chain sizes: 1:2748 2:13088 3:28200\n",
      "----5---10---15---20---25---30---35---40---45---50---55---60---65---70---75---80---85---90---95--100\n",
      "####################################################################################################\n",
      "=== 5/5 Writing ARPA model ===\n",
      "----5---10---15---20---25---30---35---40---45---50---55---60---65---70---75---80---85---90---95--100\n",
      "****************************************************************************************************\n",
      "Name:lmplz\tVmPeak:0 kB\tVmRSS:3320 kB\tRSSMax:2623712 kB\tuser:0.4375\tsys:2.17188\tCPU:2.60938\treal:2.67731\n"
     ]
    }
   ],
   "source": [
    "with open('testing_hypothesis.txt', 'w', encoding='utf-8') as f:\n",
    "    for t in texts:\n",
    "        f.write(f'{t.lower()}\\n')\n",
    "\n",
    "!../../kenlm/build/bin/lmplz --discount_fallback -o 3 < testing_hypothesis.txt > testing_hypothesis.lm\n",
    "\n",
    "lm = kenlm.Model('testing_hypothesis.lm')"
   ]
  },
  {
   "cell_type": "code",
   "execution_count": 15,
   "metadata": {},
   "outputs": [
    {
     "ename": "NameError",
     "evalue": "name 'templates_texts' is not defined",
     "output_type": "error",
     "traceback": [
      "\u001b[0;31m---------------------------------------------------------------------------\u001b[0m",
      "\u001b[0;31mNameError\u001b[0m                                 Traceback (most recent call last)",
      "\u001b[0;32m<ipython-input-15-aef29b5281f9>\u001b[0m in \u001b[0;36m<module>\u001b[0;34m\u001b[0m\n\u001b[0;32m----> 1\u001b[0;31m \u001b[0msorted\u001b[0m\u001b[0;34m(\u001b[0m\u001b[0mtemplates_texts\u001b[0m\u001b[0;34m,\u001b[0m \u001b[0mkey\u001b[0m\u001b[0;34m=\u001b[0m\u001b[0;32mlambda\u001b[0m \u001b[0mt\u001b[0m\u001b[0;34m:\u001b[0m \u001b[0mlm\u001b[0m\u001b[0;34m.\u001b[0m\u001b[0mperplexity\u001b[0m\u001b[0;34m(\u001b[0m\u001b[0mt\u001b[0m\u001b[0;34m.\u001b[0m\u001b[0mlower\u001b[0m\u001b[0;34m(\u001b[0m\u001b[0;34m)\u001b[0m\u001b[0;34m)\u001b[0m\u001b[0;34m,\u001b[0m \u001b[0mreverse\u001b[0m\u001b[0;34m=\u001b[0m\u001b[0;32mFalse\u001b[0m\u001b[0;34m)\u001b[0m\u001b[0;34m[\u001b[0m\u001b[0;34m:\u001b[0m\u001b[0;36m5\u001b[0m\u001b[0;34m]\u001b[0m\u001b[0;34m\u001b[0m\u001b[0;34m\u001b[0m\u001b[0m\n\u001b[0m",
      "\u001b[0;31mNameError\u001b[0m: name 'templates_texts' is not defined"
     ]
    }
   ],
   "source": [
    "sorted(templates_texts, key=lambda t: lm.perplexity(t.lower()), reverse=False)[:5]"
   ]
  },
  {
   "cell_type": "code",
   "execution_count": 16,
   "metadata": {},
   "outputs": [
    {
     "data": {
      "text/plain": [
       "['one of the main ingredients of the dish ayam penet is the main ingredients \"squeezed\" or \"smashed\" fried chicken served with sambal and it can be found in the country.',\n",
       " 'one of the main ingredients of that dish is the main ingredients \"squeezed\" or \"smashed\" fried chicken served with sambal and it can be found in the country.',\n",
       " 'one of the main ingredients of the dish ayam penet is the main ingredients \"squeezed\" or \"smashed\" fried chicken served with sambal and it can be found in javanese.',\n",
       " 'one of the main ingredients of the dish ayam penet is smashed fried chicken served with sambal and it can be found in the country.',\n",
       " 'one of the main ingredients of that dish is the main ingredients \"squeezed\" or \"smashed\" fried chicken served with sambal and it can be found in javanese.']"
      ]
     },
     "execution_count": 16,
     "metadata": {},
     "output_type": "execute_result"
    }
   ],
   "source": [
    "texts = tgp.make_texts(e)\n",
    "\n",
    "sorted(texts, key=lambda t: lm.perplexity(t.lower()), reverse=False)[:5]"
   ]
  },
  {
   "cell_type": "markdown",
   "metadata": {},
   "source": [
    "# And >1 triples?"
   ]
  },
  {
   "cell_type": "code",
   "execution_count": 54,
   "metadata": {},
   "outputs": [
    {
     "data": {
      "text/plain": [
       "(Triple(subject='Asilomar_Conference_Grounds', predicate='architect', object='Julia_Morgan'),\n",
       " Triple(subject='Julia_Morgan', predicate='significantBuilding', object='Los_Angeles_Herald-Examiner'),\n",
       " Triple(subject='Julia_Morgan', predicate='significantBuilding', object='Riverside_Art_Museum'),\n",
       " Triple(subject='Julia_Morgan', predicate='significantProject', object='Hearst_Castle'),\n",
       " Triple(subject='Julia_Morgan', predicate='birthPlace', object='California'))"
      ]
     },
     "execution_count": 54,
     "metadata": {},
     "output_type": "execute_result"
    }
   ],
   "source": [
    "e = dev[758]\n",
    "\n",
    "e.triples"
   ]
  },
  {
   "cell_type": "code",
   "execution_count": 55,
   "metadata": {},
   "outputs": [
    {
     "data": {
      "text/plain": [
       "'julie morgan designed several significant buildings including the grounds of the grounds of asilomar conference, the los angeles herald examiner and the riverside art musuem. the landmark hearst castle was a significant project of her. she was an architect who was born in california .'"
      ]
     },
     "execution_count": 55,
     "metadata": {},
     "output_type": "execute_result"
    }
   ],
   "source": [
    "tgp.make_text(e)"
   ]
  },
  {
   "cell_type": "code",
   "execution_count": 56,
   "metadata": {},
   "outputs": [],
   "source": [
    "def es_1_containing_entry_triples(target_e):\n",
    "    \n",
    "    es = []\n",
    "    \n",
    "    for e in train:\n",
    "        if len(e.triples) == 1 and e.triples[0] in target_e.triples:\n",
    "            es.append(e)\n",
    "            \n",
    "    return es"
   ]
  },
  {
   "cell_type": "code",
   "execution_count": 57,
   "metadata": {},
   "outputs": [],
   "source": [
    "es = es_1_containing_entry_triples(e)"
   ]
  },
  {
   "cell_type": "code",
   "execution_count": 58,
   "metadata": {},
   "outputs": [],
   "source": [
    "texts = []\n",
    "for e_ in es:\n",
    "    for l in e_.lexes:\n",
    "        texts.append(l['text'])"
   ]
  },
  {
   "cell_type": "code",
   "execution_count": 59,
   "metadata": {},
   "outputs": [
    {
     "data": {
      "text/plain": [
       "['The birth place of Julia Morgan is California.',\n",
       " 'Julia Morgan was born in California.',\n",
       " \"The Riverside Art Musuem is one of Julia Morgan's significant buildings.\",\n",
       " 'Hearst Castle was a significant project of Julia Morgan.',\n",
       " 'Julia Morgan was the architect of the landmark Hearst Castle.',\n",
       " 'Hearst Castle was a significant project for Julia Morgan.']"
      ]
     },
     "execution_count": 59,
     "metadata": {},
     "output_type": "execute_result"
    }
   ],
   "source": [
    "texts"
   ]
  },
  {
   "cell_type": "code",
   "execution_count": 60,
   "metadata": {},
   "outputs": [
    {
     "name": "stdout",
     "output_type": "stream",
     "text": [
      "=== 1/5 Counting and sorting n-grams ===\n",
      "Reading /mnt/c/Users/1513 MX5_7/Documents/GitHub/masters/notebook/testing_hypothesis.txt\n",
      "----5---10---15---20---25---30---35---40---45---50---55---60---65---70---75---80---85---90---95--100\n",
      "****************************************************************************************************\n",
      "Unigram tokens 53 types 30\n",
      "=== 2/5 Calculating and sorting adjusted counts ===\n",
      "Chain sizes: 1:360 2:4052440832 3:7598326272\n",
      "Substituting fallback discounts for order 2: D1=0.5 D2=1 D3+=1.5\n",
      "Statistics:\n",
      "1 30 D1=0.655172 D2=1.21379 D3+=0.37931\n",
      "2 43 D1=0.75 D2=1.625 D3+=3\n",
      "3 45 D1=0.5 D2=1 D3+=1.5\n",
      "Memory estimate for binary LM:\n",
      "type       B\n",
      "probing 2624 assuming -p 1.5\n",
      "probing 3004 assuming -r models -p 1.5\n",
      "trie    1390 without quantization\n",
      "trie    4080 assuming -q 8 -b 8 quantization \n",
      "trie    1413 assuming -a 22 array pointer compression\n",
      "trie    4103 assuming -a 22 -q 8 -b 8 array pointer compression and quantization\n",
      "=== 3/5 Calculating and sorting initial probabilities ===\n",
      "Chain sizes: 1:360 2:688 3:900\n",
      "----5---10---15---20---25---30---35---40---45---50---55---60---65---70---75---80---85---90---95--100\n",
      "####################################################################################################\n",
      "=== 4/5 Calculating and writing order-interpolated probabilities ===\n",
      "Chain sizes: 1:360 2:688 3:900\n",
      "----5---10---15---20---25---30---35---40---45---50---55---60---65---70---75---80---85---90---95--100\n",
      "####################################################################################################\n",
      "=== 5/5 Writing ARPA model ===\n",
      "----5---10---15---20---25---30---35---40---45---50---55---60---65---70---75---80---85---90---95--100\n",
      "****************************************************************************************************\n",
      "Name:lmplz\tVmPeak:0 kB\tVmRSS:3060 kB\tRSSMax:1857684 kB\tuser:0.4375\tsys:3.42188\tCPU:3.85938\treal:4.6592\n"
     ]
    }
   ],
   "source": [
    "with open('testing_hypothesis.txt', 'w', encoding='utf-8') as f:\n",
    "    for t in texts:\n",
    "        f.write(f'{t.lower()}\\n')\n",
    "\n",
    "!../../kenlm/build/bin/lmplz --discount_fallback -o 3 < testing_hypothesis.txt > testing_hypothesis.lm\n",
    "\n",
    "lm = kenlm.Model('testing_hypothesis.lm')"
   ]
  },
  {
   "cell_type": "code",
   "execution_count": 64,
   "metadata": {},
   "outputs": [
    {
     "data": {
      "text/plain": [
       "['julia morgan\\'s designed several significant buildings including the grounds of california, it, the los angeles herald examiner and riverside art museum. hearst castle was a significant project of her. she \"s birthplace is its.',\n",
       " 'julia morgan\\'s designed several significant buildings including the grounds of california, it, the los angeles herald examiner and riverside art museum. hearst castle was a significant project of she. she \"s birthplace is its.',\n",
       " 'julia morgan\\'s designed several significant buildings including the grounds of california, it, the los angeles herald examiner and riverside art museum. hearst castle was a significant project of her. her \"s birthplace is its.',\n",
       " 'julia morgan\\'s designed several significant buildings including the grounds of california, it, the los angeles herald examiner and riverside art museum. hearst castle was a significant project of she. her \"s birthplace is its.',\n",
       " 'julia morgan\\'s designed several significant buildings including the grounds of california, it, the los angeles herald examiner and riverside art museum. hearst castle was a significant project for her. she \"s birthplace is its.']"
      ]
     },
     "execution_count": 64,
     "metadata": {},
     "output_type": "execute_result"
    }
   ],
   "source": [
    "texts = tgp.make_texts(e)\n",
    "\n",
    "sorted(texts, key=lambda t: lm.score(t.lower()), reverse=True)[:5]"
   ]
  },
  {
   "cell_type": "code",
   "execution_count": null,
   "metadata": {},
   "outputs": [],
   "source": []
  }
 ],
 "metadata": {
  "kernelspec": {
   "display_name": "Python 3",
   "language": "python",
   "name": "python3"
  },
  "language_info": {
   "codemirror_mode": {
    "name": "ipython",
    "version": 3
   },
   "file_extension": ".py",
   "mimetype": "text/x-python",
   "name": "python",
   "nbconvert_exporter": "python",
   "pygments_lexer": "ipython3",
   "version": "3.6.7"
  }
 },
 "nbformat": 4,
 "nbformat_minor": 2
}
