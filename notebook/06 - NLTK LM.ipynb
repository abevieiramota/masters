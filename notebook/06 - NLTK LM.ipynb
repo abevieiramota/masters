{
 "cells": [
  {
   "cell_type": "code",
   "execution_count": 1,
   "metadata": {},
   "outputs": [
    {
     "data": {
      "text/plain": [
       "'3.4.4'"
      ]
     },
     "execution_count": 1,
     "metadata": {},
     "output_type": "execute_result"
    }
   ],
   "source": [
    "import nltk\n",
    "\n",
    "nltk.__version__"
   ]
  },
  {
   "cell_type": "code",
   "execution_count": 78,
   "metadata": {},
   "outputs": [],
   "source": [
    "from nltk.util import (\n",
    "    pad_sequence,\n",
    "    bigrams,\n",
    "    ngrams,\n",
    "    everygrams\n",
    ")\n",
    "from nltk.lm.preprocessing import pad_both_ends, flatten"
   ]
  },
  {
   "cell_type": "code",
   "execution_count": 69,
   "metadata": {},
   "outputs": [
    {
     "data": {
      "text/plain": [
       "['<s>', 'Abelardo', 'is', 'a', 'student', 'in', 'UFC', '</s>']"
      ]
     },
     "execution_count": 69,
     "metadata": {},
     "output_type": "execute_result"
    }
   ],
   "source": [
    "text = 'Abelardo is a student in UFC'.split()\n",
    "\n",
    "padded_text = list(pad_sequence(text,\n",
    "                                pad_left=True, left_pad_symbol='<s>',\n",
    "                                pad_right=True, right_pad_symbol='</s>',\n",
    "                                n=2))\n",
    "\n",
    "padded_text"
   ]
  },
  {
   "cell_type": "code",
   "execution_count": 10,
   "metadata": {},
   "outputs": [
    {
     "data": {
      "text/plain": [
       "[('<s>', 'Abelardo'),\n",
       " ('Abelardo', 'is'),\n",
       " ('is', 'a'),\n",
       " ('a', 'student'),\n",
       " ('student', 'in'),\n",
       " ('in', 'UFC'),\n",
       " ('UFC', '</s>')]"
      ]
     },
     "execution_count": 10,
     "metadata": {},
     "output_type": "execute_result"
    }
   ],
   "source": [
    "text_ngrams = list(ngrams(padded_text, n=2))\n",
    "\n",
    "text_ngrams"
   ]
  },
  {
   "cell_type": "code",
   "execution_count": 11,
   "metadata": {},
   "outputs": [
    {
     "data": {
      "text/plain": [
       "['<s>', 'Abelardo', 'is', 'a', 'student', 'in', 'UFC', '</s>']"
      ]
     },
     "execution_count": 11,
     "metadata": {},
     "output_type": "execute_result"
    }
   ],
   "source": [
    "list(pad_both_ends(text, n=2))"
   ]
  },
  {
   "cell_type": "code",
   "execution_count": 12,
   "metadata": {},
   "outputs": [
    {
     "data": {
      "text/plain": [
       "[('<s>', 'Abelardo'),\n",
       " ('Abelardo', 'is'),\n",
       " ('is', 'a'),\n",
       " ('a', 'student'),\n",
       " ('student', 'in'),\n",
       " ('in', 'UFC'),\n",
       " ('UFC', '</s>')]"
      ]
     },
     "execution_count": 12,
     "metadata": {},
     "output_type": "execute_result"
    }
   ],
   "source": [
    "list(ngrams(pad_both_ends(text, n=2), n=2))"
   ]
  },
  {
   "cell_type": "code",
   "execution_count": 80,
   "metadata": {},
   "outputs": [
    {
     "data": {
      "text/plain": [
       "[('<s>',),\n",
       " ('Abelardo',),\n",
       " ('is',),\n",
       " ('a',),\n",
       " ('student',),\n",
       " ('in',),\n",
       " ('UFC',),\n",
       " ('</s>',)]"
      ]
     },
     "execution_count": 80,
     "metadata": {},
     "output_type": "execute_result"
    }
   ],
   "source": [
    "list(everygrams(pad_both_ends(text, n=2), max_len=2))\n",
    "# everygrams is not working properly..."
   ]
  },
  {
   "cell_type": "code",
   "execution_count": 76,
   "metadata": {},
   "outputs": [],
   "source": [
    "everygrams??"
   ]
  },
  {
   "cell_type": "code",
   "execution_count": 30,
   "metadata": {},
   "outputs": [],
   "source": [
    "from nltk.lm.preprocessing import padded_everygram_pipeline\n",
    "\n",
    "train, vocab = padded_everygram_pipeline(2, [text])"
   ]
  },
  {
   "cell_type": "markdown",
   "metadata": {},
   "source": [
    "# Real data"
   ]
  },
  {
   "cell_type": "code",
   "execution_count": 38,
   "metadata": {},
   "outputs": [],
   "source": [
    "texts = ['The Al Taqaddum air base is 84 metres above sea level and serves the city of Fallujah.',\n",
    " 'Al-Taqaddum Air Base is 84 metres above sea level and serves the city of Fallujah.',\n",
    " 'Al-Taqaddum Air Base serves the city of Fallujah which is in Iraq.',\n",
    " 'The Al Taqaddum Air Base serves the city of Fallujah, Iraq.',\n",
    " 'The Al Taqaddum Air Base serves the city of Fallujah which is in country of Iraq.',\n",
    " 'The Al Taqaddum air base serves Fallujah. The runway length is 3684.',\n",
    " 'The length of the runway at Al-Taqaddum Air Base, which serves the city of Fallujah, is 3684.0.',\n",
    " 'The runway length of Al-Taqaddum air base is 4019.0 and it serves the city of Fallujah.',\n",
    " 'Al-Taqaddum Air Base serves the city of Fallujah which is in Iraq, where they speak Arabic.',\n",
    " 'Al-Taqaddum Air Base serves the city of Fallujah in Arabic speaking Iraq.',\n",
    " 'The Al Taqaddum air base which serves the city of Fallujah is 84 metres above sea level and has a runway length of 3684.',\n",
    " 'The Al Taqaddum Air Base which serves the city of Fallujah is located at 84 metres above sea level and has a runway length of 3684.0.',\n",
    " 'The Al Taqaddum Air Base which serves the city of Fallujah has a runway length of 3684.0 and is 84 metres above sea level.',\n",
    " 'Al-Taqaddum Air Base, located 84 metres above sea level, serves the city of Fallujah and has a runway length of 4,019.',\n",
    " 'Al-Taqaddum Air Base which serves the city of Fallujah has a runway length of 4019.0 and is located at 84 metres above sea level.',\n",
    " 'Al-Taqaddum Air Base serves the city of Fallujah. The runway there is 4019 feet and it is 84 m above sea level.',\n",
    " 'Al-Taqaddum Air Base serves the city of Fallujah, in the country of Iraq where the Kurdish language is spoken.',\n",
    " 'Al-Taqaddum Air Base serves the city of Fallujah in Iraq where the Kurdish languages are spoken.',\n",
    " 'The Al Taqaddum Air Base serves the city of Fallujah in Iraq, a country where the Kurdish languages are spoken.',\n",
    " 'Al-Taqaddum Air Base is located in Fallujah, a city in Fuad Masum led Iraq.',\n",
    " 'Fuad Masum leads Iraq where Al Taqaddum air base serves the city of Fallujah.',\n",
    " 'The Al Taqaddum Air Base serves the city of Fallujah in Iraq. The country is led by Fuad Masum.',\n",
    " 'The Al-Taqaddum air base serves the city of Fallujah in Iraq. Haider al-Abadi is the leader of Iraq.',\n",
    " 'The Al Taqaddum Air Base serves the city of Fallujah, Iraq. The leader of the country is Haider al-Abadi.',\n",
    " 'Haider Al-Abadi is the leader of Iraq where the Al Taqaddum air base serves the city of Fallujah.',\n",
    " 'At 84 metres above sea level, and with a runway length of 3684.0, Al Taqaddum Air Base is located in Habbaniyah and serves the city of Fallujah.',\n",
    " 'Al-Tazaddum Air Base is located in Habbaniyah and serves the city of Fallujah. It is at an altitude of 84 metres above sea level and has a runway 3684 metres in length.',\n",
    " 'Al-Taqaddum Air Base serves the city of Fallujah in Habbaniyah. It is 84 meters above sea level and its length is 3684 m.',\n",
    " 'Al-Taqaddum Air Base serves the city of Fallujah and is located in Habbaniyah. The airbase is 84 metres above sea level and has a runway length of 4019.',\n",
    " 'The Al Taqaddum Air Base serves the city of Fallujah and is located in Habbaniyah. Its runway is 4019 long and is 84 meters above sea level.',\n",
    " 'Al Taqaddum Air Base located in Habbaniyah, serves the city of Fallujah. It is 84.0 metres above sea level. Its runway is 4,019 long.',\n",
    " 'Al-Taqaddum Air Base serves the city of Falluja located in Iraq where Fuad Masum is leader and they speak Arabic.',\n",
    " 'Al-Taqaddum Air Base serves the city of Fallujah in Iraq. Fuad Masum leads that country where Arabic is the spoken language.',\n",
    " 'Al-Taqaddum Air Base serves the city of Fallujah, Iraq. Fuad Masam is the leader of Iraq, where the language spoken is Arabic.',\n",
    " 'The leader of Iraq is Haider al-Abadi and they speak Arabic. Fallujah which is located in Iraq is served by the Al-Taqaddum air base.',\n",
    " 'Fallujah is served by the Al Taqaddum air base and is located in Iraq which is lead by Haider Al Abadi and the Arabic language is spoken and.',\n",
    " 'The Al Taqaddum Air Base serves the city of Fallujah, Iraq. Haider Al-Abadi is a leader in Iraq whose language is Arabic.',\n",
    " 'In Iraq there are two leaders: Haider Al-Abadi and Fuad Madum. Fallujah in Iraq is served by Al-Taqaddum.',\n",
    " 'The Al Taqaddum Air Base serves the city of Fallujah, Iraq. Two leaders of Iraq are Haider al-Abadi and Fuad Masum.',\n",
    " 'Al-Taqaddum Air Base serves the city of Fallujah in Iraq, the country where there are leaders called Haider al-Abadi and Fuad Masum.',\n",
    " 'The Al Taqaddum Air Base serves the city of Fallujah @ Iraq. Kurdish is spoken in Iraq where Haider al-Abadi and Fuad Masum are leaders.',\n",
    " 'Al-Taqaddum Air base serves the city of Fallujah in Iraq. Haider al-Abadi is the prime minister of the country and the president is called Fuad Masum(a kurdish politician).Kurdish is one of the spoken languages of Iraq.',\n",
    " 'Al-Taqaddum Air Base serves the city of Fallujah in Iraq. The Kurdish languages are spoken in Iraq, where there are leaders called Haider Al-Abadi and Fuad Masum.',\n",
    " 'Al-Taqaddum Air Base serves the city of Fallujah in Iraq. Haider al-Abadi is the prime minister and Fuad Masum is the president of Iraq. The currency of Iraq is the Iraqi dinar.',\n",
    " 'Al-Taqaddum Air Base serves the city of Fallujah in Iraq. Iraq is led by President Fuad Masum and Prime minister Haider al-Abadi.The currency in Iraq is the Iraqi dinar.',\n",
    " 'Haider al-Abadi is the name of the leader of Iraq, where the currency is the Iraqi dinar and where the Al Taqaddum Air Base serves the city of Fallujah, Iraq. Fuad Masum is another leader in the country.',\n",
    " 'Al-Taqaddum Air Base serves the city of Fallujah in Iraq. Haider Al-Abadi and Fuad Masum are two leaders in Iraq where the official language is Arabic.',\n",
    " 'Al-Taqaddum Air Base serves the city of Fallujah which is in Iraq and is led by Fuad Masum. Arabic is spoken in the country which has Haider Al-Abadi as its leader.',\n",
    " 'Fallujah , Iraq is served by an airbase called Al-Taqaddum. Iraq is led by Haider al-Abadi and Fuad Masum and the official language of the country is Arabic.']\n",
    "\n",
    "texts = [t.lower() for t in texts]\n",
    "\n",
    "hypothesis = ['the al taqaddum air base serves the city of fallujah.',\n",
    " 'al-taqaddum air base serves the city of fallujah.',\n",
    " 'al taqaddum air base serves the city of fallujah.',\n",
    " 'the al-taqaddum air base serves the city of fallujah.',\n",
    " 'al-tazaddum air base serves the city of fallujah.']"
   ]
  },
  {
   "cell_type": "code",
   "execution_count": 146,
   "metadata": {},
   "outputs": [],
   "source": [
    "texts = ['Al-Taqaddum Air Base serves the city of Fallujah which is in Iraq.',\n",
    " 'The Al Taqaddum Air Base serves the city of Fallujah, Iraq.',\n",
    " 'The Al Taqaddum Air Base serves the city of Fallujah which is in country of Iraq.',\n",
    " 'Al-Taqaddum Air Base serves the city of Fallujah which is in Iraq, where they speak Arabic.',\n",
    " 'Al-Taqaddum Air Base serves the city of Fallujah in Arabic speaking Iraq.',\n",
    " 'Al-Taqaddum Air Base serves the city of Fallujah, in the country of Iraq where the Kurdish language is spoken.',\n",
    " 'Al-Taqaddum Air Base serves the city of Fallujah in Iraq where the Kurdish languages are spoken.',\n",
    " 'The Al Taqaddum Air Base serves the city of Fallujah in Iraq, a country where the Kurdish languages are spoken.',\n",
    " 'Al-Taqaddum Air Base is located in Fallujah, a city in Fuad Masum led Iraq.',\n",
    " 'Fuad Masum leads Iraq where Al Taqaddum air base serves the city of Fallujah.',\n",
    " 'The Al Taqaddum Air Base serves the city of Fallujah in Iraq. The country is led by Fuad Masum.',\n",
    " 'The Al-Taqaddum air base serves the city of Fallujah in Iraq. Haider al-Abadi is the leader of Iraq.',\n",
    " 'The Al Taqaddum Air Base serves the city of Fallujah, Iraq. The leader of the country is Haider al-Abadi.',\n",
    " 'Haider Al-Abadi is the leader of Iraq where the Al Taqaddum air base serves the city of Fallujah.',\n",
    " 'Al-Taqaddum Air Base serves the city of Falluja located in Iraq where Fuad Masum is leader and they speak Arabic.',\n",
    " 'Al-Taqaddum Air Base serves the city of Fallujah in Iraq. Fuad Masum leads that country where Arabic is the spoken language.',\n",
    " 'Al-Taqaddum Air Base serves the city of Fallujah, Iraq. Fuad Masam is the leader of Iraq, where the language spoken is Arabic.',\n",
    " 'The leader of Iraq is Haider al-Abadi and they speak Arabic. Fallujah which is located in Iraq is served by the Al-Taqaddum air base.',\n",
    " 'Fallujah is served by the Al Taqaddum air base and is located in Iraq which is lead by Haider Al Abadi and the Arabic language is spoken and.',\n",
    " 'The Al Taqaddum Air Base serves the city of Fallujah, Iraq. Haider Al-Abadi is a leader in Iraq whose language is Arabic.',\n",
    " 'In Iraq there are two leaders: Haider Al-Abadi and Fuad Madum. Fallujah in Iraq is served by Al-Taqaddum.',\n",
    " 'The Al Taqaddum Air Base serves the city of Fallujah, Iraq. Two leaders of Iraq are Haider al-Abadi and Fuad Masum.',\n",
    " 'Al-Taqaddum Air Base serves the city of Fallujah in Iraq, the country where there are leaders called Haider al-Abadi and Fuad Masum.',\n",
    " 'The Al Taqaddum Air Base serves the city of Fallujah @ Iraq. Kurdish is spoken in Iraq where Haider al-Abadi and Fuad Masum are leaders.',\n",
    " 'Al-Taqaddum Air base serves the city of Fallujah in Iraq. Haider al-Abadi is the prime minister of the country and the president is called Fuad Masum(a kurdish politician).Kurdish is one of the spoken languages of Iraq.',\n",
    " 'Al-Taqaddum Air Base serves the city of Fallujah in Iraq. The Kurdish languages are spoken in Iraq, where there are leaders called Haider Al-Abadi and Fuad Masum.',\n",
    " 'Al-Taqaddum Air Base serves the city of Fallujah in Iraq. Haider al-Abadi is the prime minister and Fuad Masum is the president of Iraq. The currency of Iraq is the Iraqi dinar.',\n",
    " 'Al-Taqaddum Air Base serves the city of Fallujah in Iraq. Iraq is led by President Fuad Masum and Prime minister Haider al-Abadi.The currency in Iraq is the Iraqi dinar.',\n",
    " 'Haider al-Abadi is the name of the leader of Iraq, where the currency is the Iraqi dinar and where the Al Taqaddum Air Base serves the city of Fallujah, Iraq. Fuad Masum is another leader in the country.',\n",
    " 'Al-Taqaddum Air Base serves the city of Fallujah in Iraq. Haider Al-Abadi and Fuad Masum are two leaders in Iraq where the official language is Arabic.',\n",
    " 'Al-Taqaddum Air Base serves the city of Fallujah which is in Iraq and is led by Fuad Masum. Arabic is spoken in the country which has Haider Al-Abadi as its leader.',\n",
    " 'Fallujah , Iraq is served by an airbase called Al-Taqaddum. Iraq is led by Haider al-Abadi and Fuad Masum and the official language of the country is Arabic.']\n",
    "\n",
    "texts = [t.lower() for t in texts]\n",
    "\n",
    "hypothesis = ['fallujah is located in the country of iraq.',\n",
    " 'fallujah  is located in the country of iraq.',\n",
    " 'fallujah is in the country of iraq.',\n",
    " 'fallujah  is in the country of iraq.',\n",
    " 'fallujah is located in iraq']"
   ]
  },
  {
   "cell_type": "code",
   "execution_count": 147,
   "metadata": {},
   "outputs": [],
   "source": [
    "import sys\n",
    "sys.path.append('../evaluation/')\n",
    "from evaluate import normalize_text"
   ]
  },
  {
   "cell_type": "code",
   "execution_count": 148,
   "metadata": {},
   "outputs": [
    {
     "data": {
      "text/plain": [
       "['al',\n",
       " '-',\n",
       " 'taqaddum',\n",
       " 'air',\n",
       " 'base',\n",
       " 'serves',\n",
       " 'the',\n",
       " 'city',\n",
       " 'of',\n",
       " 'fallujah',\n",
       " 'which',\n",
       " 'is',\n",
       " 'in',\n",
       " 'iraq',\n",
       " '.']"
      ]
     },
     "execution_count": 148,
     "metadata": {},
     "output_type": "execute_result"
    }
   ],
   "source": [
    "from nltk import word_tokenize, sent_tokenize\n",
    "\n",
    "tokenized_texts = [normalize_text(s).split() for t in texts for s in sent_tokenize(t)]\n",
    "\n",
    "tokenized_texts[0]"
   ]
  },
  {
   "cell_type": "code",
   "execution_count": 149,
   "metadata": {},
   "outputs": [],
   "source": [
    "n = 3\n",
    "train_data, padded_sents = padded_everygram_pipeline(n, tokenized_texts)"
   ]
  },
  {
   "cell_type": "code",
   "execution_count": 150,
   "metadata": {},
   "outputs": [],
   "source": [
    "from nltk.lm import MLE, Laplace\n",
    "\n",
    "model = Laplace(n)"
   ]
  },
  {
   "cell_type": "code",
   "execution_count": 151,
   "metadata": {},
   "outputs": [
    {
     "data": {
      "text/plain": [
       "72"
      ]
     },
     "execution_count": 151,
     "metadata": {},
     "output_type": "execute_result"
    }
   ],
   "source": [
    "model.fit(train_data, padded_sents)\n",
    "\n",
    "len(model.vocab)"
   ]
  },
  {
   "cell_type": "code",
   "execution_count": 173,
   "metadata": {},
   "outputs": [],
   "source": [
    "def score(sent):\n",
    "    \n",
    "    tokenized = normalize_text(sent).split()\n",
    "    \n",
    "    return sum(model.logscore(trigram[-1], trigram[:-1])\n",
    "               for trigram in ngrams(pad_both_ends(tokenized, n=n), n=n)) / len(tokenized)\n",
    "\n",
    "def verbose_score(sent):\n",
    "    \n",
    "    tokenized = normalize_text(sent).split()\n",
    "    \n",
    "    scores = []\n",
    "    \n",
    "    for trigram in ngrams(pad_both_ends(tokenized, n=n), n=n):\n",
    "        \n",
    "        score = model.logscore(trigram[-1], trigram[:-1])\n",
    "        \n",
    "        print('{} - {}'.format(score, trigram))\n",
    "        \n",
    "        scores.append(score)\n",
    "        \n",
    "    return sum(scores)"
   ]
  },
  {
   "cell_type": "code",
   "execution_count": 174,
   "metadata": {},
   "outputs": [
    {
     "data": {
      "text/plain": [
       "['fallujah is located in the country of iraq.',\n",
       " 'fallujah  is located in the country of iraq.',\n",
       " 'fallujah is in the country of iraq.',\n",
       " 'fallujah  is in the country of iraq.',\n",
       " 'fallujah is located in iraq']"
      ]
     },
     "execution_count": 174,
     "metadata": {},
     "output_type": "execute_result"
    }
   ],
   "source": [
    "sorted(hypothesis, key=score, reverse=True)"
   ]
  },
  {
   "cell_type": "code",
   "execution_count": 57,
   "metadata": {},
   "outputs": [
    {
     "data": {
      "text/plain": [
       "<bound method LanguageModel.logscore of <nltk.lm.models.MLE object at 0x7f86885115c0>>"
      ]
     },
     "execution_count": 57,
     "metadata": {},
     "output_type": "execute_result"
    }
   ],
   "source": [
    "model.logscore"
   ]
  },
  {
   "cell_type": "code",
   "execution_count": 175,
   "metadata": {},
   "outputs": [
    {
     "name": "stdout",
     "output_type": "stream",
     "text": [
      "-5.337392817364925 - fallujah is located in the country of iraq.\n",
      "-5.337392817364925 - fallujah  is located in the country of iraq.\n",
      "-5.475964583223556 - fallujah is in the country of iraq.\n",
      "-5.475964583223556 - fallujah  is in the country of iraq.\n",
      "-7.457994437775684 - fallujah is located in iraq\n"
     ]
    }
   ],
   "source": [
    "for h in hypothesis:\n",
    "    print('{} - {}'.format(score(h), h))"
   ]
  },
  {
   "cell_type": "code",
   "execution_count": 176,
   "metadata": {},
   "outputs": [
    {
     "name": "stdout",
     "output_type": "stream",
     "text": [
      "-4.620586410451877 - ('<s>', '<s>', 'fallujah')\n",
      "-5.247927513443585 - ('<s>', 'fallujah', 'is')\n",
      "-6.189824558880018 - ('fallujah', 'is', 'in')\n",
      "-6.247927513443586 - ('is', 'in', 'the')\n",
      "-4.228818690495881 - ('in', 'the', 'country')\n",
      "-5.321928094887363 - ('the', 'country', 'of')\n",
      "-4.624490864907794 - ('country', 'of', 'iraq')\n",
      "-4.053111336459563 - ('of', 'iraq', '.')\n",
      "-2.0310268956206246 - ('iraq', '.', '</s>')\n",
      "-1.2420747871981477 - ('.', '</s>', '</s>')\n"
     ]
    },
    {
     "data": {
      "text/plain": [
       "-43.80771666578845"
      ]
     },
     "execution_count": 176,
     "metadata": {},
     "output_type": "execute_result"
    }
   ],
   "source": [
    "verbose_score(hypothesis[2])"
   ]
  },
  {
   "cell_type": "code",
   "execution_count": 177,
   "metadata": {},
   "outputs": [
    {
     "name": "stdout",
     "output_type": "stream",
     "text": [
      "-4.620586410451877 - ('<s>', '<s>', 'fallujah')\n",
      "-5.247927513443585 - ('<s>', 'fallujah', 'is')\n",
      "-6.189824558880018 - ('fallujah', 'is', 'located')\n",
      "-4.228818690495881 - ('is', 'located', 'in')\n",
      "-4.247927513443586 - ('located', 'in', 'iraq')\n",
      "-6.584962500721156 - ('in', 'iraq', '</s>')\n",
      "-6.169925001442312 - ('iraq', '</s>', '</s>')\n"
     ]
    },
    {
     "data": {
      "text/plain": [
       "-37.28997218887842"
      ]
     },
     "execution_count": 177,
     "metadata": {},
     "output_type": "execute_result"
    }
   ],
   "source": [
    "verbose_score(hypothesis[-1])"
   ]
  }
 ],
 "metadata": {
  "kernelspec": {
   "display_name": "Python 3",
   "language": "python",
   "name": "python3"
  },
  "language_info": {
   "codemirror_mode": {
    "name": "ipython",
    "version": 3
   },
   "file_extension": ".py",
   "mimetype": "text/x-python",
   "name": "python",
   "nbconvert_exporter": "python",
   "pygments_lexer": "ipython3",
   "version": "3.6.7"
  }
 },
 "nbformat": 4,
 "nbformat_minor": 2
}
