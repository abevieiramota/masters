{
 "cells": [
  {
   "cell_type": "markdown",
   "metadata": {},
   "source": [
    "Reportar statisticas sobre os databases, referência e templates. \n",
    "\n",
    "Histograma da quantidade de templates por estrutura, de referências por identificador; \n",
    "\n",
    "casos de templates estranhos, \n",
    "\n",
    "referências ruins - com mais informação que ser uma mera referência, como o test pilot Elliot See, com erro typo, wrong 1st 2nd; \n",
    "\n",
    "\n",
    "estatística de uso de fallback template - por subset!"
   ]
  },
  {
   "cell_type": "code",
   "execution_count": 3,
   "metadata": {},
   "outputs": [],
   "source": [
    "import sys\n",
    "sys.path.append('../template_model/')"
   ]
  },
  {
   "cell_type": "code",
   "execution_count": 5,
   "metadata": {},
   "outputs": [],
   "source": [
    "from pretrained_models import *"
   ]
  },
  {
   "cell_type": "markdown",
   "metadata": {},
   "source": [
    "# Estatísticas sobre os databases - templates"
   ]
  },
  {
   "cell_type": "markdown",
   "metadata": {},
   "source": [
    "template_db = load_template_db(('train', 'dev'))\n",
    "tdb = template_db.template_db_data"
   ]
  },
  {
   "cell_type": "code",
   "execution_count": 12,
   "metadata": {},
   "outputs": [
    {
     "data": {
      "text/plain": [
       "'Número de estruturas diferentes: 4829'"
      ]
     },
     "execution_count": 12,
     "metadata": {},
     "output_type": "execute_result"
    }
   ],
   "source": [
    "f'Número de estruturas diferentes: {len(tdb)}'"
   ]
  },
  {
   "cell_type": "code",
   "execution_count": 42,
   "metadata": {},
   "outputs": [
    {
     "data": {
      "text/plain": [
       "'Número de templates diferentes: 18777'"
      ]
     },
     "execution_count": 42,
     "metadata": {},
     "output_type": "execute_result"
    }
   ],
   "source": [
    "f'Número de templates diferentes: {sum(len(ts) for ts in tdb.values())}'"
   ]
  },
  {
   "cell_type": "code",
   "execution_count": 17,
   "metadata": {},
   "outputs": [],
   "source": [
    "from collections import Counter\n",
    "import pandas as pd\n",
    "%matplotlib inline"
   ]
  },
  {
   "cell_type": "code",
   "execution_count": 72,
   "metadata": {},
   "outputs": [
    {
     "data": {
      "text/plain": [
       "count    4829.000000\n",
       "mean        3.888383\n",
       "std         8.903664\n",
       "min         1.000000\n",
       "50%         1.000000\n",
       "90%         8.000000\n",
       "99%        41.000000\n",
       "max       158.000000\n",
       "dtype: float64"
      ]
     },
     "execution_count": 72,
     "metadata": {},
     "output_type": "execute_result"
    }
   ],
   "source": [
    "s_n_templates = pd.Series({k: len(v) for k, v in tdb.items()})\n",
    "s_n_templates.describe(percentiles=[.5, .9, .99])"
   ]
  },
  {
   "cell_type": "markdown",
   "metadata": {},
   "source": [
    "## Templates mais frequentes"
   ]
  },
  {
   "cell_type": "code",
   "execution_count": 73,
   "metadata": {},
   "outputs": [
    {
     "data": {
      "text/plain": [
       "(slot0, region, slot1)        158\n",
       "(slot0, country, slot1)       150\n",
       "(slot0, country, slot1)       138\n",
       "(slot0, manager, slot1)       137\n",
       "(slot0, ingredient, slot1)    135\n",
       "dtype: int64"
      ]
     },
     "execution_count": 73,
     "metadata": {},
     "output_type": "execute_result"
    }
   ],
   "source": [
    "s_n_templates.nlargest(5)"
   ]
  },
  {
   "cell_type": "markdown",
   "metadata": {},
   "source": [
    "# Estatísticas sobre os databases - Referências"
   ]
  },
  {
   "cell_type": "code",
   "execution_count": 74,
   "metadata": {},
   "outputs": [],
   "source": [
    "ref = load_referrer(('train', 'dev'), 'abe', 3)\n",
    "ref_db = ref.ref_db"
   ]
  },
  {
   "cell_type": "code",
   "execution_count": 75,
   "metadata": {},
   "outputs": [],
   "source": [
    "ref_1st = ref_db['1st']\n",
    "ref_2nd = ref_db['2nd']"
   ]
  },
  {
   "cell_type": "code",
   "execution_count": 76,
   "metadata": {},
   "outputs": [
    {
     "name": "stdout",
     "output_type": "stream",
     "text": [
      "Número de identificadores 1st: 1771\n",
      "Número de referências: 7308\n"
     ]
    }
   ],
   "source": [
    "print(f'Número de identificadores 1st: {len(ref_1st)}\\nNúmero de referências: {sum(len(r) for r in ref_1st.values())}')"
   ]
  },
  {
   "cell_type": "code",
   "execution_count": 77,
   "metadata": {},
   "outputs": [
    {
     "name": "stdout",
     "output_type": "stream",
     "text": [
      "Número de identificadores 2nd: 432\n",
      "Número de referências: 1946\n"
     ]
    }
   ],
   "source": [
    "print(f'Número de identificadores 2nd: {len(ref_2nd)}\\nNúmero de referências: {sum(len(r) for r in ref_2nd.values())}')"
   ]
  },
  {
   "cell_type": "code",
   "execution_count": 78,
   "metadata": {},
   "outputs": [],
   "source": [
    "s_1st = pd.Series({k: len(v) for k, v in ref_1st.items()})\n",
    "s_2nd = pd.Series({k: len(v) for k, v in ref_2nd.items()})"
   ]
  },
  {
   "cell_type": "code",
   "execution_count": 79,
   "metadata": {},
   "outputs": [
    {
     "data": {
      "text/plain": [
       "count    1771.000000\n",
       "mean        4.126482\n",
       "std         5.183833\n",
       "min         1.000000\n",
       "50%         3.000000\n",
       "90%         9.000000\n",
       "max       130.000000\n",
       "dtype: float64"
      ]
     },
     "execution_count": 79,
     "metadata": {},
     "output_type": "execute_result"
    }
   ],
   "source": [
    "s_1st.describe(percentiles=[.5, .9])"
   ]
  },
  {
   "cell_type": "code",
   "execution_count": 80,
   "metadata": {},
   "outputs": [
    {
     "data": {
      "text/plain": [
       "United_States                                          130\n",
       "\"UT Austin, B.S. 1955\"                                  54\n",
       "\"Massachusetts Institute of Technology, Sc.D. 1963\"     54\n",
       "\"NWC, M.A. 1957\"                                        51\n",
       "\"AFIT, M.S. 1962\"                                       35\n",
       "dtype: int64"
      ]
     },
     "execution_count": 80,
     "metadata": {},
     "output_type": "execute_result"
    }
   ],
   "source": [
    "s_1st.nlargest(5)"
   ]
  },
  {
   "cell_type": "code",
   "execution_count": 83,
   "metadata": {},
   "outputs": [
    {
     "data": {
      "text/plain": [
       "{'a fictional character',\n",
       " 'a test pilot',\n",
       " 'a u . s . national',\n",
       " 'a united states',\n",
       " 'a united states citizen',\n",
       " 'a united states national',\n",
       " 'a us',\n",
       " 'a us citizen',\n",
       " 'a us national',\n",
       " 'a us nationality',\n",
       " 'aip advances',\n",
       " 'akron , ohio , united states',\n",
       " 'alpena county , michigan , in the u . s . a .',\n",
       " 'alpena county , michigan , u . s . a',\n",
       " 'alpena county , michigan , united states',\n",
       " 'alpena county , michigan , usa',\n",
       " 'alpena county michigan , united states',\n",
       " 'alpena county michigan , usa',\n",
       " 'america',\n",
       " 'american',\n",
       " 'americans',\n",
       " 'an american',\n",
       " 'an american born',\n",
       " 'an american citizen',\n",
       " 'an united states',\n",
       " 'atlantic county , united states',\n",
       " 'california in the u . s .',\n",
       " 'cities',\n",
       " 'city united states',\n",
       " 'georgia , in the united states',\n",
       " 'georgia in the united states',\n",
       " 'harbor township , new jersey , united states',\n",
       " 'harrietstown , new york united states',\n",
       " 'ice cream',\n",
       " 'illinois',\n",
       " 'illinois , u . s .',\n",
       " 'illinois , united states',\n",
       " 'illinois , us',\n",
       " 'illinois , usa',\n",
       " 'in indiana , in the united states',\n",
       " 'in new york , united states',\n",
       " 'indiana , in the united states',\n",
       " 'indiana in the u . s',\n",
       " 'indiana which is in the united states',\n",
       " 'madison county , in indiana , in the united states',\n",
       " 'madison county , indiana , u . s .',\n",
       " 'michigan , u . s . a .',\n",
       " 'n . j . , u . s .',\n",
       " 'nasa',\n",
       " 'new jersey',\n",
       " 'new jersey , in the united states',\n",
       " 'new jersey , the usa',\n",
       " 'new jersey , u . s .',\n",
       " 'new jersey , united states',\n",
       " 'new jersey , us',\n",
       " 'new jersey , usa',\n",
       " 'new mexico , in the united states',\n",
       " 'new york ( united states )',\n",
       " 'new york , the united states',\n",
       " 'new york , u . s .',\n",
       " 'new york , united states',\n",
       " 'new york , us',\n",
       " 'new york in the u . s',\n",
       " 'ohio , u . s',\n",
       " 'ohio , u . s .',\n",
       " 'ohio , united states',\n",
       " 'ohio , us',\n",
       " 'ohio , usa',\n",
       " 'ohio if the united states',\n",
       " 'ohio in the united states',\n",
       " 'st louis',\n",
       " 'summit county , united states',\n",
       " 'texas',\n",
       " 'texas , in the united states',\n",
       " 'texas , the united states',\n",
       " 'texas , u . s .',\n",
       " 'texas , united states',\n",
       " 'texas , us',\n",
       " 'texas , usa',\n",
       " 'texas united states',\n",
       " 'that country',\n",
       " 'the',\n",
       " 'the american',\n",
       " 'the american state',\n",
       " 'the american state of wisconsin',\n",
       " 'the city',\n",
       " 'the country',\n",
       " 'the country of united states',\n",
       " 'the country united states',\n",
       " 'the location',\n",
       " 'the state',\n",
       " 'the u . s',\n",
       " 'the u . s .',\n",
       " 'the u . s . a',\n",
       " 'the u . s . a .',\n",
       " \"the u . s . a . ' s\",\n",
       " 'the united',\n",
       " 'the united sates',\n",
       " 'the united state',\n",
       " 'the united states',\n",
       " 'the united states ,',\n",
       " 'the united states . two texan tidbits',\n",
       " 'the united states house of representatives',\n",
       " 'the united states of america',\n",
       " 'the united states of america ` s',\n",
       " 'the us',\n",
       " 'the us national',\n",
       " 'the usa',\n",
       " 'township , alpena county , michigan united states',\n",
       " 'u . s',\n",
       " 'u . s .',\n",
       " 'u . s . a',\n",
       " 'u . s . a .',\n",
       " \"united state ' s\",\n",
       " 'united stated',\n",
       " 'united states',\n",
       " 'united states citizen',\n",
       " 'united states national',\n",
       " 'united states of america',\n",
       " 'us',\n",
       " 'us national',\n",
       " 'us nationality',\n",
       " 'usa',\n",
       " 'virginia usa',\n",
       " 'winnebago county , wisconsin , united states',\n",
       " 'wisconsin , u . s . a',\n",
       " 'wisconsin , united states',\n",
       " 'wisconsin , usa',\n",
       " 'wisconsin in the united states',\n",
       " 'york city u . s .'}"
      ]
     },
     "execution_count": 83,
     "metadata": {},
     "output_type": "execute_result"
    }
   ],
   "source": [
    "ref_1st['United_States']"
   ]
  },
  {
   "cell_type": "code",
   "execution_count": 81,
   "metadata": {},
   "outputs": [
    {
     "data": {
      "text/plain": [
       "Acharya_Institute_of_Technology    48\n",
       "United_States                      43\n",
       "Alan_Shepard                       20\n",
       "United_States_Air_Force            20\n",
       "Alan_Bean                          18\n",
       "dtype: int64"
      ]
     },
     "execution_count": 81,
     "metadata": {},
     "output_type": "execute_result"
    }
   ],
   "source": [
    "s_2nd.nlargest(5)"
   ]
  },
  {
   "cell_type": "code",
   "execution_count": 82,
   "metadata": {},
   "outputs": [
    {
     "data": {
      "text/plain": [
       "{'acharya institute of technology',\n",
       " 'g . p . prabhukumar . acharya institute',\n",
       " 'g . p . prabhukumar . it',\n",
       " 'g . p . prabhukumar . the institute',\n",
       " 'g . p . prabhukumar . the school',\n",
       " \"g . p . prabhukumar . the school ' s\",\n",
       " 'his',\n",
       " 'institute',\n",
       " 'it',\n",
       " \"it ' s\",\n",
       " 'its',\n",
       " 'm . reddy . it',\n",
       " 'orange and the school',\n",
       " 'prabhukumar . it',\n",
       " 'reddy . it',\n",
       " 'reddy . its',\n",
       " 'reddy . the institute',\n",
       " 'reddy . the university itself',\n",
       " 'sarcapalli radhakrishnan road , hessarghatta main road , bangalore , 560090 , india . it',\n",
       " 'sarvapalli radhakishnan road , hessarghatta main road , bangalore , india , 560090 . it',\n",
       " 'sarvapalli radhakrishnan road , hessarghatta main road , bangalore , india ( 560090 ) . it',\n",
       " 'sarvapalli radhakrishnan road , hessarghatta main road , bangalore , india , 560090 . it',\n",
       " 'sarvapalli radhakrishnan road , hessarghatta main road , bangalore , karnataka , india , 560090 . it',\n",
       " 'sarvapalli radhakrishnan road , hessarghatta main road , bangalore , karnataka , india , 560090 . its',\n",
       " 'sarvapalli radhakrishnan road , hessarghatta main road , bangalore , karnatka , 560090 , india . its',\n",
       " 'sarvapalli radhakrishnan road , hessarghatta main road , bangalore , karnatka , 560090 , undia . its',\n",
       " 'sarvapalli radhakrishnan road , hessarghatta main road , bangalore , karnatka , 560090 . it',\n",
       " 'sarvapalli radhakrishnan road , hessarghatta main road , bangalore , karnatka , india , 560090 . the institute',\n",
       " 'sarvapalli radhakrishnan road , hessarghatta main road , bangalore - 560090 , india . it',\n",
       " 'sarvapalli radhakrishnan road , hessarghatta main road , bangalore - 560090 , india . the institute',\n",
       " 'sarvapalli radhakrishnan road , hessarghatta main road , bangalore - 560090 , india . the school',\n",
       " 'sarvapalli radhakrishnan road , hessarghatta main road , bangalore - 560090 . it',\n",
       " \"sarvapalli radhakrishnan road , hessarghatta main road , bangalore - 560090 . it ' s\",\n",
       " 'sarvapalli radhakrishnan road , hessarghatta main road , bangalore - 560090 . its',\n",
       " 'sarvapalli radhakrishnan road , hessarghatta main road , bangalore 560090 , india . it',\n",
       " 'sarvapalli radhakrishnan road , hessarghatta main road , karnataka , bangalore - 560090 , india . it',\n",
       " 'sarvapalli radharkrishnan road , hessarghatta main road , bangalore - 560090 , india . it',\n",
       " 'the acharya institute',\n",
       " 'the acharya institute of technology',\n",
       " 'the alcharya institute of technology',\n",
       " 'the campus',\n",
       " 'the institute',\n",
       " \"the institute ' s\",\n",
       " 'the institute itself',\n",
       " 'the school',\n",
       " \"the school ' s\",\n",
       " 'the university',\n",
       " 'their'}"
      ]
     },
     "execution_count": 82,
     "metadata": {},
     "output_type": "execute_result"
    }
   ],
   "source": [
    "ref_2nd['Acharya_Institute_of_Technology']"
   ]
  },
  {
   "cell_type": "code",
   "execution_count": null,
   "metadata": {},
   "outputs": [],
   "source": []
  }
 ],
 "metadata": {
  "kernelspec": {
   "display_name": "Python 3",
   "language": "python",
   "name": "python3"
  },
  "language_info": {
   "codemirror_mode": {
    "name": "ipython",
    "version": 3
   },
   "file_extension": ".py",
   "mimetype": "text/x-python",
   "name": "python",
   "nbconvert_exporter": "python",
   "pygments_lexer": "ipython3",
   "version": "3.6.7"
  }
 },
 "nbformat": 4,
 "nbformat_minor": 2
}
