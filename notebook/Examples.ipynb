{
 "cells": [
  {
   "cell_type": "markdown",
   "metadata": {},
   "source": [
    "# Evaluation"
   ]
  },
  {
   "cell_type": "code",
   "execution_count": 1,
   "metadata": {},
   "outputs": [],
   "source": [
    "%run ../evaluation/evaluate.py"
   ]
  },
  {
   "cell_type": "code",
   "execution_count": 3,
   "metadata": {},
   "outputs": [],
   "source": [
    "preprocess_model_to_evaluate('../data/models/test/43434_1111_00/43434_1111_00.txt', 'test')"
   ]
  },
  {
   "cell_type": "code",
   "execution_count": 4,
   "metadata": {},
   "outputs": [
    {
     "data": {
      "text/plain": [
       "[{'subset': '1size',\n",
       "  'references': [0, 1, 2],\n",
       "  'metric': 'bleu',\n",
       "  'value': '56.70'},\n",
       " {'subset': '1size',\n",
       "  'references': [0, 1, 2],\n",
       "  'metric': 'bleu_1',\n",
       "  'value': '90.0'},\n",
       " {'subset': '1size',\n",
       "  'references': [0, 1, 2],\n",
       "  'metric': 'bleu_2',\n",
       "  'value': '71.4'},\n",
       " {'subset': '1size',\n",
       "  'references': [0, 1, 2],\n",
       "  'metric': 'bleu_3',\n",
       "  'value': '56.0'},\n",
       " {'subset': '1size',\n",
       "  'references': [0, 1, 2],\n",
       "  'metric': 'bleu_4',\n",
       "  'value': '45.6'},\n",
       " {'subset': '1size',\n",
       "  'references': [0, 1, 2],\n",
       "  'metric': 'meteor',\n",
       "  'value': '0.4577942003398429'},\n",
       " {'subset': '1size',\n",
       "  'references': [0, 1, 2],\n",
       "  'metric': 'ter',\n",
       "  'value': '0.2796723446550366'},\n",
       " {'subset': '1size',\n",
       "  'references': [0, 1, 2],\n",
       "  'metric': 'avg_n_tokens',\n",
       "  'value': 9.017621145374449},\n",
       " {'subset': '1size',\n",
       "  'references': [0, 1, 2],\n",
       "  'metric': 'avg_n_stop_words',\n",
       "  'value': 0.18466047874938935},\n",
       " {'subset': '1size',\n",
       "  'references': [0, 1, 2],\n",
       "  'metric': 'macro_avg_n_stop_words',\n",
       "  'value': 0.18035381301236053},\n",
       " {'subset': '2size',\n",
       "  'references': [0, 1, 2],\n",
       "  'metric': 'bleu',\n",
       "  'value': '48.61'},\n",
       " {'subset': '2size',\n",
       "  'references': [0, 1, 2],\n",
       "  'metric': 'bleu_1',\n",
       "  'value': '78.2'},\n",
       " {'subset': '2size',\n",
       "  'references': [0, 1, 2],\n",
       "  'metric': 'bleu_2',\n",
       "  'value': '58.1'},\n",
       " {'subset': '2size',\n",
       "  'references': [0, 1, 2],\n",
       "  'metric': 'bleu_3',\n",
       "  'value': '42.5'},\n",
       " {'subset': '2size',\n",
       "  'references': [0, 1, 2],\n",
       "  'metric': 'bleu_4',\n",
       "  'value': '31.8'},\n",
       " {'subset': '2size',\n",
       "  'references': [0, 1, 2],\n",
       "  'metric': 'meteor',\n",
       "  'value': '0.4139729170577099'},\n",
       " {'subset': '2size',\n",
       "  'references': [0, 1, 2],\n",
       "  'metric': 'ter',\n",
       "  'value': '0.4180557847829677'},\n",
       " {'subset': '2size',\n",
       "  'references': [0, 1, 2],\n",
       "  'metric': 'avg_n_tokens',\n",
       "  'value': 16.375358166189113},\n",
       " {'subset': '2size',\n",
       "  'references': [0, 1, 2],\n",
       "  'metric': 'avg_n_stop_words',\n",
       "  'value': 0.2099737532808399},\n",
       " {'subset': '2size',\n",
       "  'references': [0, 1, 2],\n",
       "  'metric': 'macro_avg_n_stop_words',\n",
       "  'value': 0.21554774567366838},\n",
       " {'subset': '3size',\n",
       "  'references': [0, 1, 2],\n",
       "  'metric': 'bleu',\n",
       "  'value': '41.49'},\n",
       " {'subset': '3size',\n",
       "  'references': [0, 1, 2],\n",
       "  'metric': 'bleu_1',\n",
       "  'value': '74.1'},\n",
       " {'subset': '3size',\n",
       "  'references': [0, 1, 2],\n",
       "  'metric': 'bleu_2',\n",
       "  'value': '50.6'},\n",
       " {'subset': '3size',\n",
       "  'references': [0, 1, 2],\n",
       "  'metric': 'bleu_3',\n",
       "  'value': '34.2'},\n",
       " {'subset': '3size',\n",
       "  'references': [0, 1, 2],\n",
       "  'metric': 'bleu_4',\n",
       "  'value': '23.1'},\n",
       " {'subset': '3size',\n",
       "  'references': [0, 1, 2],\n",
       "  'metric': 'meteor',\n",
       "  'value': '0.3846359918417654'},\n",
       " {'subset': '3size',\n",
       "  'references': [0, 1, 2],\n",
       "  'metric': 'ter',\n",
       "  'value': '0.5145196918269488'},\n",
       " {'subset': '3size',\n",
       "  'references': [0, 1, 2],\n",
       "  'metric': 'avg_n_tokens',\n",
       "  'value': 23.8860103626943},\n",
       " {'subset': '3size',\n",
       "  'references': [0, 1, 2],\n",
       "  'metric': 'avg_n_stop_words',\n",
       "  'value': 0.22765726681127982},\n",
       " {'subset': '3size',\n",
       "  'references': [0, 1, 2],\n",
       "  'metric': 'macro_avg_n_stop_words',\n",
       "  'value': 0.2370820764479412},\n",
       " {'subset': '4size',\n",
       "  'references': [0, 1, 2],\n",
       "  'metric': 'bleu',\n",
       "  'value': '42.24'},\n",
       " {'subset': '4size',\n",
       "  'references': [0, 1, 2],\n",
       "  'metric': 'bleu_1',\n",
       "  'value': '73.3'},\n",
       " {'subset': '4size',\n",
       "  'references': [0, 1, 2],\n",
       "  'metric': 'bleu_2',\n",
       "  'value': '50.9'},\n",
       " {'subset': '4size',\n",
       "  'references': [0, 1, 2],\n",
       "  'metric': 'bleu_3',\n",
       "  'value': '35.1'},\n",
       " {'subset': '4size',\n",
       "  'references': [0, 1, 2],\n",
       "  'metric': 'bleu_4',\n",
       "  'value': '24.3'},\n",
       " {'subset': '4size',\n",
       "  'references': [0, 1, 2],\n",
       "  'metric': 'meteor',\n",
       "  'value': '0.3810059085738388'},\n",
       " {'subset': '4size',\n",
       "  'references': [0, 1, 2],\n",
       "  'metric': 'ter',\n",
       "  'value': '0.5428994959976283'},\n",
       " {'subset': '4size',\n",
       "  'references': [0, 1, 2],\n",
       "  'metric': 'avg_n_tokens',\n",
       "  'value': 31.765840220385677},\n",
       " {'subset': '4size',\n",
       "  'references': [0, 1, 2],\n",
       "  'metric': 'avg_n_stop_words',\n",
       "  'value': 0.2246986384528662},\n",
       " {'subset': '4size',\n",
       "  'references': [0, 1, 2],\n",
       "  'metric': 'macro_avg_n_stop_words',\n",
       "  'value': 0.23425615805516067},\n",
       " {'subset': '5size',\n",
       "  'references': [0, 1, 2],\n",
       "  'metric': 'bleu',\n",
       "  'value': '38.16'},\n",
       " {'subset': '5size',\n",
       "  'references': [0, 1, 2],\n",
       "  'metric': 'bleu_1',\n",
       "  'value': '72.4'},\n",
       " {'subset': '5size',\n",
       "  'references': [0, 1, 2],\n",
       "  'metric': 'bleu_2',\n",
       "  'value': '48.0'},\n",
       " {'subset': '5size',\n",
       "  'references': [0, 1, 2],\n",
       "  'metric': 'bleu_3',\n",
       "  'value': '30.8'},\n",
       " {'subset': '5size',\n",
       "  'references': [0, 1, 2],\n",
       "  'metric': 'bleu_4',\n",
       "  'value': '19.8'},\n",
       " {'subset': '5size',\n",
       "  'references': [0, 1, 2],\n",
       "  'metric': 'meteor',\n",
       "  'value': '0.366716005259249'},\n",
       " {'subset': '5size',\n",
       "  'references': [0, 1, 2],\n",
       "  'metric': 'ter',\n",
       "  'value': '0.5931727045275386'},\n",
       " {'subset': '5size',\n",
       "  'references': [0, 1, 2],\n",
       "  'metric': 'avg_n_tokens',\n",
       "  'value': 38.06792452830189},\n",
       " {'subset': '5size',\n",
       "  'references': [0, 1, 2],\n",
       "  'metric': 'avg_n_stop_words',\n",
       "  'value': 0.2470261697065821},\n",
       " {'subset': '5size',\n",
       "  'references': [0, 1, 2],\n",
       "  'metric': 'macro_avg_n_stop_words',\n",
       "  'value': 0.25657393328821265},\n",
       " {'subset': '6size',\n",
       "  'references': [0, 1, 2],\n",
       "  'metric': 'bleu',\n",
       "  'value': '55.75'},\n",
       " {'subset': '6size',\n",
       "  'references': [0, 1, 2],\n",
       "  'metric': 'bleu_1',\n",
       "  'value': '85.1'},\n",
       " {'subset': '6size',\n",
       "  'references': [0, 1, 2],\n",
       "  'metric': 'bleu_2',\n",
       "  'value': '64.2'},\n",
       " {'subset': '6size',\n",
       "  'references': [0, 1, 2],\n",
       "  'metric': 'bleu_3',\n",
       "  'value': '48.4'},\n",
       " {'subset': '6size',\n",
       "  'references': [0, 1, 2],\n",
       "  'metric': 'bleu_4',\n",
       "  'value': '36.5'},\n",
       " {'subset': '6size',\n",
       "  'references': [0, 1, 2],\n",
       "  'metric': 'meteor',\n",
       "  'value': '0.4108849255061063'},\n",
       " {'subset': '6size',\n",
       "  'references': [0, 1, 2],\n",
       "  'metric': 'ter',\n",
       "  'value': '0.4384962406015038'},\n",
       " {'subset': '6size',\n",
       "  'references': [0, 1, 2],\n",
       "  'metric': 'avg_n_tokens',\n",
       "  'value': 46.0},\n",
       " {'subset': '6size',\n",
       "  'references': [0, 1, 2],\n",
       "  'metric': 'avg_n_stop_words',\n",
       "  'value': 0.3822463768115942},\n",
       " {'subset': '6size',\n",
       "  'references': [0, 1, 2],\n",
       "  'metric': 'macro_avg_n_stop_words',\n",
       "  'value': 0.3810678256867581},\n",
       " {'subset': '7size',\n",
       "  'references': [0, 1, 2],\n",
       "  'metric': 'bleu',\n",
       "  'value': '50.94'},\n",
       " {'subset': '7size',\n",
       "  'references': [0, 1, 2],\n",
       "  'metric': 'bleu_1',\n",
       "  'value': '84.4'},\n",
       " {'subset': '7size',\n",
       "  'references': [0, 1, 2],\n",
       "  'metric': 'bleu_2',\n",
       "  'value': '62.1'},\n",
       " {'subset': '7size',\n",
       "  'references': [0, 1, 2],\n",
       "  'metric': 'bleu_3',\n",
       "  'value': '44.5'},\n",
       " {'subset': '7size',\n",
       "  'references': [0, 1, 2],\n",
       "  'metric': 'bleu_4',\n",
       "  'value': '32.1'},\n",
       " {'subset': '7size',\n",
       "  'references': [0, 1, 2],\n",
       "  'metric': 'meteor',\n",
       "  'value': '0.40390819811990214'},\n",
       " {'subset': '7size',\n",
       "  'references': [0, 1, 2],\n",
       "  'metric': 'ter',\n",
       "  'value': '0.45167557066537156'},\n",
       " {'subset': '7size',\n",
       "  'references': [0, 1, 2],\n",
       "  'metric': 'avg_n_tokens',\n",
       "  'value': 48.523809523809526},\n",
       " {'subset': '7size',\n",
       "  'references': [0, 1, 2],\n",
       "  'metric': 'avg_n_stop_words',\n",
       "  'value': 0.38469087340529934},\n",
       " {'subset': '7size',\n",
       "  'references': [0, 1, 2],\n",
       "  'metric': 'macro_avg_n_stop_words',\n",
       "  'value': 0.38162519441591297},\n",
       " {'subset': 'new-cat',\n",
       "  'references': [0, 1, 2],\n",
       "  'metric': 'bleu',\n",
       "  'value': '30.78'},\n",
       " {'subset': 'new-cat',\n",
       "  'references': [0, 1, 2],\n",
       "  'metric': 'bleu_1',\n",
       "  'value': '65.4'},\n",
       " {'subset': 'new-cat',\n",
       "  'references': [0, 1, 2],\n",
       "  'metric': 'bleu_2',\n",
       "  'value': '41.2'},\n",
       " {'subset': 'new-cat',\n",
       "  'references': [0, 1, 2],\n",
       "  'metric': 'bleu_3',\n",
       "  'value': '24.3'},\n",
       " {'subset': 'new-cat',\n",
       "  'references': [0, 1, 2],\n",
       "  'metric': 'bleu_4',\n",
       "  'value': '13.7'},\n",
       " {'subset': 'new-cat',\n",
       "  'references': [0, 1, 2],\n",
       "  'metric': 'meteor',\n",
       "  'value': '0.355954812736697'},\n",
       " {'subset': 'new-cat',\n",
       "  'references': [0, 1, 2],\n",
       "  'metric': 'ter',\n",
       "  'value': '0.6147609095258475'},\n",
       " {'subset': 'new-cat',\n",
       "  'references': [0, 1, 2],\n",
       "  'metric': 'avg_n_tokens',\n",
       "  'value': 22.728395061728396},\n",
       " {'subset': 'new-cat',\n",
       "  'references': [0, 1, 2],\n",
       "  'metric': 'avg_n_stop_words',\n",
       "  'value': 0.10908103303540566},\n",
       " {'subset': 'new-cat',\n",
       "  'references': [0, 1, 2],\n",
       "  'metric': 'macro_avg_n_stop_words',\n",
       "  'value': 0.10711044401609504}]"
      ]
     },
     "execution_count": 4,
     "metadata": {},
     "output_type": "execute_result"
    }
   ],
   "source": [
    "evaluate_system('43434_1111_00', 'test')"
   ]
  },
  {
   "cell_type": "markdown",
   "metadata": {},
   "source": [
    "# Dataset"
   ]
  },
  {
   "cell_type": "code",
   "execution_count": 2,
   "metadata": {},
   "outputs": [],
   "source": [
    "import sys\n",
    "sys.path.append('../template_model')\n",
    "from reading_thiagos_templates import load_dataset, Entry"
   ]
  },
  {
   "cell_type": "code",
   "execution_count": 3,
   "metadata": {},
   "outputs": [],
   "source": [
    "train = load_dataset('train')\n",
    "dev = load_dataset('dev')\n",
    "test = load_dataset('test')"
   ]
  },
  {
   "cell_type": "code",
   "execution_count": 4,
   "metadata": {},
   "outputs": [
    {
     "name": "stdout",
     "output_type": "stream",
     "text": [
      "Number of entries\n",
      "train: 6940\n",
      "dev: 872\n",
      "test: 1862\n"
     ]
    }
   ],
   "source": [
    "print(f'Number of entries\\ntrain: {len(train)}\\ndev: {len(dev)}\\ntest: {len(test)}')"
   ]
  },
  {
   "cell_type": "code",
   "execution_count": 7,
   "metadata": {},
   "outputs": [
    {
     "name": "stdout",
     "output_type": "stream",
     "text": [
      "Number of references\n",
      "train: 18102\n",
      "dev: 2268\n",
      "test: 4928\n"
     ]
    }
   ],
   "source": [
    "print(f'Number of references\\ntrain: {sum(len(e.lexes) for e in train)}\\ndev: {sum(len(e.lexes) for e in dev)}\\ntest: {sum(len(e.lexes) for e in test)}')"
   ]
  },
  {
   "cell_type": "code",
   "execution_count": 7,
   "metadata": {},
   "outputs": [
    {
     "data": {
      "text/plain": [
       "Entry(eid='Id1', category='Airport', triples=(Triple(subject='Aarhus_Airport', predicate='cityServed', object='\"Aarhus, Denmark\"'),), lexes=({'text': 'The Aarhus is the airport of Aarhus, Denmark.', 'template': 'AGENT-1 is the airport of PATIENT-1.', 'comment': 'good', 'sorted_triples': [(Triple(subject='Aarhus_Airport', predicate='cityServed', object='\"Aarhus, Denmark\"'),)], 'references': [{'entity': 'Aarhus_Airport', 'tag': 'AGENT-1', 'type': 'description', 'ref': 'The Aarhus'}, {'entity': '\"Aarhus, Denmark\"', 'tag': 'PATIENT-1', 'type': 'name', 'ref': 'Aarhus , Denmark'}]}, {'text': 'Aarhus Airport serves the city of Aarhus, Denmark.', 'template': 'AGENT-1 serves the city of PATIENT-1.', 'comment': 'good', 'sorted_triples': [(Triple(subject='Aarhus_Airport', predicate='cityServed', object='\"Aarhus, Denmark\"'),)], 'references': [{'entity': 'Aarhus_Airport', 'tag': 'AGENT-1', 'type': 'name', 'ref': 'Aarhus Airport'}, {'entity': '\"Aarhus, Denmark\"', 'tag': 'PATIENT-1', 'type': 'name', 'ref': 'Aarhus , Denmark'}]}), entity_map={'AGENT-1': 'Aarhus_Airport', 'PATIENT-1': '\"Aarhus, Denmark\"'})"
      ]
     },
     "execution_count": 7,
     "metadata": {},
     "output_type": "execute_result"
    }
   ],
   "source": [
    "e = train[0]\n",
    "e"
   ]
  },
  {
   "cell_type": "code",
   "execution_count": 8,
   "metadata": {},
   "outputs": [
    {
     "data": {
      "text/plain": [
       "('Id1', 'Airport')"
      ]
     },
     "execution_count": 8,
     "metadata": {},
     "output_type": "execute_result"
    }
   ],
   "source": [
    "e.eid, e.category"
   ]
  },
  {
   "cell_type": "code",
   "execution_count": 9,
   "metadata": {},
   "outputs": [
    {
     "data": {
      "text/plain": [
       "Triple(subject='Aarhus_Airport', predicate='cityServed', object='\"Aarhus, Denmark\"')"
      ]
     },
     "execution_count": 9,
     "metadata": {},
     "output_type": "execute_result"
    }
   ],
   "source": [
    "e.triples[0]"
   ]
  },
  {
   "cell_type": "code",
   "execution_count": 10,
   "metadata": {},
   "outputs": [
    {
     "data": {
      "text/plain": [
       "{'text': 'The Aarhus is the airport of Aarhus, Denmark.',\n",
       " 'template': 'AGENT-1 is the airport of PATIENT-1.',\n",
       " 'comment': 'good',\n",
       " 'sorted_triples': [(Triple(subject='Aarhus_Airport', predicate='cityServed', object='\"Aarhus, Denmark\"'),)],\n",
       " 'references': [{'entity': 'Aarhus_Airport',\n",
       "   'tag': 'AGENT-1',\n",
       "   'type': 'description',\n",
       "   'ref': 'The Aarhus'},\n",
       "  {'entity': '\"Aarhus, Denmark\"',\n",
       "   'tag': 'PATIENT-1',\n",
       "   'type': 'name',\n",
       "   'ref': 'Aarhus , Denmark'}]}"
      ]
     },
     "execution_count": 10,
     "metadata": {},
     "output_type": "execute_result"
    }
   ],
   "source": [
    "e.lexes[0]"
   ]
  },
  {
   "cell_type": "code",
   "execution_count": 11,
   "metadata": {},
   "outputs": [
    {
     "data": {
      "text/plain": [
       "{'AGENT-1': 'Aarhus_Airport', 'PATIENT-1': '\"Aarhus, Denmark\"'}"
      ]
     },
     "execution_count": 11,
     "metadata": {},
     "output_type": "execute_result"
    }
   ],
   "source": [
    "e.entity_map"
   ]
  },
  {
   "cell_type": "code",
   "execution_count": null,
   "metadata": {},
   "outputs": [],
   "source": []
  }
 ],
 "metadata": {
  "kernelspec": {
   "display_name": "Python 3",
   "language": "python",
   "name": "python3"
  },
  "language_info": {
   "codemirror_mode": {
    "name": "ipython",
    "version": 3
   },
   "file_extension": ".py",
   "mimetype": "text/x-python",
   "name": "python",
   "nbconvert_exporter": "python",
   "pygments_lexer": "ipython3",
   "version": "3.6.7"
  }
 },
 "nbformat": 4,
 "nbformat_minor": 2
}
